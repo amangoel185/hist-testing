{
 "cells": [
  {
   "cell_type": "code",
   "execution_count": 1,
   "id": "ace6dd5c-9db3-486a-bdd9-870952329c63",
   "metadata": {},
   "outputs": [],
   "source": [
    "import hist\n",
    "import numpy as np\n",
    "from hist import Hist"
   ]
  },
  {
   "cell_type": "code",
   "execution_count": 2,
   "id": "b873c196-c56b-4533-b38a-2c4c5178992b",
   "metadata": {},
   "outputs": [
    {
     "name": "stdout",
     "output_type": "stream",
     "text": [
      "0.5\n",
      "1.5\n"
     ]
    }
   ],
   "source": [
    "# Method 1\n",
    "h = Hist(hist.axis.Regular(10, -5, 5, name=\"x\"), storage=hist.storage.Double())\n",
    "h.fill([1.5, 2.5], weight=[0.5, 1.5])\n",
    "\n",
    "print(h[1.5j])\n",
    "print(h[2.5j])"
   ]
  },
  {
   "cell_type": "code",
   "execution_count": 3,
   "id": "d3f800f0-4d2c-4933-82a7-3cb41f811431",
   "metadata": {},
   "outputs": [
    {
     "name": "stdout",
     "output_type": "stream",
     "text": [
      "1.0\n",
      "1.0\n"
     ]
    }
   ],
   "source": [
    "# Method 2\n",
    "h = (\n",
    "    Hist.new.Reg(10, 0, 1, name=\"x\")\n",
    "    .Reg(10, 0, 1, name=\"y\")\n",
    "    .Double()\n",
    "    .fill(x=[0.5, 0.5], y=[0.2, 0.6])\n",
    ")\n",
    "\n",
    "print(h[0.5j, 0.2j])\n",
    "print(h[0.5j, 0.6j])"
   ]
  },
  {
   "cell_type": "code",
   "execution_count": 4,
   "id": "e64b2104-02e5-48dc-90a7-acab15fb4351",
   "metadata": {},
   "outputs": [
    {
     "name": "stdout",
     "output_type": "stream",
     "text": [
      "1\n",
      "3\n"
     ]
    }
   ],
   "source": [
    "# Method 1\n",
    "h = Hist(hist.axis.Regular(10, -5, 5, name=\"x\"), storage=hist.storage.Int64())\n",
    "h.fill([1.5, 2.5, 2.5, 2.5])\n",
    "\n",
    "print(h[1.5j])\n",
    "print(h[2.5j])"
   ]
  },
  {
   "cell_type": "code",
   "execution_count": 5,
   "id": "8f822f63-b45f-415d-ab78-12534c589389",
   "metadata": {},
   "outputs": [
    {
     "name": "stdout",
     "output_type": "stream",
     "text": [
      "2\n"
     ]
    }
   ],
   "source": [
    "# Method 2\n",
    "h = (\n",
    "    Hist.new.Reg(10, 0, 1, name=\"x\")\n",
    "    .Int64()\n",
    "    .fill([0.5, 0.5])\n",
    ")\n",
    "\n",
    "print(h[0.5j])"
   ]
  }
 ],
 "metadata": {
  "kernelspec": {
   "display_name": "Python 3.9.5 64-bit ('hist': virtualenvwrapper)",
   "language": "python",
   "name": "python395jvsc74a57bd041098d0804160d5b7135365756022a9b8fe2c90b0ad32ef001667051bf16e688"
  },
  "language_info": {
   "codemirror_mode": {
    "name": "ipython",
    "version": 3
   },
   "file_extension": ".py",
   "mimetype": "text/x-python",
   "name": "python",
   "nbconvert_exporter": "python",
   "pygments_lexer": "ipython3",
   "version": "3.9.6"
  }
 },
 "nbformat": 4,
 "nbformat_minor": 5
}
