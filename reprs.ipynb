{
 "cells": [
  {
   "cell_type": "markdown",
   "id": "b30f7a5b-98d0-4079-89c4-511d3732e5eb",
   "metadata": {},
   "source": [
    "# examples for testing reprs"
   ]
  },
  {
   "cell_type": "code",
   "execution_count": 1,
   "id": "7b1171b0-1aa3-4011-8c63-b4192dbde115",
   "metadata": {},
   "outputs": [],
   "source": [
    "from hist import Hist\n",
    "import numpy as np"
   ]
  },
  {
   "cell_type": "code",
   "execution_count": 2,
   "id": "5204c521-c80c-4208-8b7d-67f98b1b6be4",
   "metadata": {
    "tags": []
   },
   "outputs": [
    {
     "name": "stdout",
     "output_type": "stream",
     "text": [
      "test1\n",
      "test2\n"
     ]
    },
    {
     "data": {
      "text/html": [
       "<html>\n",
       "<div style=\"display:flex; align-items:center;\">\n",
       "<div style=\"width:290px;\">\n",
       "<svg xmlns=\"http://www.w3.org/2000/svg\" viewBox=\"-10 -105 270 120\">\n",
       "<line x1=\"-5\" y1=\"0\" x2=\"255\" y2=\"0\" style=\"fill:none;stroke-width:2;stroke:currentColor\"/>\n",
       "<text text-anchor=\"middle\" x=\"0\" y=\"15\" style=\"fill:currentColor;\">\n",
       "1\n",
       "</text>\n",
       "<text text-anchor=\"middle\" x=\"250\" y=\"15\" style=\"fill:currentColor;\">\n",
       "2\n",
       "</text>\n",
       "<text text-anchor=\"middle\" x=\"125.0\" y=\"15\" style=\"fill:currentColor;\">\n",
       "nice\n",
       "</text>\n",
       "<polyline points=\"  0,0   0,-22.6   5,-22.6   5,-26.9  10,-26.9  10,-28.3  15,-28.3  15,-32.2  20,-32.2  20,-31.1  25,-31.1  25,-47.7  30,-47.7  30,-41.7  35,-41.7  35,-45.9  40,-45.9  40,-56.2  45,-56.2  45,-51.9  50,-51.9  50,-55.8  55,-55.8  55,-53.7  60,-53.7  60,-56.9  65,-56.9  65,-67.5  70,-67.5  70,-64  75,-64  75,-80.9  80,-80.9  80,-80.2  85,-80.2  85,-84.1  90,-84.1  90,-87.3  95,-87.3  95,-90.1 100,-90.1 100,-87.3 105,-87.3 105,-97.5 110,-97.5 110,-86.6 115,-86.6 115,-95.8 120,-95.8 120,-93.3 125,-93.3 125,-95.4 130,-95.4 130,-100 135,-100 135,-97.9 140,-97.9 140,-100 145,-100 145,-92.9 150,-92.9 150,-86.2 155,-86.2 155,-91.5 160,-91.5 160,-89 165,-89 165,-77 170,-77 170,-80.6 175,-80.6 175,-69.3 180,-69.3 180,-68.6 185,-68.6 185,-68.6 190,-68.6 190,-70 195,-70 195,-57.6 200,-57.6 200,-49.1 205,-49.1 205,-51.6 210,-51.6 210,-45.6 215,-45.6 215,-42.8 220,-42.8 220,-37.1 225,-37.1 225,-40.3 230,-40.3 230,-34.3 235,-34.3 235,-35 240,-35 240,-24.4 245,-24.4 245,-23 250,-23 250,0\" style=\"fill:none; stroke:currentColor;\"/>\n",
       "</svg>\n",
       "</div>\n",
       "<div style=\"flex=grow:1;\">\n",
       "Regular(50, 1, 2, name='test', label='nice')<br/>\n",
       "<hr style=\"margin-top:.2em; margin-bottom:.2em;\"/>\n",
       "Double() Σ=9036.0 <em>(10000.0 with flow)</em>\n",
       "\n",
       "</div>\n",
       "</div>\n",
       "</html>"
      ],
      "text/plain": [
       "Hist(Regular(50, 1, 2, name='test', label='nice'), storage=Double()) # Sum: 9036.0 (10000.0 with flow)"
      ]
     },
     "execution_count": 2,
     "metadata": {},
     "output_type": "execute_result"
    }
   ],
   "source": [
    "Hist.new.Reg(50, 1, 2, name = \"test\", label = \"nice\").Double().fill(np.random.normal(1.5, 0.3, 10_000))"
   ]
  },
  {
   "cell_type": "code",
   "execution_count": 10,
   "id": "ee26b1fb-20e2-43dd-ac6a-7a4c48f062ed",
   "metadata": {},
   "outputs": [
    {
     "name": "stdout",
     "output_type": "stream",
     "text": [
      "test1\n",
      "test2\n"
     ]
    },
    {
     "data": {
      "text/html": [
       "<html>\n",
       "<div style=\"display:flex; align-items:center;\">\n",
       "<div style=\"width:290px;\">\n",
       "<svg xmlns=\"http://www.w3.org/2000/svg\" viewBox=\"-10 -105 270 120\">\n",
       "<line x1=\"-5\" y1=\"0\" x2=\"255\" y2=\"0\" style=\"fill:none;stroke-width:2;stroke:currentColor\"/>\n",
       "<text text-anchor=\"middle\" x=\"0\" y=\"15\" style=\"fill:currentColor;\">\n",
       "-9\n",
       "</text>\n",
       "<text text-anchor=\"middle\" x=\"250\" y=\"15\" style=\"fill:currentColor;\">\n",
       "9\n",
       "</text>\n",
       "<text text-anchor=\"middle\" x=\"125.0\" y=\"15\" style=\"fill:currentColor;\">\n",
       "woah\n",
       "</text>\n",
       "<polyline points=\"  0,0   0,-71.4 13.8889,-71.4 13.8889,-100 27.7778,-100 27.7778,-71.4 41.6667,-71.4 41.6667,-42.9 55.5556,-42.9 55.5556,-14.3 69.4444,-14.3 69.4444,-100 83.3333,-100 83.3333,-57.1 97.2222,-57.1 97.2222,-71.4 111.111,-71.4 111.111,-28.6 125,-28.6 125,-57.1 138.889,-57.1 138.889,-28.6 152.778,-28.6 152.778,-14.3 166.667,-14.3 166.667,-14.3 180.556,-14.3 180.556,-28.6 194.444,-28.6 194.444,-14.3 208.333,-14.3 208.333,-14.3 222.222,-14.3 222.222,-28.6 236.111,-28.6 236.111,-0 250,-0 250,0\" style=\"fill:none; stroke:currentColor;\"/>\n",
       "</svg>\n",
       "</div>\n",
       "<div style=\"flex=grow:1;\">\n",
       "Integer(-9, 9, name='wohoo', label='woah')<br/>\n",
       "<hr style=\"margin-top:.2em; margin-bottom:.2em;\"/>\n",
       "Int64() Σ=53.0 <em>(108.0 with flow)</em>\n",
       "\n",
       "</div>\n",
       "</div>\n",
       "</html>"
      ],
      "text/plain": [
       "Hist(Integer(-9, 9, name='wohoo', label='woah'), storage=Int64()) # Sum: 53.0 (108.0 with flow)"
      ]
     },
     "execution_count": 10,
     "metadata": {},
     "output_type": "execute_result"
    }
   ],
   "source": [
    "Hist.new.Int(-9, 9, name = \"wohoo\", label = \"woah\").Int64().fill(np.random.normal(-9, 9, 108))"
   ]
  },
  {
   "cell_type": "code",
   "execution_count": 4,
   "id": "37709968-9f72-4aae-954e-0d464e8dac5b",
   "metadata": {},
   "outputs": [
    {
     "name": "stdout",
     "output_type": "stream",
     "text": [
      "test1\n",
      "test2\n"
     ]
    },
    {
     "data": {
      "text/html": [
       "<html>\n",
       "<div style=\"display:flex; align-items:center;\">\n",
       "<div style=\"width:290px;\">\n",
       "<svg xmlns=\"http://www.w3.org/2000/svg\" viewBox=\"-10 -105 270 120\">\n",
       "<line x1=\"-5\" y1=\"0\" x2=\"255\" y2=\"0\" style=\"fill:none;stroke-width:2;stroke:currentColor\"/>\n",
       "<text text-anchor=\"middle\" x=\"0\" y=\"15\" style=\"fill:currentColor;\">\n",
       "0\n",
       "</text>\n",
       "<text text-anchor=\"middle\" x=\"250\" y=\"15\" style=\"fill:currentColor;\">\n",
       "10\n",
       "</text>\n",
       "<text text-anchor=\"middle\" x=\"125.0\" y=\"15\" style=\"fill:currentColor;\">\n",
       "F\n",
       "</text>\n",
       "<polyline points=\"  0,0   0,-5.01  25,-5.01  25,-100  50,-100  50,-5.57  75,-5.57  75,-0 100,-0 100,-0 125,-0 125,-0 150,-0 150,-0 175,-0 175,-0 200,-0 200,-0 225,-0 225,-0 250,-0 250,0\" style=\"fill:none; stroke:currentColor;\"/>\n",
       "</svg>\n",
       "</div>\n",
       "<div style=\"flex=grow:1;\">\n",
       "IntCategory([0, 1, 2, 3, 4, 5, 6, 7, 8, 9], name='E', label='F')<br/>\n",
       "<hr style=\"margin-top:.2em; margin-bottom:.2em;\"/>\n",
       "Int64() Σ=10000.0\n",
       "\n",
       "</div>\n",
       "</div>\n",
       "</html>"
      ],
      "text/plain": [
       "Hist(IntCategory([0, 1, 2, 3, 4, 5, 6, 7, 8, 9], name='E', label='F'), storage=Int64()) # Sum: 10000.0"
      ]
     },
     "execution_count": 4,
     "metadata": {},
     "output_type": "execute_result"
    }
   ],
   "source": [
    "Hist.new.IntCat(range(10), name=\"E\", label = \"F\").Int64().fill(np.random.normal(1.5, 0.3, 10_000))"
   ]
  },
  {
   "cell_type": "code",
   "execution_count": 5,
   "id": "fa7a461e-7a46-44de-8b60-886cd30635ff",
   "metadata": {},
   "outputs": [
    {
     "name": "stdout",
     "output_type": "stream",
     "text": [
      "test1\n",
      "test2\n"
     ]
    },
    {
     "data": {
      "text/html": [
       "<html>\n",
       "<div style=\"display:flex; align-items:center;\">\n",
       "<div style=\"width:290px;\">\n",
       "<svg xmlns=\"http://www.w3.org/2000/svg\" viewBox=\"-10 -105 270 120\">\n",
       "<line x1=\"-5\" y1=\"0\" x2=\"255\" y2=\"0\" style=\"fill:none;stroke-width:2;stroke:currentColor\"/>\n",
       "<text text-anchor=\"middle\" x=\"0\" y=\"15\" style=\"fill:currentColor;\">\n",
       "0\n",
       "</text>\n",
       "<text text-anchor=\"middle\" x=\"250\" y=\"15\" style=\"fill:currentColor;\">\n",
       "4\n",
       "</text>\n",
       "<text text-anchor=\"middle\" x=\"125.0\" y=\"15\" style=\"fill:currentColor;\">\n",
       "good\n",
       "</text>\n",
       "<polyline points=\"  0,0   0,-100 62.5,-100 62.5,-0 125,-0 125,-100 187.5,-100 187.5,-0 250,-0 250,0\" style=\"fill:none; stroke:currentColor;\"/>\n",
       "</svg>\n",
       "</div>\n",
       "<div style=\"flex=grow:1;\">\n",
       "StrCategory(['T', 'F', 'P', 'Q'], name='test', label='good')<br/>\n",
       "<hr style=\"margin-top:.2em; margin-bottom:.2em;\"/>\n",
       "Int64() Σ=2.0\n",
       "\n",
       "</div>\n",
       "</div>\n",
       "</html>"
      ],
      "text/plain": [
       "Hist(StrCategory(['T', 'F', 'P', 'Q'], name='test', label='good'), storage=Int64()) # Sum: 2.0"
      ]
     },
     "execution_count": 5,
     "metadata": {},
     "output_type": "execute_result"
    }
   ],
   "source": [
    "Hist.new.StrCat([\"T\", \"F\", \"P\", \"Q\"], name=\"test\", label = \"good\").Int64().fill([\"T\", \"P\"])"
   ]
  },
  {
   "cell_type": "code",
   "execution_count": 6,
   "id": "06ea046a-fde7-44b5-befa-20b33992e0d3",
   "metadata": {},
   "outputs": [
    {
     "name": "stdout",
     "output_type": "stream",
     "text": [
      "test1\n",
      "test2\n"
     ]
    },
    {
     "data": {
      "text/html": [
       "<html>\n",
       "<div style=\"display:flex; align-items:center;\">\n",
       "<div style=\"width:290px;\">\n",
       "<svg xmlns=\"http://www.w3.org/2000/svg\" viewBox=\"-10 -105 270 120\">\n",
       "<line x1=\"-5\" y1=\"0\" x2=\"255\" y2=\"0\" style=\"fill:none;stroke-width:2;stroke:currentColor\"/>\n",
       "<text text-anchor=\"middle\" x=\"0\" y=\"15\" style=\"fill:currentColor;\">\n",
       "0\n",
       "</text>\n",
       "<text text-anchor=\"middle\" x=\"250\" y=\"15\" style=\"fill:currentColor;\">\n",
       "9\n",
       "</text>\n",
       "<text text-anchor=\"middle\" x=\"125.0\" y=\"15\" style=\"fill:currentColor;\">\n",
       "bottom\n",
       "</text>\n",
       "<polyline points=\"  0,0   0,-0 27.7778,-0 27.7778,-100 55.5556,-100 55.5556,-0 83.3333,-0 83.3333,-0 111.111,-0 111.111,-0 138.889,-0 138.889,-100 166.667,-100 166.667,-0 194.444,-0 194.444,-0 222.222,-0 222.222,-0 250,-0 250,0\" style=\"fill:none; stroke:currentColor;\"/>\n",
       "</svg>\n",
       "</div>\n",
       "<div style=\"flex=grow:1;\">\n",
       "Variable([0, 1, 2, 3, 4, 5, 6, 7, 8, 9], name='top', label='bottom')<br/>\n",
       "<hr style=\"margin-top:.2em; margin-bottom:.2em;\"/>\n",
       "Int64() Σ=2.0\n",
       "\n",
       "</div>\n",
       "</div>\n",
       "</html>"
      ],
      "text/plain": [
       "Hist(Variable([0, 1, 2, 3, 4, 5, 6, 7, 8, 9], name='top', label='bottom'), storage=Int64()) # Sum: 2.0"
      ]
     },
     "execution_count": 6,
     "metadata": {},
     "output_type": "execute_result"
    }
   ],
   "source": [
    "Hist.new.Var(range(10), name=\"top\", label = \"bottom\").Int64().fill([1, 5])"
   ]
  }
 ],
 "metadata": {
  "kernelspec": {
   "display_name": "Python 3.9.5 64-bit ('hist': virtualenvwrapper)",
   "language": "python",
   "name": "python395jvsc74a57bd041098d0804160d5b7135365756022a9b8fe2c90b0ad32ef001667051bf16e688"
  },
  "language_info": {
   "codemirror_mode": {
    "name": "ipython",
    "version": 3
   },
   "file_extension": ".py",
   "mimetype": "text/x-python",
   "name": "python",
   "nbconvert_exporter": "python",
   "pygments_lexer": "ipython3",
   "version": "3.9.5"
  }
 },
 "nbformat": 4,
 "nbformat_minor": 5
}
