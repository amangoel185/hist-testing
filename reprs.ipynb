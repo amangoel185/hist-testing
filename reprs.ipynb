{
 "cells": [
  {
   "cell_type": "markdown",
   "id": "b30f7a5b-98d0-4079-89c4-511d3732e5eb",
   "metadata": {},
   "source": [
    "# examples for testing reprs"
   ]
  },
  {
   "cell_type": "code",
   "execution_count": 1,
   "id": "7b1171b0-1aa3-4011-8c63-b4192dbde115",
   "metadata": {},
   "outputs": [],
   "source": [
    "import numpy as np\n",
    "from hist import Hist"
   ]
  },
  {
   "cell_type": "code",
   "execution_count": 48,
   "id": "5204c521-c80c-4208-8b7d-67f98b1b6be4",
   "metadata": {
    "tags": []
   },
   "outputs": [
    {
     "name": "stdout",
     "output_type": "stream",
     "text": [
      "test1\n",
      "test2\n"
     ]
    },
    {
     "data": {
      "text/html": [
       "<html>\n",
       "<div style=\"display:flex; align-items:center;\">\n",
       "<div style=\"width:290px;\">\n",
       "<svg xmlns=\"http://www.w3.org/2000/svg\" viewBox=\"-10 -105 270 120\">\n",
       "<line x1=\"-5\" y1=\"0\" x2=\"255\" y2=\"0\" style=\"fill:none;stroke-width:2;stroke:currentColor\"/>\n",
       "<text text-anchor=\"middle\" x=\"0\" y=\"15\" style=\"fill:currentColor;\">\n",
       "1\n",
       "</text>\n",
       "<text text-anchor=\"middle\" x=\"250\" y=\"15\" style=\"fill:currentColor;\">\n",
       "2\n",
       "</text>\n",
       "<text text-anchor=\"middle\" x=\"125.0\" y=\"15\" style=\"fill:currentColor;\">\n",
       "Y\n",
       "</text>\n",
       "<polyline points=\"  0,0   0,-23   5,-23   5,-25.8  10,-25.8  10,-35.4  15,-35.4  15,-34.4  20,-34.4  20,-36.1  25,-36.1  25,-38.8  30,-38.8  30,-43.3  35,-43.3  35,-42.3  40,-42.3  40,-52.9  45,-52.9  45,-50.5  50,-50.5  50,-63.9  55,-63.9  55,-63.6  60,-63.6  60,-62.5  65,-62.5  65,-68.7  70,-68.7  70,-68.4  75,-68.4  75,-66.3  80,-66.3  80,-78.7  85,-78.7  85,-72.2  90,-72.2  90,-77.3  95,-77.3  95,-83.2 100,-83.2 100,-72.5 105,-72.5 105,-93.8 110,-93.8 110,-93.8 115,-93.8 115,-92.4 120,-92.4 120,-92.1 125,-92.1 125,-85.6 130,-85.6 130,-89.7 135,-89.7 135,-100 140,-100 140,-98.3 145,-98.3 145,-92.1 150,-92.1 150,-79 155,-79 155,-85.6 160,-85.6 160,-88.3 165,-88.3 165,-74.2 170,-74.2 170,-74.6 175,-74.6 175,-71.5 180,-71.5 180,-62.2 185,-62.2 185,-67.7 190,-67.7 190,-59.1 195,-59.1 195,-55.3 200,-55.3 200,-62.5 205,-62.5 205,-42.6 210,-42.6 210,-42.3 215,-42.3 215,-48.5 220,-48.5 220,-40.5 225,-40.5 225,-27.8 230,-27.8 230,-32.3 235,-32.3 235,-30.6 240,-30.6 240,-34.4 245,-34.4 245,-22.7 250,-22.7 250,0\" style=\"fill:none; stroke:currentColor;\"/>\n",
       "</svg>\n",
       "</div>\n",
       "<div style=\"flex=grow:1;\">\n",
       "Regular(50, 1, 2, name='X', label='Y')<br/>\n",
       "<hr style=\"margin-top:.2em; margin-bottom:.2em;\"/>\n",
       "Double() Σ=9019.0 <em>(10000.0 with flow)</em>\n",
       "\n",
       "</div>\n",
       "</div>\n",
       "</html>"
      ],
      "text/plain": [
       "Hist(Regular(50, 1, 2, name='X', label='Y'), storage=Double()) # Sum: 9019.0 (10000.0 with flow)"
      ]
     },
     "execution_count": 48,
     "metadata": {},
     "output_type": "execute_result"
    }
   ],
   "source": [
    "Hist.new.Reg(50, 1, 2, name = \"X\", label = \"Y\").Double().fill(np.random.normal(1.5, 0.3, 10_000))"
   ]
  },
  {
   "cell_type": "code",
   "execution_count": 3,
   "id": "ee26b1fb-20e2-43dd-ac6a-7a4c48f062ed",
   "metadata": {},
   "outputs": [
    {
     "name": "stdout",
     "output_type": "stream",
     "text": [
      "test1\n",
      "test2\n"
     ]
    },
    {
     "data": {
      "text/html": [
       "<html>\n",
       "<div style=\"display:flex; align-items:center;\">\n",
       "<div style=\"width:290px;\">\n",
       "<svg xmlns=\"http://www.w3.org/2000/svg\" viewBox=\"-10 -105 270 120\">\n",
       "<line x1=\"-5\" y1=\"0\" x2=\"255\" y2=\"0\" style=\"fill:none;stroke-width:2;stroke:currentColor\"/>\n",
       "<text text-anchor=\"middle\" x=\"0\" y=\"15\" style=\"fill:currentColor;\">\n",
       "-9\n",
       "</text>\n",
       "<text text-anchor=\"middle\" x=\"250\" y=\"15\" style=\"fill:currentColor;\">\n",
       "9\n",
       "</text>\n",
       "<text text-anchor=\"middle\" x=\"125.0\" y=\"15\" style=\"fill:currentColor;\">\n",
       "woah\n",
       "</text>\n",
       "<polyline points=\"  0,0   0,-87.5 13.8889,-87.5 13.8889,-87.5 27.7778,-87.5 27.7778,-75 41.6667,-75 41.6667,-75 55.5556,-75 55.5556,-12.5 69.4444,-12.5 69.4444,-37.5 83.3333,-37.5 83.3333,-12.5 97.2222,-12.5 97.2222,-75 111.111,-75 111.111,-12.5 125,-12.5 125,-100 138.889,-100 138.889,-0 152.778,-0 152.778,-0 166.667,-0 166.667,-0 180.556,-0 180.556,-0 194.444,-0 194.444,-12.5 208.333,-12.5 208.333,-25 222.222,-25 222.222,-25 236.111,-25 236.111,-0 250,-0 250,0\" style=\"fill:none; stroke:currentColor;\"/>\n",
       "</svg>\n",
       "</div>\n",
       "<div style=\"flex=grow:1;\">\n",
       "Integer(-9, 9, name='wohoo', label='woah')<br/>\n",
       "<hr style=\"margin-top:.2em; margin-bottom:.2em;\"/>\n",
       "Int64() Σ=51.0 <em>(108.0 with flow)</em>\n",
       "\n",
       "</div>\n",
       "</div>\n",
       "</html>"
      ],
      "text/plain": [
       "Hist(Integer(-9, 9, name='wohoo', label='woah'), storage=Int64()) # Sum: 51.0 (108.0 with flow)"
      ]
     },
     "execution_count": 3,
     "metadata": {},
     "output_type": "execute_result"
    }
   ],
   "source": [
    "Hist.new.Int(-9, 9, name = \"wohoo\", label = \"woah\").Int64().fill(np.random.normal(-9, 9, 108))"
   ]
  },
  {
   "cell_type": "code",
   "execution_count": 4,
   "id": "37709968-9f72-4aae-954e-0d464e8dac5b",
   "metadata": {},
   "outputs": [
    {
     "name": "stdout",
     "output_type": "stream",
     "text": [
      "test1\n",
      "test2\n"
     ]
    },
    {
     "data": {
      "text/html": [
       "<html>\n",
       "<div style=\"display:flex; align-items:center;\">\n",
       "<div style=\"width:290px;\">\n",
       "<svg xmlns=\"http://www.w3.org/2000/svg\" viewBox=\"-10 -105 270 120\">\n",
       "<line x1=\"-5\" y1=\"0\" x2=\"255\" y2=\"0\" style=\"fill:none;stroke-width:2;stroke:currentColor\"/>\n",
       "<text text-anchor=\"middle\" x=\"0\" y=\"15\" style=\"fill:currentColor;\">\n",
       "0\n",
       "</text>\n",
       "<text text-anchor=\"middle\" x=\"250\" y=\"15\" style=\"fill:currentColor;\">\n",
       "10\n",
       "</text>\n",
       "<text text-anchor=\"middle\" x=\"125.0\" y=\"15\" style=\"fill:currentColor;\">\n",
       "F\n",
       "</text>\n",
       "<polyline points=\"  0,0   0,-100  25,-100  25,-50  50,-50  50,-50  75,-50  75,-40 100,-40 100,-50 125,-50 125,-10 150,-10 150,-90 175,-90 175,-10 200,-10 200,-40 225,-40 225,-20 250,-20 250,0\" style=\"fill:none; stroke:currentColor;\"/>\n",
       "</svg>\n",
       "</div>\n",
       "<div style=\"flex=grow:1;\">\n",
       "IntCategory([0, 1, 2, 3, 4, 5, 6, 7, 8, 9], name='E', label='F')<br/>\n",
       "<hr style=\"margin-top:.2em; margin-bottom:.2em;\"/>\n",
       "Int64() Σ=46.0 <em>(99.0 with flow)</em>\n",
       "\n",
       "</div>\n",
       "</div>\n",
       "</html>"
      ],
      "text/plain": [
       "Hist(IntCategory([0, 1, 2, 3, 4, 5, 6, 7, 8, 9], name='E', label='F'), storage=Int64()) # Sum: 46.0 (99.0 with flow)"
      ]
     },
     "execution_count": 4,
     "metadata": {},
     "output_type": "execute_result"
    }
   ],
   "source": [
    "h = Hist.new.IntCat(range(10), name=\"E\", label = \"F\").Int64().fill(np.random.normal(-2, 7, 99))\n",
    "h"
   ]
  },
  {
   "cell_type": "code",
   "execution_count": 5,
   "id": "09e70e4c-8f69-46b9-87f7-81b953e3eeb6",
   "metadata": {},
   "outputs": [],
   "source": [
    "h = Hist.new.Reg(10, -1, 1, name=\"x\").Double()\n",
    "html = h._repr_html_()\n",
    "assert html\n",
    "assert \"label='x'\" in repr(h) "
   ]
  },
  {
   "cell_type": "code",
   "execution_count": 6,
   "id": "fa7a461e-7a46-44de-8b60-886cd30635ff",
   "metadata": {},
   "outputs": [
    {
     "name": "stdout",
     "output_type": "stream",
     "text": [
      "test1\n",
      "test2\n"
     ]
    },
    {
     "data": {
      "text/html": [
       "<html>\n",
       "<div style=\"display:flex; align-items:center;\">\n",
       "<div style=\"width:290px;\">\n",
       "<svg xmlns=\"http://www.w3.org/2000/svg\" viewBox=\"-10 -105 270 120\">\n",
       "<line x1=\"-5\" y1=\"0\" x2=\"255\" y2=\"0\" style=\"fill:none;stroke-width:2;stroke:currentColor\"/>\n",
       "<text text-anchor=\"middle\" x=\"0\" y=\"15\" style=\"fill:currentColor;\">\n",
       "0\n",
       "</text>\n",
       "<text text-anchor=\"middle\" x=\"250\" y=\"15\" style=\"fill:currentColor;\">\n",
       "4\n",
       "</text>\n",
       "<text text-anchor=\"middle\" x=\"125.0\" y=\"15\" style=\"fill:currentColor;\">\n",
       "good\n",
       "</text>\n",
       "<polyline points=\"  0,0   0,-100 62.5,-100 62.5,-0 125,-0 125,-100 187.5,-100 187.5,-0 250,-0 250,0\" style=\"fill:none; stroke:currentColor;\"/>\n",
       "</svg>\n",
       "</div>\n",
       "<div style=\"flex=grow:1;\">\n",
       "StrCategory(['T', 'F', 'P', 'Q'], name='test', label='good')<br/>\n",
       "<hr style=\"margin-top:.2em; margin-bottom:.2em;\"/>\n",
       "Int64() Σ=2.0\n",
       "\n",
       "</div>\n",
       "</div>\n",
       "</html>"
      ],
      "text/plain": [
       "Hist(StrCategory(['T', 'F', 'P', 'Q'], name='test', label='good'), storage=Int64()) # Sum: 2.0"
      ]
     },
     "execution_count": 6,
     "metadata": {},
     "output_type": "execute_result"
    }
   ],
   "source": [
    "Hist.new.StrCat([\"T\", \"F\", \"P\", \"Q\"], name=\"test\", label = \"good\").Int64().fill([\"T\", \"P\"])"
   ]
  },
  {
   "cell_type": "code",
   "execution_count": 7,
   "id": "06ea046a-fde7-44b5-befa-20b33992e0d3",
   "metadata": {},
   "outputs": [
    {
     "name": "stdout",
     "output_type": "stream",
     "text": [
      "test1\n",
      "test2\n"
     ]
    },
    {
     "data": {
      "text/html": [
       "<html>\n",
       "<div style=\"display:flex; align-items:center;\">\n",
       "<div style=\"width:290px;\">\n",
       "<svg xmlns=\"http://www.w3.org/2000/svg\" viewBox=\"-10 -105 270 120\">\n",
       "<line x1=\"-5\" y1=\"0\" x2=\"255\" y2=\"0\" style=\"fill:none;stroke-width:2;stroke:currentColor\"/>\n",
       "<text text-anchor=\"middle\" x=\"0\" y=\"15\" style=\"fill:currentColor;\">\n",
       "0\n",
       "</text>\n",
       "<text text-anchor=\"middle\" x=\"250\" y=\"15\" style=\"fill:currentColor;\">\n",
       "9\n",
       "</text>\n",
       "<text text-anchor=\"middle\" x=\"125.0\" y=\"15\" style=\"fill:currentColor;\">\n",
       "bottom\n",
       "</text>\n",
       "<polyline points=\"  0,0   0,-0 27.7778,-0 27.7778,-100 55.5556,-100 55.5556,-0 83.3333,-0 83.3333,-0 111.111,-0 111.111,-0 138.889,-0 138.889,-100 166.667,-100 166.667,-0 194.444,-0 194.444,-0 222.222,-0 222.222,-0 250,-0 250,0\" style=\"fill:none; stroke:currentColor;\"/>\n",
       "</svg>\n",
       "</div>\n",
       "<div style=\"flex=grow:1;\">\n",
       "Variable([0, 1, 2, 3, 4, 5, 6, 7, 8, 9], name='top', label='bottom')<br/>\n",
       "<hr style=\"margin-top:.2em; margin-bottom:.2em;\"/>\n",
       "Int64() Σ=2.0\n",
       "\n",
       "</div>\n",
       "</div>\n",
       "</html>"
      ],
      "text/plain": [
       "Hist(Variable([0, 1, 2, 3, 4, 5, 6, 7, 8, 9], name='top', label='bottom'), storage=Int64()) # Sum: 2.0"
      ]
     },
     "execution_count": 7,
     "metadata": {},
     "output_type": "execute_result"
    }
   ],
   "source": [
    "Hist.new.Var(range(10), name=\"top\", label = \"bottom\").Int64().fill([1, 5])"
   ]
  },
  {
   "cell_type": "code",
   "execution_count": 44,
   "id": "f0f18952-3686-422e-b7f8-da6c6f63dcea",
   "metadata": {},
   "outputs": [
    {
     "data": {
      "text/plain": [
       "\"Hist(Variable([0, 1, 2, 3, 4, 5, 6, 7, 8, 9], name='x', label='y'), storage=Double())\""
      ]
     },
     "execution_count": 44,
     "metadata": {},
     "output_type": "execute_result"
    }
   ],
   "source": [
    "h = Hist.new.Var(range(10), name=\"x\", label =\"y\").Double()\n",
    "html = h._repr_html_()\n",
    "assert html\n",
    "assert \"name='x'\" in repr(h)\n",
    "assert \"label='y'\" in repr(h)\n",
    "repr(h)"
   ]
  },
  {
   "cell_type": "code",
   "execution_count": 59,
   "id": "5032db43-a087-4044-a722-e161b30d7718",
   "metadata": {},
   "outputs": [
    {
     "data": {
      "text/plain": [
       "<property at 0x7ff20c3361d0>"
      ]
     },
     "execution_count": 59,
     "metadata": {},
     "output_type": "execute_result"
    }
   ],
   "source": [
    "from hist import axis\n",
    "\n",
    "assert axis.Regular(50, -3, 3, name=\"x0\")\n",
    "\n",
    "axis.Regular.label"
   ]
  }
 ],
 "metadata": {
  "kernelspec": {
   "display_name": "Python 3.9.5 64-bit ('hist': virtualenvwrapper)",
   "language": "python",
   "name": "python395jvsc74a57bd041098d0804160d5b7135365756022a9b8fe2c90b0ad32ef001667051bf16e688"
  },
  "language_info": {
   "codemirror_mode": {
    "name": "ipython",
    "version": 3
   },
   "file_extension": ".py",
   "mimetype": "text/x-python",
   "name": "python",
   "nbconvert_exporter": "python",
   "pygments_lexer": "ipython3",
   "version": "3.9.5"
  }
 },
 "nbformat": 4,
 "nbformat_minor": 5
}
