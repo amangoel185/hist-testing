{
 "cells": [
  {
   "cell_type": "code",
   "execution_count": 1,
   "id": "10eba064-4684-4117-a118-1425d7959246",
   "metadata": {},
   "outputs": [],
   "source": [
    "from hist import Hist, Stack, axis\n",
    "import numpy as np\n",
    "from hist.axis import AxesMixin\n",
    "import matplotlib.pyplot as plt "
   ]
  },
  {
   "cell_type": "code",
   "execution_count": 2,
   "id": "ad45ac98-61fe-4873-8bcb-73b532915d8e",
   "metadata": {},
   "outputs": [],
   "source": [
    "# print(list(map(type, h1.axes)) == list(map(type, h1.axes)))\n",
    "# print(test1.axes[1].__class__.__name__)\n",
    "# print(h1.__repr__.__self__)\n",
    "# print(h1.__repr__)\n",
    "# print(dir(h1.__repr__))\n",
    "\n",
    "# for i in st._stack:\n",
    "#     i = st._stack.index(i)\n",
    "#     print(i)"
   ]
  },
  {
   "cell_type": "code",
   "execution_count": 3,
   "id": "ee08f1c8-44e1-4c2b-b955-98e96cce9349",
   "metadata": {},
   "outputs": [
    {
     "data": {
      "text/plain": [
       "<matplotlib.legend.Legend at 0x7f37f1e6ae80>"
      ]
     },
     "execution_count": 3,
     "metadata": {},
     "output_type": "execute_result"
    },
    {
     "data": {
      "image/png": "[encoded data removed]",
      "text/plain": [
       "<Figure size 432x288 with 1 Axes>"
      ]
     },
     "metadata": {
      "needs_background": "light"
     },
     "output_type": "display_data"
    }
   ],
   "source": [
    "test1 = (\n",
    "    Hist.new\n",
    "    .Reg(10, 0 ,10, name=\"a\", label=\"x-axis\")\n",
    "    .Int64()\n",
    ")\n",
    "\n",
    "test2 = (\n",
    "    Hist.new\n",
    "    .Reg(10, 0 ,10, name=\"a\", label=\"x-axis\")\n",
    "    .Int64()\n",
    ")\n",
    "\n",
    "test3 = (\n",
    "    Hist.new\n",
    "    .Reg(10, 0 ,10, name=\"a\", label=\"x-axis\")\n",
    "    .Int64()\n",
    ")\n",
    "\n",
    "test1.fill(np.random.normal(5, 1, 10))\n",
    "test2.fill(np.random.normal(5, 1, 10))\n",
    "test3.fill(np.random.normal(5, 1, 10))\n",
    "\n",
    "stack1 = Stack(test1, test2, test3)\n",
    "stack1.plot()\n",
    "\n",
    "plt.legend(['test1', 'test2', 'test3'])"
   ]
  },
  {
   "cell_type": "code",
   "execution_count": 4,
   "id": "f5d4188f-ce4c-451f-80a8-84cdac08e091",
   "metadata": {},
   "outputs": [
    {
     "name": "stdout",
     "output_type": "stream",
     "text": [
      "(Regular(10, 0, 10, name='a', label='x-axis'),)\n",
      "(Regular(10, 0, 10, name='a', label='x-axis'),)\n",
      "(Regular(10, 0, 10, name='a', label='x-axis'),)\n"
     ]
    }
   ],
   "source": [
    "print(test1.axes)\n",
    "print(test2.axes)\n",
    "print(test3.axes)"
   ]
  },
  {
   "cell_type": "code",
   "execution_count": 5,
   "id": "7805ebbf-6619-46ba-9d51-b7a63e06b2f4",
   "metadata": {},
   "outputs": [
    {
     "data": {
      "text/plain": [
       "hist.stack.Stack"
      ]
     },
     "execution_count": 5,
     "metadata": {},
     "output_type": "execute_result"
    }
   ],
   "source": [
    "type(stack1)"
   ]
  },
  {
   "cell_type": "code",
   "execution_count": 6,
   "id": "f163a13c-d3c8-46e3-b675-9681db5d01ac",
   "metadata": {},
   "outputs": [
    {
     "data": {
      "text/plain": [
       "[StairsArtists(stairs=<matplotlib.patches.StepPatch object at 0x7f37dbcae850>, errorbar=<ErrorbarContainer object of 3 artists>, legend_artist=<ErrorbarContainer object of 3 artists>),\n",
       " StairsArtists(stairs=<matplotlib.patches.StepPatch object at 0x7f37dbc3ecd0>, errorbar=<ErrorbarContainer object of 3 artists>, legend_artist=<ErrorbarContainer object of 3 artists>)]"
      ]
     },
     "execution_count": 6,
     "metadata": {},
     "output_type": "execute_result"
    },
    {
     "data": {
      "image/png": "[encoded data removed]",
      "text/plain": [
       "<Figure size 432x288 with 1 Axes>"
      ]
     },
     "metadata": {
      "needs_background": "light"
     },
     "output_type": "display_data"
    }
   ],
   "source": [
    "test3 = (\n",
    "    Hist.new\n",
    "    .Reg(10, 0 ,10, name=\"good\", label=\"x-axis\")\n",
    "    .Int64()\n",
    ")\n",
    "\n",
    "test4 = (\n",
    "    Hist.new\n",
    "    .Reg(10, 0 ,10, name=\"good\", label=\"x-axis\")\n",
    "    .Int64()\n",
    ")\n",
    "\n",
    "test3.fill(good = np.random.normal(5, 1, 10))\n",
    "test4.fill(good = np.random.normal(5, 1, 10))\n",
    "\n",
    "\n",
    "stack = Stack(test3, test4)\n",
    "stack.plot()"
   ]
  },
  {
   "cell_type": "code",
   "execution_count": 7,
   "id": "27d5a5ae-eb95-4f87-9434-f25f80119a60",
   "metadata": {},
   "outputs": [
    {
     "data": {
      "text/plain": [
       "[StairsArtists(stairs=<matplotlib.patches.StepPatch object at 0x7f37dbbbd850>, errorbar=<ErrorbarContainer object of 3 artists>, legend_artist=<ErrorbarContainer object of 3 artists>),\n",
       " StairsArtists(stairs=<matplotlib.patches.StepPatch object at 0x7f37dbbcedf0>, errorbar=<ErrorbarContainer object of 3 artists>, legend_artist=<ErrorbarContainer object of 3 artists>)]"
      ]
     },
     "execution_count": 7,
     "metadata": {},
     "output_type": "execute_result"
    },
    {
     "data": {
      "image/png": "[encoded data removed]",
      "text/plain": [
       "<Figure size 432x288 with 1 Axes>"
      ]
     },
     "metadata": {
      "needs_background": "light"
     },
     "output_type": "display_data"
    }
   ],
   "source": [
    "test5 = (\n",
    "    Hist.new\n",
    "    .Reg(10, 0 ,10, name=\"good\", label=\"a-axis\")\n",
    "    .Int64()\n",
    ")\n",
    "\n",
    "test6 = (\n",
    "    Hist.new\n",
    "    .Reg(10, 0 ,10, name=\"good\", label=\"a-axis\")\n",
    "    .Int64()\n",
    ")\n",
    "\n",
    "test5.fill(good = np.random.normal(5, 1, 10))\n",
    "test6.fill(good = np.random.normal(5, 1, 10))\n",
    "\n",
    "\n",
    "stack = Stack(test5, test6)\n",
    "stack.plot()"
   ]
  },
  {
   "cell_type": "code",
   "execution_count": 8,
   "id": "b55e897b-9021-473e-8639-1e271f22adbc",
   "metadata": {},
   "outputs": [
    {
     "ename": "ValueError",
     "evalue": "The Histogram axes don't match",
     "output_type": "error",
     "traceback": [
      "\u001b[0;31m---------------------------------------------------------------------------\u001b[0m",
      "\u001b[0;31mValueError\u001b[0m                                Traceback (most recent call last)",
      "\u001b[0;32m<ipython-input-8-f87fdba227c8>\u001b[0m in \u001b[0;36m<module>\u001b[0;34m\u001b[0m\n\u001b[1;32m     25\u001b[0m \u001b[0;34m\u001b[0m\u001b[0m\n\u001b[1;32m     26\u001b[0m \u001b[0;34m\u001b[0m\u001b[0m\n\u001b[0;32m---> 27\u001b[0;31m \u001b[0mstack\u001b[0m \u001b[0;34m=\u001b[0m \u001b[0mStack\u001b[0m\u001b[0;34m(\u001b[0m\u001b[0mtest7\u001b[0m\u001b[0;34m,\u001b[0m \u001b[0mtest8\u001b[0m\u001b[0;34m,\u001b[0m \u001b[0mtest9\u001b[0m\u001b[0;34m)\u001b[0m\u001b[0;34m\u001b[0m\u001b[0;34m\u001b[0m\u001b[0m\n\u001b[0m\u001b[1;32m     28\u001b[0m \u001b[0mstack\u001b[0m\u001b[0;34m.\u001b[0m\u001b[0mplot\u001b[0m\u001b[0;34m(\u001b[0m\u001b[0;34m)\u001b[0m\u001b[0;34m\u001b[0m\u001b[0;34m\u001b[0m\u001b[0m\n\u001b[1;32m     29\u001b[0m \u001b[0;34m\u001b[0m\u001b[0m\n",
      "\u001b[0;32m~/Documents/code/IRIS-HEP/fellowship/hist/fork/hist/src/hist/stack.py\u001b[0m in \u001b[0;36m__init__\u001b[0;34m(self, *args)\u001b[0m\n\u001b[1;32m     34\u001b[0m         \u001b[0;32mfor\u001b[0m \u001b[0ma\u001b[0m \u001b[0;32min\u001b[0m \u001b[0margs\u001b[0m\u001b[0;34m[\u001b[0m\u001b[0;36m1\u001b[0m\u001b[0;34m:\u001b[0m\u001b[0;34m]\u001b[0m\u001b[0;34m:\u001b[0m\u001b[0;34m\u001b[0m\u001b[0;34m\u001b[0m\u001b[0m\n\u001b[1;32m     35\u001b[0m             \u001b[0;32mif\u001b[0m \u001b[0mfirst_axes\u001b[0m \u001b[0;34m!=\u001b[0m \u001b[0ma\u001b[0m\u001b[0;34m.\u001b[0m\u001b[0maxes\u001b[0m\u001b[0;34m:\u001b[0m\u001b[0;34m\u001b[0m\u001b[0;34m\u001b[0m\u001b[0m\n\u001b[0;32m---> 36\u001b[0;31m                 \u001b[0;32mraise\u001b[0m \u001b[0mValueError\u001b[0m\u001b[0;34m(\u001b[0m\u001b[0;34m\"The Histogram axes don't match\"\u001b[0m\u001b[0;34m)\u001b[0m\u001b[0;34m\u001b[0m\u001b[0;34m\u001b[0m\u001b[0m\n\u001b[0m\u001b[1;32m     37\u001b[0m \u001b[0;34m\u001b[0m\u001b[0m\n\u001b[1;32m     38\u001b[0m     \u001b[0;34m@\u001b[0m\u001b[0mtyping\u001b[0m\u001b[0;34m.\u001b[0m\u001b[0moverload\u001b[0m\u001b[0;34m\u001b[0m\u001b[0;34m\u001b[0m\u001b[0m\n",
      "\u001b[0;31mValueError\u001b[0m: The Histogram axes don't match"
     ]
    }
   ],
   "source": [
    "test7 = (\n",
    "    Hist.new\n",
    "    .StrCat(\"\", name=\"dataset\", growth=True)\n",
    "    .Reg(10, 0 ,10, name=\"good\", label=\"x-axis\")\n",
    "    .Int64()\n",
    ")\n",
    "\n",
    "test8 = (\n",
    "    Hist.new\n",
    "    .StrCat(\"\", name=\"data\", growth=True)\n",
    "    .Reg(10, 0 ,10, name=\"y\", label=\"y-axis\")\n",
    "    .Int64()\n",
    ")\n",
    "\n",
    "test9 = (\n",
    "    Hist.new\n",
    "    .IntCat(range(9), name=\"no\", growth=True)\n",
    "    .Reg(10, 0 ,10, name=\"yes\", label=\"q-axis\")\n",
    "    .Int64()\n",
    ")\n",
    "\n",
    "test7.fill(dataset = \"A\", good = np.random.normal(5, 1, 10))\n",
    "test8.fill(data = \"B\", y = np.random.normal(5, 1, 10))\n",
    "test9.fill(no = np.random.normal(5, 1, 10), yes = np.random.normal(5, 1, 10))\n",
    "\n",
    "\n",
    "stack = Stack(test7, test8, test9)\n",
    "stack.plot()\n",
    "\n",
    "# should throw an error"
   ]
  }
 ],
 "metadata": {
  "kernelspec": {
   "display_name": "Python 3.9.5 64-bit ('hist': virtualenvwrapper)",
   "language": "python",
   "name": "python395jvsc74a57bd041098d0804160d5b7135365756022a9b8fe2c90b0ad32ef001667051bf16e688"
  },
  "language_info": {
   "codemirror_mode": {
    "name": "ipython",
    "version": 3
   },
   "file_extension": ".py",
   "mimetype": "text/x-python",
   "name": "python",
   "nbconvert_exporter": "python",
   "pygments_lexer": "ipython3",
   "version": "3.9.6"
  }
 },
 "nbformat": 4,
 "nbformat_minor": 5
}
