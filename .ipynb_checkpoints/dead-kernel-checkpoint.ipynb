{
 "cells": [
  {
   "cell_type": "markdown",
   "id": "aabd1f2e-a512-4dcb-b6ec-622bc264213d",
   "metadata": {},
   "source": [
    "# examples for for testing the dead kernel"
   ]
  },
  {
   "cell_type": "code",
   "execution_count": 1,
   "id": "a6e4eea8",
   "metadata": {},
   "outputs": [
    {
     "data": {
      "text/html": [
       " +---------------------------------------------------------------------------+\n",
       " +---------------------------------------------------------------------------+"
      ],
      "text/plain": [
       "Hist(IntCategory([], growth=True), storage=Double())"
      ]
     },
     "execution_count": 1,
     "metadata": {},
     "output_type": "execute_result"
    }
   ],
   "source": [
    "import hist\n",
    "from hist import Hist\n",
    "import numpy as np\n",
    "\n",
    "h = Hist(\n",
    "    hist.axis.IntCategory([], name=\"dataset\", growth=True),\n",
    ")\n",
    "\n",
    "h"
   ]
  },
  {
   "cell_type": "code",
   "execution_count": 2,
   "id": "6c5a2f7a",
   "metadata": {},
   "outputs": [
    {
     "data": {
      "text/html": [
       " +---------------------------------------------------------------------------+\n",
       " +---------------------------------------------------------------------------+"
      ],
      "text/plain": [
       "Hist(StrCategory([], growth=True), storage=Double())"
      ]
     },
     "execution_count": 2,
     "metadata": {},
     "output_type": "execute_result"
    }
   ],
   "source": [
    "import hist\n",
    "from hist import Hist\n",
    "import numpy as np\n",
    "\n",
    "h = Hist(\n",
    "    hist.axis.StrCategory(\"\", name=\"dataset\", growth=True),\n",
    ")\n",
    "\n",
    "h"
   ]
  },
  {
   "cell_type": "code",
   "execution_count": 3,
   "id": "812ef99a",
   "metadata": {},
   "outputs": [
    {
     "name": "stdout",
     "output_type": "stream",
     "text": [
      "test1\n",
      "test2\n"
     ]
    },
    {
     "data": {
      "text/html": [
       "<html>\n",
       "<div style=\"display:flex; align-items:center;\">\n",
       "<div style=\"width:290px;\">\n",
       "<svg xmlns=\"http://www.w3.org/2000/svg\" viewBox=\"-20 -270 290 290\">\n",
       "<text text-anchor=\"middle\" x=\"0\" y=\"13\" style=\"fill:currentColor;\">\n",
       "0\n",
       "</text>\n",
       "<text text-anchor=\"middle\" x=\"250\" y=\"13\" style=\"fill:currentColor;\">\n",
       "10\n",
       "</text>\n",
       "<text text-anchor=\"middle\" x=\"-10\" y=\"0\" style=\"fill:currentColor;\">\n",
       "0\n",
       "</text>\n",
       "<text text-anchor=\"middle\" x=\"-10\" y=\"-250\" style=\"fill:currentColor;\">\n",
       "1\n",
       "</text>\n",
       "<text text-anchor=\"middle\" x=\"125.0\" y=\"13\" style=\"fill:currentColor;\">\n",
       "a\n",
       "</text>\n",
       "<text text-anchor=\"middle\" x=\"-10\" y=\"-125.0\" transform=\"rotate(-90,-10,-125.0)\" style=\"fill:currentColor;\">\n",
       "dataset\n",
       "</text>\n",
       "<rect x=\"0.0\" y=\"-250.0\" width=\"25.0\" height=\"250.0\" opacity=\"0.45410628019323673\" fill=\"currentColor\" stroke-width=\"0.1\"/>\n",
       "<rect x=\"25.0\" y=\"-250.0\" width=\"25.0\" height=\"250.0\" opacity=\"0.7826086956521738\" fill=\"currentColor\" stroke-width=\"0.1\"/>\n",
       "<rect x=\"50.0\" y=\"-250.0\" width=\"25.0\" height=\"250.0\" opacity=\"1.0\" fill=\"currentColor\" stroke-width=\"0.1\"/>\n",
       "<rect x=\"75.0\" y=\"-250.0\" width=\"25.0\" height=\"250.0\" opacity=\"0.8840579710144928\" fill=\"currentColor\" stroke-width=\"0.1\"/>\n",
       "<rect x=\"100.0\" y=\"-250.0\" width=\"25.0\" height=\"250.0\" opacity=\"0.7053140096618358\" fill=\"currentColor\" stroke-width=\"0.1\"/>\n",
       "<rect x=\"125.0\" y=\"-250.0\" width=\"25.0\" height=\"250.0\" opacity=\"0.44927536231884063\" fill=\"currentColor\" stroke-width=\"0.1\"/>\n",
       "<rect x=\"150.0\" y=\"-250.0\" width=\"25.0\" height=\"250.0\" opacity=\"0.15458937198067632\" fill=\"currentColor\" stroke-width=\"0.1\"/>\n",
       "<rect x=\"175.0\" y=\"-250.0\" width=\"25.0\" height=\"250.0\" opacity=\"0.057971014492753624\" fill=\"currentColor\" stroke-width=\"0.1\"/>\n",
       "<rect x=\"200.0\" y=\"-250.0\" width=\"25.0\" height=\"250.0\" opacity=\"0.004830917874396135\" fill=\"currentColor\" stroke-width=\"0.1\"/>\n",
       "<rect x=\"225.0\" y=\"-250.0\" width=\"25.0\" height=\"250.0\" opacity=\"0.00966183574879227\" fill=\"currentColor\" stroke-width=\"0.1\"/>\n",
       "</svg>\n",
       "</div>\n",
       "<div style=\"flex=grow:1;\">\n",
       "Regular(10, 0, 10, name='a', label='a')<br/>\n",
       "StrCategory(['A'], growth=True)<br/>\n",
       "<hr style=\"margin-top:.2em; margin-bottom:.2em;\"/>\n",
       "Weight() Σ=WeightedSum(value=932, variance=932) <em>(WeightedSum(value=1000, variance=1000) with flow)</em>\n",
       "\n",
       "</div>\n",
       "</div>\n",
       "</html>"
      ],
      "text/plain": [
       "Hist(\n",
       "  Regular(10, 0, 10, name='a', label='a'),\n",
       "  StrCategory(['A'], growth=True),\n",
       "  storage=Weight()) # Sum: WeightedSum(value=932, variance=932) (WeightedSum(value=1000, variance=1000) with flow)"
      ]
     },
     "execution_count": 3,
     "metadata": {},
     "output_type": "execute_result"
    }
   ],
   "source": [
    "import hist\n",
    "from hist import Hist\n",
    "import numpy as np\n",
    "\n",
    "hehe = Hist(\n",
    "    hist.axis.Regular(10, 0 ,10, name=\"a\", label=\"a\"),\n",
    "    hist.axis.StrCategory(\"\", name=\"dataset\", growth=True),\n",
    "    hist.storage.Weight(),\n",
    ")\n",
    "\n",
    "hehe.fill(dataset=\"A\", a=np.random.normal(3, 2, 1000))\n",
    "hehe"
   ]
  },
  {
   "cell_type": "markdown",
   "id": "a7e7958d",
   "metadata": {},
   "source": [
    "this is where the kernel becomes dead."
   ]
  },
  {
   "cell_type": "code",
   "execution_count": 4,
   "id": "9b9e360b-5e66-4fc8-bb83-460555dcdb6a",
   "metadata": {},
   "outputs": [
    {
     "data": {
      "text/plain": [
       "array([], shape=(10, 0), dtype=float64)"
      ]
     },
     "execution_count": 4,
     "metadata": {},
     "output_type": "execute_result"
    }
   ],
   "source": [
    "import hist\n",
    "from hist import Hist\n",
    "import numpy as np\n",
    "\n",
    "hehe = Hist(\n",
    "    hist.axis.Regular(10, 0 ,10, name=\"a\", label=\"a\"),\n",
    "    hist.axis.IntCategory([], name=\"dataset\", growth=True),\n",
    "    hist.storage.Weight(),\n",
    ")\n",
    "\n",
    "hehe.density()"
   ]
  },
  {
   "cell_type": "markdown",
   "id": "6946a4fe-0a4e-4444-a968-1c51fa610cff",
   "metadata": {},
   "source": [
    "import hist\n",
    "from hist import Hist\n",
    "import numpy as np\n",
    "\n",
    "hehe = Hist(\n",
    "    hist.axis.Regular(10, 0 ,10, name=\"a\", label=\"a\"),\n",
    "    hist.axis.IntCategory([], name=\"dataset\", growth=True),\n",
    "    hist.storage.Weight(),\n",
    ")\n",
    "\n",
    "hehe.fill(dataset=1, a=np.random.normal(3, 2, 1000))\n",
    "\n",
    "hehe"
   ]
  }
 ],
 "metadata": {
  "interpreter": {
   "hash": "41098d0804160d5b7135365756022a9b8fe2c90b0ad32ef001667051bf16e688"
  },
  "kernelspec": {
   "display_name": "Python 3.9.5 64-bit ('hist': virtualenvwrapper)",
   "language": "python",
   "name": "python395jvsc74a57bd041098d0804160d5b7135365756022a9b8fe2c90b0ad32ef001667051bf16e688"
  },
  "language_info": {
   "codemirror_mode": {
    "name": "ipython",
    "version": 3
   },
   "file_extension": ".py",
   "mimetype": "text/x-python",
   "name": "python",
   "nbconvert_exporter": "python",
   "pygments_lexer": "ipython3",
   "version": "3.9.5"
  }
 },
 "nbformat": 4,
 "nbformat_minor": 5
}
