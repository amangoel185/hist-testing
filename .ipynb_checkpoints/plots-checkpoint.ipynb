{
 "cells": [
  {
   "cell_type": "markdown",
   "id": "5e5ddef7-37c6-4491-a97f-5d96fed0895a",
   "metadata": {},
   "source": [
    "# examples for testing plots"
   ]
  },
  {
   "cell_type": "code",
   "execution_count": 1,
   "id": "286819c1-23cc-40b7-9cf8-dc0bde05c4dc",
   "metadata": {},
   "outputs": [],
   "source": [
    "import hist\n",
    "import numpy as np\n",
    "from hist import Hist"
   ]
  },
  {
   "cell_type": "code",
   "execution_count": 2,
   "id": "6757d530-3942-4712-9f2f-b293405a2c4f",
   "metadata": {},
   "outputs": [
    {
     "name": "stdout",
     "output_type": "stream",
     "text": [
      "(False, True)\n",
      "1\n"
     ]
    },
    {
     "data": {
      "text/plain": [
       "[StairsArtists(stairs=<matplotlib.patches.StepPatch object at 0x7f6fe30cbb20>, errorbar=<ErrorbarContainer object of 3 artists>, legend_artist=<ErrorbarContainer object of 3 artists>),\n",
       " StairsArtists(stairs=<matplotlib.patches.StepPatch object at 0x7f6fe3083130>, errorbar=<ErrorbarContainer object of 3 artists>, legend_artist=<ErrorbarContainer object of 3 artists>),\n",
       " StairsArtists(stairs=<matplotlib.patches.StepPatch object at 0x7f6fe3093670>, errorbar=<ErrorbarContainer object of 3 artists>, legend_artist=<ErrorbarContainer object of 3 artists>)]"
      ]
     },
     "execution_count": 2,
     "metadata": {},
     "output_type": "execute_result"
    },
    {
     "data": {
      "image/png": "[encoded data removed]",
      "text/plain": [
       "<Figure size 432x288 with 1 Axes>"
      ]
     },
     "metadata": {
      "needs_background": "light"
     },
     "output_type": "display_data"
    }
   ],
   "source": [
    "test = (\n",
    "    Hist.new\n",
    "    .StrCat(\"\", name=\"dataset\", growth=True)\n",
    "    .Reg(10, 0 ,10, name=\"good\", label=\"y-axis\")\n",
    "    .Int64()\n",
    ")\n",
    "\n",
    "test.fill(dataset = \"A\", good = np.random.normal(5, 1, 10))\n",
    "test.fill(dataset = \"B\", good = np.random.normal(5, 1, 10))\n",
    "test.fill(dataset = \"C\", good = np.random.normal(5, 1, 10))\n",
    "\n",
    "print(test.axes.traits.ordered)\n",
    "print(np.sum([ax.traits.ordered for ax in test.axes]))\n",
    "\n",
    "test.plot()"
   ]
  },
  {
   "cell_type": "code",
   "execution_count": 23,
   "id": "d4659a3c-f749-4229-ba6a-04fbd5e74799",
   "metadata": {},
   "outputs": [
    {
     "data": {
      "text/plain": [
       "[StairsArtists(stairs=<matplotlib.patches.StepPatch object at 0x7f6fe2a707c0>, errorbar=<ErrorbarContainer object of 3 artists>, legend_artist=<ErrorbarContainer object of 3 artists>),\n",
       " StairsArtists(stairs=<matplotlib.patches.StepPatch object at 0x7f6fe2a04d90>, errorbar=<ErrorbarContainer object of 3 artists>, legend_artist=<ErrorbarContainer object of 3 artists>),\n",
       " StairsArtists(stairs=<matplotlib.patches.StepPatch object at 0x7f6fe2a21340>, errorbar=<ErrorbarContainer object of 3 artists>, legend_artist=<ErrorbarContainer object of 3 artists>)]"
      ]
     },
     "execution_count": 23,
     "metadata": {},
     "output_type": "execute_result"
    },
    {
     "data": {
      "image/png": "[encoded data removed]",
      "text/plain": [
       "<Figure size 432x288 with 1 Axes>"
      ]
     },
     "metadata": {
      "needs_background": "light"
     },
     "output_type": "display_data"
    }
   ],
   "source": [
    "sweet = (\n",
    "    Hist.new\n",
    "    .Bool(name=\"A\")\n",
    "    .Bool(name=\"B\")\n",
    "    .Double\n",
    ")\n",
    "\n",
    "sweet.fill(A = True, B = False)\n",
    "sweet.fill(A = True, B = True)\n",
    "sweet.fill(A = True, B = True)\n",
    "\n",
    "print(sweet.axes.traits.ordered)\n",
    "\n",
    "test.plot()"
   ]
  },
  {
   "cell_type": "code",
   "execution_count": 4,
   "id": "76e80294-06bf-47ed-940e-dafdd9c8b49e",
   "metadata": {},
   "outputs": [
    {
     "name": "stdout",
     "output_type": "stream",
     "text": [
      "(False, False)\n",
      "0\n"
     ]
    },
    {
     "data": {
      "text/plain": [
       "ColormeshArtists(pcolormesh=<matplotlib.collections.QuadMesh object at 0x7f6fe2ecf4f0>, cbar=<matplotlib.colorbar.Colorbar object at 0x7f6fe2eda850>, text=[])"
      ]
     },
     "execution_count": 4,
     "metadata": {},
     "output_type": "execute_result"
    },
    {
     "data": {
      "image/png": "[encoded data removed]",
      "text/plain": [
       "<Figure size 432x288 with 2 Axes>"
      ]
     },
     "metadata": {
      "needs_background": "light"
     },
     "output_type": "display_data"
    }
   ],
   "source": [
    "nice = (\n",
    "    Hist.new\n",
    "    .StrCat(\"\", name=\"dataset\", growth=True)\n",
    "    .StrCat(\"\", name=\"okay\", growth=True)\n",
    "    .Int64()\n",
    ")\n",
    "\n",
    "nice.fill(dataset = \"A\", okay = \"X\")\n",
    "nice.fill(dataset = \"B\", okay = \"Y\")\n",
    "nice.fill(dataset = \"C\", okay = \"Z\")\n",
    "\n",
    "print(nice.axes.traits.ordered)\n",
    "print(np.sum([ax.traits.ordered for ax in nice.axes]))\n",
    "\n",
    "nice.plot()"
   ]
  },
  {
   "cell_type": "code",
   "execution_count": 5,
   "id": "099dfd03-968b-42f4-84a8-998a4f51dfbd",
   "metadata": {
    "tags": []
   },
   "outputs": [
    {
     "name": "stdout",
     "output_type": "stream",
     "text": [
      "(True, True)\n",
      "2\n"
     ]
    },
    {
     "data": {
      "text/plain": [
       "ColormeshArtists(pcolormesh=<matplotlib.collections.QuadMesh object at 0x7f6fe2e78f10>, cbar=<matplotlib.colorbar.Colorbar object at 0x7f6fe2e1e6d0>, text=[])"
      ]
     },
     "execution_count": 5,
     "metadata": {},
     "output_type": "execute_result"
    },
    {
     "data": {
      "image/png": "[encoded data removed]",
      "text/plain": [
       "<Figure size 432x288 with 2 Axes>"
      ]
     },
     "metadata": {
      "needs_background": "light"
     },
     "output_type": "display_data"
    }
   ],
   "source": [
    "h = (\n",
    "    Hist.new\n",
    "    .Int(1,10, name=\"nice\", label=\"x-axis\")\n",
    "    .Reg(10, 0 ,10, name=\"good\", label=\"y-axis\")\n",
    "    .Int64()\n",
    ")\n",
    "\n",
    "h.fill(nice = np.random.normal(5, 1, 10), good = np.random.normal(5, 1, 10))\n",
    "h.fill(nice = np.random.normal(5, 1, 10), good = np.random.normal(5, 1, 10))\n",
    "h.fill(nice = np.random.normal(5, 1, 10), good = np.random.normal(5, 1, 10))\n",
    "\n",
    "print(h.axes.traits.ordered)\n",
    "print(np.sum([ax.traits.ordered for ax in h.axes]))\n",
    "\n",
    "h.plot()"
   ]
  },
  {
   "cell_type": "code",
   "execution_count": 6,
   "id": "d6c11aa5-c7f0-4b5a-a383-ed4e9ca9ee0c",
   "metadata": {
    "tags": []
   },
   "outputs": [
    {
     "name": "stdout",
     "output_type": "stream",
     "text": [
      "(False, True)\n",
      "1\n"
     ]
    },
    {
     "data": {
      "text/plain": [
       "ColormeshArtists(pcolormesh=<matplotlib.collections.QuadMesh object at 0x7f6fe2dacc40>, cbar=<matplotlib.colorbar.Colorbar object at 0x7f6fe2d94370>, text=[])"
      ]
     },
     "execution_count": 6,
     "metadata": {},
     "output_type": "execute_result"
    },
    {
     "data": {
      "image/png": "[encoded data removed]",
      "text/plain": [
       "<Figure size 432x288 with 2 Axes>"
      ]
     },
     "metadata": {
      "needs_background": "light"
     },
     "output_type": "display_data"
    }
   ],
   "source": [
    "hehe = (\n",
    "    Hist.new\n",
    "    .StrCat(\"\", name=\"dataset\", growth=True)\n",
    "    .Int(1,10, name=\"nice\", label=\"x-axis\")\n",
    "    .Int64()\n",
    ")\n",
    "\n",
    "hehe.fill(dataset = \"A\", nice = np.random.normal(5, 1, 10))\n",
    "hehe.fill(dataset = \"B\", nice = np.random.normal(5, 1, 10))\n",
    "hehe.fill(dataset = \"C\", nice = np.random.normal(5, 1, 10))\n",
    "\n",
    "print(hehe.axes.traits.ordered)\n",
    "print(np.sum([ax.traits.ordered for ax in hehe.axes]))\n",
    "\n",
    "hehe.plot()"
   ]
  },
  {
   "cell_type": "code",
   "execution_count": 7,
   "id": "bf9ae5bd-77ae-40af-9470-d688b01f3832",
   "metadata": {},
   "outputs": [
    {
     "name": "stdout",
     "output_type": "stream",
     "text": [
      "(True, True)\n",
      "2\n"
     ]
    },
    {
     "data": {
      "text/plain": [
       "ColormeshArtists(pcolormesh=<matplotlib.collections.QuadMesh object at 0x7f6fe30a2df0>, cbar=<matplotlib.colorbar.Colorbar object at 0x7f6fe2cf2040>, text=[])"
      ]
     },
     "execution_count": 7,
     "metadata": {},
     "output_type": "execute_result"
    },
    {
     "data": {
      "image/png": "[encoded data removed]",
      "text/plain": [
       "<Figure size 432x288 with 2 Axes>"
      ]
     },
     "metadata": {
      "needs_background": "light"
     },
     "output_type": "display_data"
    }
   ],
   "source": [
    "good = (\n",
    "    Hist.new\n",
    "    .Int(1,10, name=\"nice\", label=\"x-axis\")\n",
    "    .Int(1,10, name=\"test\", label=\"y-axis\")\n",
    "    .Int64()\n",
    ")\n",
    "\n",
    "good.fill(nice = np.random.normal(5, 1, 10), test = np.random.normal(5, 1, 10))\n",
    "good.fill(nice = np.random.normal(5, 1, 10), test = np.random.normal(5, 1, 10))\n",
    "good.fill(nice = np.random.normal(5, 1, 10), test = np.random.normal(5, 1, 10))\n",
    "\n",
    "print(good.axes.traits.ordered)\n",
    "print(np.sum([ax.traits.ordered for ax in good.axes]))\n",
    "\n",
    "nice.plot()"
   ]
  },
  {
   "cell_type": "code",
   "execution_count": 8,
   "id": "741cc9a4-1a50-4d51-aa2a-ad6c413acf46",
   "metadata": {},
   "outputs": [
    {
     "name": "stdout",
     "output_type": "stream",
     "text": [
      "(True, True)\n",
      "2\n"
     ]
    },
    {
     "data": {
      "text/plain": [
       "ColormeshArtists(pcolormesh=<matplotlib.collections.QuadMesh object at 0x7f6fe2c043a0>, cbar=<matplotlib.colorbar.Colorbar object at 0x7f6fe2de8250>, text=[])"
      ]
     },
     "execution_count": 8,
     "metadata": {},
     "output_type": "execute_result"
    },
    {
     "data": {
      "image/png": "[encoded data removed]",
      "text/plain": [
       "<Figure size 432x288 with 2 Axes>"
      ]
     },
     "metadata": {
      "needs_background": "light"
     },
     "output_type": "display_data"
    }
   ],
   "source": [
    "okay = (\n",
    "    Hist.new\n",
    "    .Reg(10, 0 ,10, name=\"okay\", label=\"x-axis\")\n",
    "    .Reg(10, 0 ,10, name=\"good\", label=\"y-axis\")\n",
    "    .Int64()\n",
    ")\n",
    "\n",
    "okay.fill(okay = np.random.normal(5, 1, 10), good = np.random.normal(5, 1, 10))\n",
    "okay.fill(okay = np.random.normal(5, 1, 10), good = np.random.normal(5, 1, 10))\n",
    "okay.fill(okay = np.random.normal(5, 1, 10), good = np.random.normal(5, 1, 10))\n",
    "\n",
    "print(okay.axes.traits.ordered)\n",
    "print(np.sum([ax.traits.ordered for ax in okay.axes]))\n",
    "\n",
    "okay.plot()"
   ]
  }
 ],
 "metadata": {
  "kernelspec": {
   "display_name": "Python 3.9.5 64-bit ('hist': virtualenvwrapper)",
   "language": "python",
   "name": "python395jvsc74a57bd041098d0804160d5b7135365756022a9b8fe2c90b0ad32ef001667051bf16e688"
  },
  "language_info": {
   "codemirror_mode": {
    "name": "ipython",
    "version": 3
   },
   "file_extension": ".py",
   "mimetype": "text/x-python",
   "name": "python",
   "nbconvert_exporter": "python",
   "pygments_lexer": "ipython3",
   "version": "3.9.5"
  }
 },
 "nbformat": 4,
 "nbformat_minor": 5
}
