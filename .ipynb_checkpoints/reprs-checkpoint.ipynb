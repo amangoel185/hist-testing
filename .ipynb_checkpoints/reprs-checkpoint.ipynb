{
 "cells": [
  {
   "cell_type": "markdown",
   "id": "b30f7a5b-98d0-4079-89c4-511d3732e5eb",
   "metadata": {},
   "source": [
    "# examples for testing reprs"
   ]
  },
  {
   "cell_type": "code",
   "execution_count": 1,
   "id": "7b1171b0-1aa3-4011-8c63-b4192dbde115",
   "metadata": {},
   "outputs": [],
   "source": [
    "from hist import Hist\n",
    "import numpy as np\n",
    "import boost_histogram as bh"
   ]
  },
  {
   "cell_type": "code",
   "execution_count": 2,
   "id": "5204c521-c80c-4208-8b7d-67f98b1b6be4",
   "metadata": {},
   "outputs": [
    {
     "name": "stdout",
     "output_type": "stream",
     "text": [
      "test1\n",
      "test2\n"
     ]
    },
    {
     "data": {
      "text/html": [
       "<html>\n",
       "<div style=\"display:flex; align-items:center;\">\n",
       "<div style=\"width:290px;\">\n",
       "<svg xmlns=\"http://www.w3.org/2000/svg\" viewBox=\"-10 -105 270 120\">\n",
       "<line x1=\"-5\" y1=\"0\" x2=\"255\" y2=\"0\" style=\"fill:none;stroke-width:2;stroke:currentColor\"/>\n",
       "<text text-anchor=\"middle\" x=\"0\" y=\"15\" style=\"fill:currentColor;\">\n",
       "1\n",
       "</text>\n",
       "<text text-anchor=\"middle\" x=\"250\" y=\"15\" style=\"fill:currentColor;\">\n",
       "2\n",
       "</text>\n",
       "<text text-anchor=\"middle\" x=\"125.0\" y=\"15\" style=\"fill:currentColor;\">\n",
       "test\n",
       "</text>\n",
       "<polyline points=\"  0,0   0,-29.2   5,-29.2   5,-28.5  10,-28.5  10,-33.9  15,-33.9  15,-36.9  20,-36.9  20,-34.6  25,-34.6  25,-36.3  30,-36.3  30,-46.1  35,-46.1  35,-45.1  40,-45.1  40,-42.7  45,-42.7  45,-51.9  50,-51.9  50,-51.2  55,-51.2  55,-59.7  60,-59.7  60,-63.4  65,-63.4  65,-69.2  70,-69.2  70,-65.1  75,-65.1  75,-68.1  80,-68.1  80,-85.4  85,-85.4  85,-76.6  90,-76.6  90,-85.1  95,-85.1  95,-79.7 100,-79.7 100,-87.8 105,-87.8 105,-100 110,-100 110,-80.3 115,-80.3 115,-94.2 120,-94.2 120,-85.8 125,-85.8 125,-99 130,-99 130,-93.6 135,-93.6 135,-91.5 140,-91.5 140,-87.8 145,-87.8 145,-85.8 150,-85.8 150,-87.5 155,-87.5 155,-82.4 160,-82.4 160,-79.3 165,-79.3 165,-77.3 170,-77.3 170,-65.8 175,-65.8 175,-71.9 180,-71.9 180,-62.7 185,-62.7 185,-67.5 190,-67.5 190,-63.1 195,-63.1 195,-50.8 200,-50.8 200,-50.8 205,-50.8 205,-41 210,-41 210,-46.4 215,-46.4 215,-38.3 220,-38.3 220,-36.9 225,-36.9 225,-35.9 230,-35.9 230,-35.9 235,-35.9 235,-32.5 240,-32.5 240,-26.8 245,-26.8 245,-25.4 250,-25.4 250,0\" style=\"fill:none; stroke:currentColor;\"/>\n",
       "</svg>\n",
       "</div>\n",
       "<div style=\"flex=grow:1;\">\n",
       "Regular(50, 1, 2, name='x', label='test')<br/>\n",
       "<hr style=\"margin-top:.2em; margin-bottom:.2em;\"/>\n",
       "Double() Σ=9064.0 <em>(10000.0 with flow)</em>\n",
       "\n",
       "</div>\n",
       "</div>\n",
       "</html>"
      ],
      "text/plain": [
       "Hist(Regular(50, 1, 2, name='x', label='test'), storage=Double()) # Sum: 9064.0 (10000.0 with flow)"
      ]
     },
     "execution_count": 2,
     "metadata": {},
     "output_type": "execute_result"
    }
   ],
   "source": [
    "Hist.new.Reg(50, 1, 2, name = \"x\", label = \"test\").Double().fill(np.random.normal(1.5, 0.3, 10_000))"
   ]
  },
  {
   "cell_type": "code",
   "execution_count": 3,
   "id": "ee26b1fb-20e2-43dd-ac6a-7a4c48f062ed",
   "metadata": {},
   "outputs": [
    {
     "name": "stdout",
     "output_type": "stream",
     "text": [
      "test1\n",
      "test2\n"
     ]
    },
    {
     "data": {
      "text/html": [
       "<html>\n",
       "<div style=\"display:flex; align-items:center;\">\n",
       "<div style=\"width:290px;\">\n",
       "<svg xmlns=\"http://www.w3.org/2000/svg\" viewBox=\"-10 -105 270 120\">\n",
       "<line x1=\"-5\" y1=\"0\" x2=\"255\" y2=\"0\" style=\"fill:none;stroke-width:2;stroke:currentColor\"/>\n",
       "<text text-anchor=\"middle\" x=\"0\" y=\"15\" style=\"fill:currentColor;\">\n",
       "-9\n",
       "</text>\n",
       "<text text-anchor=\"middle\" x=\"250\" y=\"15\" style=\"fill:currentColor;\">\n",
       "9\n",
       "</text>\n",
       "<text text-anchor=\"middle\" x=\"125.0\" y=\"15\" style=\"fill:currentColor;\">\n",
       "z\n",
       "</text>\n",
       "<polyline points=\"  0,0   0,-0 13.8889,-0 13.8889,-0 27.7778,-0 27.7778,-0 41.6667,-0 41.6667,-0 55.5556,-0 55.5556,-0 69.4444,-0 69.4444,-0 83.3333,-0 83.3333,-0 97.2222,-0 97.2222,-0 111.111,-0 111.111,-0 125,-0 125,-5.44 138.889,-5.44 138.889,-100 152.778,-100 152.778,-5.32 166.667,-5.32 166.667,-0 180.556,-0 180.556,-0 194.444,-0 194.444,-0 208.333,-0 208.333,-0 222.222,-0 222.222,-0 236.111,-0 236.111,-0 250,-0 250,0\" style=\"fill:none; stroke:currentColor;\"/>\n",
       "</svg>\n",
       "</div>\n",
       "<div style=\"flex=grow:1;\">\n",
       "Integer(-9, 9, name='x', label='z')<br/>\n",
       "<hr style=\"margin-top:.2em; margin-bottom:.2em;\"/>\n",
       "Int64() Σ=10000.0\n",
       "\n",
       "</div>\n",
       "</div>\n",
       "</html>"
      ],
      "text/plain": [
       "Hist(Integer(-9, 9, name='x', label='z'), storage=Int64()) # Sum: 10000.0"
      ]
     },
     "execution_count": 3,
     "metadata": {},
     "output_type": "execute_result"
    }
   ],
   "source": [
    "Hist.new.Int(-9, 9, name = \"x\", label = \"z\").Int64().fill(np.random.normal(1.5, 0.3, 10_000))"
   ]
  },
  {
   "cell_type": "code",
   "execution_count": 4,
   "id": "37709968-9f72-4aae-954e-0d464e8dac5b",
   "metadata": {},
   "outputs": [
    {
     "name": "stdout",
     "output_type": "stream",
     "text": [
      "test1\n",
      "test2\n"
     ]
    },
    {
     "data": {
      "text/html": [
       "<html>\n",
       "<div style=\"display:flex; align-items:center;\">\n",
       "<div style=\"width:290px;\">\n",
       "<svg xmlns=\"http://www.w3.org/2000/svg\" viewBox=\"-10 -105 270 120\">\n",
       "<line x1=\"-5\" y1=\"0\" x2=\"255\" y2=\"0\" style=\"fill:none;stroke-width:2;stroke:currentColor\"/>\n",
       "<text text-anchor=\"middle\" x=\"0\" y=\"15\" style=\"fill:currentColor;\">\n",
       "0\n",
       "</text>\n",
       "<text text-anchor=\"middle\" x=\"250\" y=\"15\" style=\"fill:currentColor;\">\n",
       "10\n",
       "</text>\n",
       "<text text-anchor=\"middle\" x=\"125.0\" y=\"15\" style=\"fill:currentColor;\">\n",
       "E\n",
       "</text>\n",
       "<polyline points=\"  0,0   0,-4.98  25,-4.98  25,-100  50,-100  50,-5.1  75,-5.1  75,-0 100,-0 100,-0 125,-0 125,-0 150,-0 150,-0 175,-0 175,-0 200,-0 200,-0 225,-0 225,-0 250,-0 250,0\" style=\"fill:none; stroke:currentColor;\"/>\n",
       "</svg>\n",
       "</div>\n",
       "<div style=\"flex=grow:1;\">\n",
       "IntCategory([0, 1, 2, 3, 4, 5, 6, 7, 8, 9], name='E', label='E')<br/>\n",
       "<hr style=\"margin-top:.2em; margin-bottom:.2em;\"/>\n",
       "Int64() Σ=10000.0\n",
       "\n",
       "</div>\n",
       "</div>\n",
       "</html>"
      ],
      "text/plain": [
       "Hist(IntCategory([0, 1, 2, 3, 4, 5, 6, 7, 8, 9], name='E', label='E'), storage=Int64()) # Sum: 10000.0"
      ]
     },
     "execution_count": 4,
     "metadata": {},
     "output_type": "execute_result"
    }
   ],
   "source": [
    "Hist.new.IntCat(range(10), name=\"E\").Int64().fill(np.random.normal(1.5, 0.3, 10_000))"
   ]
  },
  {
   "cell_type": "code",
   "execution_count": 5,
   "id": "fa7a461e-7a46-44de-8b60-886cd30635ff",
   "metadata": {},
   "outputs": [
    {
     "name": "stdout",
     "output_type": "stream",
     "text": [
      "test1\n",
      "test2\n"
     ]
    },
    {
     "data": {
      "text/html": [
       "<html>\n",
       "<div style=\"display:flex; align-items:center;\">\n",
       "<div style=\"width:290px;\">\n",
       "<svg xmlns=\"http://www.w3.org/2000/svg\" viewBox=\"-10 -105 270 120\">\n",
       "<line x1=\"-5\" y1=\"0\" x2=\"255\" y2=\"0\" style=\"fill:none;stroke-width:2;stroke:currentColor\"/>\n",
       "<text text-anchor=\"middle\" x=\"0\" y=\"15\" style=\"fill:currentColor;\">\n",
       "0\n",
       "</text>\n",
       "<text text-anchor=\"middle\" x=\"250\" y=\"15\" style=\"fill:currentColor;\">\n",
       "4\n",
       "</text>\n",
       "<text text-anchor=\"middle\" x=\"125.0\" y=\"15\" style=\"fill:currentColor;\">\n",
       "F\n",
       "</text>\n",
       "<polyline points=\"  0,0   0,-100 62.5,-100 62.5,-0 125,-0 125,-100 187.5,-100 187.5,-0 250,-0 250,0\" style=\"fill:none; stroke:currentColor;\"/>\n",
       "</svg>\n",
       "</div>\n",
       "<div style=\"flex=grow:1;\">\n",
       "StrCategory(['T', 'F', 'P', 'Q'], name='F', label='F')<br/>\n",
       "<hr style=\"margin-top:.2em; margin-bottom:.2em;\"/>\n",
       "Int64() Σ=2.0\n",
       "\n",
       "</div>\n",
       "</div>\n",
       "</html>"
      ],
      "text/plain": [
       "Hist(StrCategory(['T', 'F', 'P', 'Q'], name='F', label='F'), storage=Int64()) # Sum: 2.0"
      ]
     },
     "execution_count": 5,
     "metadata": {},
     "output_type": "execute_result"
    }
   ],
   "source": [
    "Hist.new.StrCat([\"T\", \"F\", \"P\", \"Q\"], name=\"test\").Int64().fill([\"T\", \"P\"])"
   ]
  }
 ],
 "metadata": {
  "kernelspec": {
   "display_name": "Python 3.9.5 64-bit ('hist': virtualenvwrapper)",
   "language": "python",
   "name": "python395jvsc74a57bd041098d0804160d5b7135365756022a9b8fe2c90b0ad32ef001667051bf16e688"
  },
  "language_info": {
   "codemirror_mode": {
    "name": "ipython",
    "version": 3
   },
   "file_extension": ".py",
   "mimetype": "text/x-python",
   "name": "python",
   "nbconvert_exporter": "python",
   "pygments_lexer": "ipython3",
   "version": "3.9.5"
  }
 },
 "nbformat": 4,
 "nbformat_minor": 5
}
