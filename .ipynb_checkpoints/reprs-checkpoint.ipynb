{
 "cells": [
  {
   "cell_type": "markdown",
   "id": "b30f7a5b-98d0-4079-89c4-511d3732e5eb",
   "metadata": {},
   "source": [
    "# examples for testing reprs"
   ]
  },
  {
   "cell_type": "code",
   "execution_count": 1,
   "id": "7b1171b0-1aa3-4011-8c63-b4192dbde115",
   "metadata": {},
   "outputs": [],
   "source": [
    "import numpy as np\n",
    "from hist import Hist"
   ]
  },
  {
   "cell_type": "code",
   "execution_count": 2,
   "id": "5204c521-c80c-4208-8b7d-67f98b1b6be4",
   "metadata": {
    "tags": []
   },
   "outputs": [
    {
     "name": "stdout",
     "output_type": "stream",
     "text": [
      "test1\n",
      "test2\n"
     ]
    },
    {
     "data": {
      "text/html": [
       "<html>\n",
       "<div style=\"display:flex; align-items:center;\">\n",
       "<div style=\"width:290px;\">\n",
       "<svg xmlns=\"http://www.w3.org/2000/svg\" viewBox=\"-10 -105 270 120\">\n",
       "<line x1=\"-5\" y1=\"0\" x2=\"255\" y2=\"0\" style=\"fill:none;stroke-width:2;stroke:currentColor\"/>\n",
       "<text text-anchor=\"middle\" x=\"0\" y=\"15\" style=\"fill:currentColor;\">\n",
       "1\n",
       "</text>\n",
       "<text text-anchor=\"middle\" x=\"250\" y=\"15\" style=\"fill:currentColor;\">\n",
       "2\n",
       "</text>\n",
       "<text text-anchor=\"middle\" x=\"125.0\" y=\"15\" style=\"fill:currentColor;\">\n",
       "nice\n",
       "</text>\n",
       "<polyline points=\"  0,0   0,-23.3   5,-23.3   5,-28.4  10,-28.4  10,-29.8  15,-29.8  15,-41.1  20,-41.1  20,-33.1  25,-33.1  25,-43.6  30,-43.6  30,-48  35,-48  35,-49.1  40,-49.1  40,-56.4  45,-56.4  45,-56  50,-56  50,-61.5  55,-61.5  55,-64.7  60,-64.7  60,-62.5  65,-62.5  65,-72.7  70,-72.7  70,-80.4  75,-80.4  75,-67.6  80,-67.6  80,-94.9  85,-94.9  85,-88  90,-88  90,-80  95,-80  95,-95.3 100,-95.3 100,-98.2 105,-98.2 105,-100 110,-100 110,-96.7 115,-96.7 115,-97.8 120,-97.8 120,-99.3 125,-99.3 125,-96.7 130,-96.7 130,-96.4 135,-96.4 135,-96.4 140,-96.4 140,-94.5 145,-94.5 145,-88.7 150,-88.7 150,-90.2 155,-90.2 155,-90.2 160,-90.2 160,-91.6 165,-91.6 165,-81.8 170,-81.8 170,-76.4 175,-76.4 175,-74.2 180,-74.2 180,-70.2 185,-70.2 185,-73.1 190,-73.1 190,-64 195,-64 195,-57.5 200,-57.5 200,-53.1 205,-53.1 205,-56 210,-56 210,-48.4 215,-48.4 215,-43.3 220,-43.3 220,-46.2 225,-46.2 225,-31.3 230,-31.3 230,-30.9 235,-30.9 235,-29.5 240,-29.5 240,-26.2 245,-26.2 245,-22.2 250,-22.2 250,0\" style=\"fill:none; stroke:currentColor;\"/>\n",
       "</svg>\n",
       "</div>\n",
       "<div style=\"flex=grow:1;\">\n",
       "Regular(50, 1, 2, name='test', label='nice')<br/>\n",
       "<hr style=\"margin-top:.2em; margin-bottom:.2em;\"/>\n",
       "Double() Σ=9067.0 <em>(10000.0 with flow)</em>\n",
       "\n",
       "</div>\n",
       "</div>\n",
       "</html>"
      ],
      "text/plain": [
       "Hist(Regular(50, 1, 2, name='test', label='nice'), storage=Double()) # Sum: 9067.0 (10000.0 with flow)"
      ]
     },
     "execution_count": 2,
     "metadata": {},
     "output_type": "execute_result"
    }
   ],
   "source": [
    "Hist.new.Reg(50, 1, 2, name = \"test\", label = \"nice\").Double().fill(np.random.normal(1.5, 0.3, 10_000))"
   ]
  },
  {
   "cell_type": "code",
   "execution_count": 3,
   "id": "ee26b1fb-20e2-43dd-ac6a-7a4c48f062ed",
   "metadata": {},
   "outputs": [
    {
     "name": "stdout",
     "output_type": "stream",
     "text": [
      "test1\n",
      "test2\n"
     ]
    },
    {
     "data": {
      "text/html": [
       "<html>\n",
       "<div style=\"display:flex; align-items:center;\">\n",
       "<div style=\"width:290px;\">\n",
       "<svg xmlns=\"http://www.w3.org/2000/svg\" viewBox=\"-10 -105 270 120\">\n",
       "<line x1=\"-5\" y1=\"0\" x2=\"255\" y2=\"0\" style=\"fill:none;stroke-width:2;stroke:currentColor\"/>\n",
       "<text text-anchor=\"middle\" x=\"0\" y=\"15\" style=\"fill:currentColor;\">\n",
       "-9\n",
       "</text>\n",
       "<text text-anchor=\"middle\" x=\"250\" y=\"15\" style=\"fill:currentColor;\">\n",
       "9\n",
       "</text>\n",
       "<text text-anchor=\"middle\" x=\"125.0\" y=\"15\" style=\"fill:currentColor;\">\n",
       "woah\n",
       "</text>\n",
       "<polyline points=\"  0,0   0,-33.3 13.8889,-33.3 13.8889,-100 27.7778,-100 27.7778,-83.3 41.6667,-83.3 41.6667,-100 55.5556,-100 55.5556,-66.7 69.4444,-66.7 69.4444,-50 83.3333,-50 83.3333,-66.7 97.2222,-66.7 97.2222,-50 111.111,-50 111.111,-66.7 125,-66.7 125,-100 138.889,-100 138.889,-66.7 152.778,-66.7 152.778,-66.7 166.667,-66.7 166.667,-16.7 180.556,-16.7 180.556,-50 194.444,-50 194.444,-50 208.333,-50 208.333,-16.7 222.222,-16.7 222.222,-0 236.111,-0 236.111,-16.7 250,-16.7 250,0\" style=\"fill:none; stroke:currentColor;\"/>\n",
       "</svg>\n",
       "</div>\n",
       "<div style=\"flex=grow:1;\">\n",
       "Integer(-9, 9, name='wohoo', label='woah')<br/>\n",
       "<hr style=\"margin-top:.2em; margin-bottom:.2em;\"/>\n",
       "Int64() Σ=60.0 <em>(108.0 with flow)</em>\n",
       "\n",
       "</div>\n",
       "</div>\n",
       "</html>"
      ],
      "text/plain": [
       "Hist(Integer(-9, 9, name='wohoo', label='woah'), storage=Int64()) # Sum: 60.0 (108.0 with flow)"
      ]
     },
     "execution_count": 3,
     "metadata": {},
     "output_type": "execute_result"
    }
   ],
   "source": [
    "Hist.new.Int(-9, 9, name = \"wohoo\", label = \"woah\").Int64().fill(np.random.normal(-9, 9, 108))"
   ]
  },
  {
   "cell_type": "code",
   "execution_count": 4,
   "id": "37709968-9f72-4aae-954e-0d464e8dac5b",
   "metadata": {},
   "outputs": [
    {
     "name": "stdout",
     "output_type": "stream",
     "text": [
      "test1\n",
      "test2\n"
     ]
    },
    {
     "data": {
      "text/html": [
       "<html>\n",
       "<div style=\"display:flex; align-items:center;\">\n",
       "<div style=\"width:290px;\">\n",
       "<svg xmlns=\"http://www.w3.org/2000/svg\" viewBox=\"-10 -105 270 120\">\n",
       "<line x1=\"-5\" y1=\"0\" x2=\"255\" y2=\"0\" style=\"fill:none;stroke-width:2;stroke:currentColor\"/>\n",
       "<text text-anchor=\"middle\" x=\"0\" y=\"15\" style=\"fill:currentColor;\">\n",
       "0\n",
       "</text>\n",
       "<text text-anchor=\"middle\" x=\"250\" y=\"15\" style=\"fill:currentColor;\">\n",
       "10\n",
       "</text>\n",
       "<text text-anchor=\"middle\" x=\"125.0\" y=\"15\" style=\"fill:currentColor;\">\n",
       "F\n",
       "</text>\n",
       "<polyline points=\"  0,0   0,-100  25,-100  25,-0  50,-0  50,-71.4  75,-71.4  75,-85.7 100,-85.7 100,-42.9 125,-42.9 125,-57.1 150,-57.1 150,-57.1 175,-57.1 175,-28.6 200,-28.6 200,-0 225,-0 225,-14.3 250,-14.3 250,0\" style=\"fill:none; stroke:currentColor;\"/>\n",
       "</svg>\n",
       "</div>\n",
       "<div style=\"flex=grow:1;\">\n",
       "IntCategory([0, 1, 2, 3, 4, 5, 6, 7, 8, 9], name='E', label='F')<br/>\n",
       "<hr style=\"margin-top:.2em; margin-bottom:.2em;\"/>\n",
       "Int64() Σ=32.0 <em>(99.0 with flow)</em>\n",
       "\n",
       "</div>\n",
       "</div>\n",
       "</html>"
      ],
      "text/plain": [
       "Hist(IntCategory([0, 1, 2, 3, 4, 5, 6, 7, 8, 9], name='E', label='F'), storage=Int64()) # Sum: 32.0 (99.0 with flow)"
      ]
     },
     "execution_count": 4,
     "metadata": {},
     "output_type": "execute_result"
    }
   ],
   "source": [
    "h = Hist.new.IntCat(range(10), name=\"E\", label = \"F\").Int64().fill(np.random.normal(-2, 7, 99))\n",
    "h"
   ]
  },
  {
   "cell_type": "code",
   "execution_count": 5,
   "id": "09e70e4c-8f69-46b9-87f7-81b953e3eeb6",
   "metadata": {},
   "outputs": [],
   "source": [
    "h = Hist.new.Reg(10, -1, 1, name=\"x\").Double()\n",
    "html = h._repr_html_()\n",
    "assert html\n",
    "assert \"label='x'\" in repr(h) "
   ]
  },
  {
   "cell_type": "code",
   "execution_count": 6,
   "id": "fa7a461e-7a46-44de-8b60-886cd30635ff",
   "metadata": {},
   "outputs": [
    {
     "name": "stdout",
     "output_type": "stream",
     "text": [
      "test1\n",
      "test2\n"
     ]
    },
    {
     "data": {
      "text/html": [
       "<html>\n",
       "<div style=\"display:flex; align-items:center;\">\n",
       "<div style=\"width:290px;\">\n",
       "<svg xmlns=\"http://www.w3.org/2000/svg\" viewBox=\"-10 -105 270 120\">\n",
       "<line x1=\"-5\" y1=\"0\" x2=\"255\" y2=\"0\" style=\"fill:none;stroke-width:2;stroke:currentColor\"/>\n",
       "<text text-anchor=\"middle\" x=\"0\" y=\"15\" style=\"fill:currentColor;\">\n",
       "0\n",
       "</text>\n",
       "<text text-anchor=\"middle\" x=\"250\" y=\"15\" style=\"fill:currentColor;\">\n",
       "4\n",
       "</text>\n",
       "<text text-anchor=\"middle\" x=\"125.0\" y=\"15\" style=\"fill:currentColor;\">\n",
       "good\n",
       "</text>\n",
       "<polyline points=\"  0,0   0,-100 62.5,-100 62.5,-0 125,-0 125,-100 187.5,-100 187.5,-0 250,-0 250,0\" style=\"fill:none; stroke:currentColor;\"/>\n",
       "</svg>\n",
       "</div>\n",
       "<div style=\"flex=grow:1;\">\n",
       "StrCategory(['T', 'F', 'P', 'Q'], name='test', label='good')<br/>\n",
       "<hr style=\"margin-top:.2em; margin-bottom:.2em;\"/>\n",
       "Int64() Σ=2.0\n",
       "\n",
       "</div>\n",
       "</div>\n",
       "</html>"
      ],
      "text/plain": [
       "Hist(StrCategory(['T', 'F', 'P', 'Q'], name='test', label='good'), storage=Int64()) # Sum: 2.0"
      ]
     },
     "execution_count": 6,
     "metadata": {},
     "output_type": "execute_result"
    }
   ],
   "source": [
    "Hist.new.StrCat([\"T\", \"F\", \"P\", \"Q\"], name=\"test\", label = \"good\").Int64().fill([\"T\", \"P\"])"
   ]
  },
  {
   "cell_type": "code",
   "execution_count": 7,
   "id": "06ea046a-fde7-44b5-befa-20b33992e0d3",
   "metadata": {},
   "outputs": [
    {
     "name": "stdout",
     "output_type": "stream",
     "text": [
      "test1\n",
      "test2\n"
     ]
    },
    {
     "data": {
      "text/html": [
       "<html>\n",
       "<div style=\"display:flex; align-items:center;\">\n",
       "<div style=\"width:290px;\">\n",
       "<svg xmlns=\"http://www.w3.org/2000/svg\" viewBox=\"-10 -105 270 120\">\n",
       "<line x1=\"-5\" y1=\"0\" x2=\"255\" y2=\"0\" style=\"fill:none;stroke-width:2;stroke:currentColor\"/>\n",
       "<text text-anchor=\"middle\" x=\"0\" y=\"15\" style=\"fill:currentColor;\">\n",
       "0\n",
       "</text>\n",
       "<text text-anchor=\"middle\" x=\"250\" y=\"15\" style=\"fill:currentColor;\">\n",
       "9\n",
       "</text>\n",
       "<text text-anchor=\"middle\" x=\"125.0\" y=\"15\" style=\"fill:currentColor;\">\n",
       "bottom\n",
       "</text>\n",
       "<polyline points=\"  0,0   0,-0 27.7778,-0 27.7778,-100 55.5556,-100 55.5556,-0 83.3333,-0 83.3333,-0 111.111,-0 111.111,-0 138.889,-0 138.889,-100 166.667,-100 166.667,-0 194.444,-0 194.444,-0 222.222,-0 222.222,-0 250,-0 250,0\" style=\"fill:none; stroke:currentColor;\"/>\n",
       "</svg>\n",
       "</div>\n",
       "<div style=\"flex=grow:1;\">\n",
       "Variable([0, 1, 2, 3, 4, 5, 6, 7, 8, 9], name='top', label='bottom')<br/>\n",
       "<hr style=\"margin-top:.2em; margin-bottom:.2em;\"/>\n",
       "Int64() Σ=2.0\n",
       "\n",
       "</div>\n",
       "</div>\n",
       "</html>"
      ],
      "text/plain": [
       "Hist(Variable([0, 1, 2, 3, 4, 5, 6, 7, 8, 9], name='top', label='bottom'), storage=Int64()) # Sum: 2.0"
      ]
     },
     "execution_count": 7,
     "metadata": {},
     "output_type": "execute_result"
    }
   ],
   "source": [
    "Hist.new.Var(range(10), name=\"top\", label = \"bottom\").Int64().fill([1, 5])"
   ]
  },
  {
   "cell_type": "code",
   "execution_count": 14,
   "id": "f0f18952-3686-422e-b7f8-da6c6f63dcea",
   "metadata": {},
   "outputs": [
    {
     "data": {
      "text/plain": [
       "\"Hist(Variable([0, 1, 2, 3, 4, 5, 6, 7, 8, 9], name='x', label='y'), storage=Double())\""
      ]
     },
     "execution_count": 14,
     "metadata": {},
     "output_type": "execute_result"
    }
   ],
   "source": [
    "h = Hist.new.Var(range(10), name=\"x\").Double()\n",
    "html = h._repr_html_()\n",
    "assert html\n",
    "assert \"label='y'\" in repr(h)\n",
    "repr(h)"
   ]
  }
 ],
 "metadata": {
  "kernelspec": {
   "display_name": "Python 3.9.5 64-bit ('hist': virtualenvwrapper)",
   "language": "python",
   "name": "python395jvsc74a57bd041098d0804160d5b7135365756022a9b8fe2c90b0ad32ef001667051bf16e688"
  },
  "language_info": {
   "codemirror_mode": {
    "name": "ipython",
    "version": 3
   },
   "file_extension": ".py",
   "mimetype": "text/x-python",
   "name": "python",
   "nbconvert_exporter": "python",
   "pygments_lexer": "ipython3",
   "version": "3.9.5"
  }
 },
 "nbformat": 4,
 "nbformat_minor": 5
}
