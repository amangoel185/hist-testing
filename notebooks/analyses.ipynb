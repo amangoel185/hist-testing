{
 "cells": [
  {
   "cell_type": "code",
   "execution_count": 1,
   "id": "65c910e6-07e4-4cc3-ac0f-66908d0547b8",
   "metadata": {},
   "outputs": [],
   "source": [
    "from hist import Hist\n",
    "import hist\n",
    "import boost_histogram as bh\n",
    "import numpy as np"
   ]
  },
  {
   "cell_type": "code",
   "execution_count": 2,
   "id": "aa08eb1c-1169-4bca-b807-9c1ea8904382",
   "metadata": {},
   "outputs": [],
   "source": [
    "value_ax = hist.axis.Regular(100, -5, 5)\n",
    "bool_ax = hist.axis.Integer(0, 2, underflow=False, overflow=False)\n",
    "run_number_ax = hist.axis.IntCategory([], growth=True)"
   ]
  },
  {
   "cell_type": "code",
   "execution_count": 3,
   "id": "b33ce177-054c-4bc4-8001-b5d9af74b3b5",
   "metadata": {},
   "outputs": [],
   "source": [
    "# h1 = hist[:, True, :: sum]"
   ]
  }
 ],
 "metadata": {
  "kernelspec": {
   "display_name": "Python 3.9.5 64-bit ('hist': virtualenvwrapper)",
   "language": "python",
   "name": "python395jvsc74a57bd041098d0804160d5b7135365756022a9b8fe2c90b0ad32ef001667051bf16e688"
  },
  "language_info": {
   "codemirror_mode": {
    "name": "ipython",
    "version": 3
   },
   "file_extension": ".py",
   "mimetype": "text/x-python",
   "name": "python",
   "nbconvert_exporter": "python",
   "pygments_lexer": "ipython3",
   "version": "3.9.6"
  }
 },
 "nbformat": 4,
 "nbformat_minor": 5
}
