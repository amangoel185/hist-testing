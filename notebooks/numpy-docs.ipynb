{
 "cells": [
  {
   "cell_type": "code",
   "execution_count": 1,
   "id": "3edc66f3-780a-4bef-9505-9dc14d257b68",
   "metadata": {},
   "outputs": [],
   "source": [
    "import hist\n",
    "import numpy as np"
   ]
  },
  {
   "cell_type": "code",
   "execution_count": 2,
   "id": "7d695bdd-170f-4ded-9711-0b2a2c5581d0",
   "metadata": {},
   "outputs": [
    {
     "data": {
      "text/html": [
       "<html>\n",
       "<div style=\"display:flex; align-items:center;\">\n",
       "<div style=\"width:290px;\">\n",
       "<svg xmlns=\"http://www.w3.org/2000/svg\" viewBox=\"-20 -270 290 290\">\n",
       "<text text-anchor=\"middle\" x=\"0\" y=\"13\" style=\"fill:currentColor;\">\n",
       "0\n",
       "</text>\n",
       "<text text-anchor=\"middle\" x=\"250\" y=\"13\" style=\"fill:currentColor;\">\n",
       "10\n",
       "</text>\n",
       "<text text-anchor=\"middle\" x=\"-10\" y=\"0\" style=\"fill:currentColor;\">\n",
       "0\n",
       "</text>\n",
       "<text text-anchor=\"middle\" x=\"-10\" y=\"-250\" style=\"fill:currentColor;\">\n",
       "1\n",
       "</text>\n",
       "<text text-anchor=\"middle\" x=\"125.0\" y=\"13\" style=\"fill:currentColor;\">\n",
       "Axis 0\n",
       "</text>\n",
       "<text text-anchor=\"middle\" x=\"-10\" y=\"-125.0\" transform=\"rotate(-90,-10,-125.0)\" style=\"fill:currentColor;\">\n",
       "Axis 1\n",
       "</text>\n",
       "<rect x=\"0.0\" y=\"-25.0\" width=\"2.5\" height=\"25.0\" opacity=\"1.0\" fill=\"currentColor\" stroke-width=\"0.1\"/>\n",
       "<rect x=\"2.5000000000000004\" y=\"-25.0\" width=\"7.5\" height=\"25.0\" opacity=\"0.9535740604274132\" fill=\"currentColor\" stroke-width=\"0.1\"/>\n",
       "<rect x=\"10.000000000000002\" y=\"-25.0\" width=\"12.5\" height=\"25.0\" opacity=\"0.7772537460083522\" fill=\"currentColor\" stroke-width=\"0.1\"/>\n",
       "<rect x=\"22.499999999999993\" y=\"-25.0\" width=\"17.5\" height=\"25.0\" opacity=\"0.4566445590763937\" fill=\"currentColor\" stroke-width=\"0.1\"/>\n",
       "<rect x=\"40.00000000000001\" y=\"-25.0\" width=\"22.5\" height=\"25.0\" opacity=\"0.13447419416468795\" fill=\"currentColor\" stroke-width=\"0.1\"/>\n",
       "<rect x=\"62.5\" y=\"-25.0\" width=\"27.5\" height=\"25.0\" opacity=\"0.014403430026127165\" fill=\"currentColor\" stroke-width=\"0.1\"/>\n",
       "<rect x=\"89.99999999999997\" y=\"-25.0\" width=\"32.5\" height=\"25.0\" opacity=\"0.00032122139712412363\" fill=\"currentColor\" stroke-width=\"0.1\"/>\n",
       "<rect x=\"122.49999999999999\" y=\"-25.0\" width=\"37.5\" height=\"25.0\" opacity=\"0.0\" fill=\"currentColor\" stroke-width=\"0.1\"/>\n",
       "<rect x=\"160.00000000000003\" y=\"-25.0\" width=\"42.5\" height=\"25.0\" opacity=\"0.0\" fill=\"currentColor\" stroke-width=\"0.1\"/>\n",
       "<rect x=\"202.5\" y=\"-25.0\" width=\"47.5\" height=\"25.0\" opacity=\"0.0\" fill=\"currentColor\" stroke-width=\"0.1\"/>\n",
       "<rect x=\"0.0\" y=\"-50.0\" width=\"2.5\" height=\"25.0\" opacity=\"0.9712601326455416\" fill=\"currentColor\" stroke-width=\"0.1\"/>\n",
       "<rect x=\"2.5000000000000004\" y=\"-50.0\" width=\"7.5\" height=\"25.0\" opacity=\"0.9400638663718986\" fill=\"currentColor\" stroke-width=\"0.1\"/>\n",
       "<rect x=\"10.000000000000002\" y=\"-50.0\" width=\"12.5\" height=\"25.0\" opacity=\"0.7896831245394257\" fill=\"currentColor\" stroke-width=\"0.1\"/>\n",
       "<rect x=\"22.499999999999993\" y=\"-50.0\" width=\"17.5\" height=\"25.0\" opacity=\"0.4572762045127554\" fill=\"currentColor\" stroke-width=\"0.1\"/>\n",
       "<rect x=\"40.00000000000001\" y=\"-50.0\" width=\"22.5\" height=\"25.0\" opacity=\"0.1307077158219384\" fill=\"currentColor\" stroke-width=\"0.1\"/>\n",
       "<rect x=\"62.5\" y=\"-50.0\" width=\"27.5\" height=\"25.0\" opacity=\"0.013376208659922747\" fill=\"currentColor\" stroke-width=\"0.1\"/>\n",
       "<rect x=\"89.99999999999997\" y=\"-50.0\" width=\"32.5\" height=\"25.0\" opacity=\"0.00030232602082270457\" fill=\"currentColor\" stroke-width=\"0.1\"/>\n",
       "<rect x=\"122.49999999999999\" y=\"-50.0\" width=\"37.5\" height=\"25.0\" opacity=\"0.0\" fill=\"currentColor\" stroke-width=\"0.1\"/>\n",
       "<rect x=\"160.00000000000003\" y=\"-50.0\" width=\"42.5\" height=\"25.0\" opacity=\"0.0\" fill=\"currentColor\" stroke-width=\"0.1\"/>\n",
       "<rect x=\"202.5\" y=\"-50.0\" width=\"47.5\" height=\"25.0\" opacity=\"0.0\" fill=\"currentColor\" stroke-width=\"0.1\"/>\n",
       "<rect x=\"0.0\" y=\"-75.0\" width=\"2.5\" height=\"25.0\" opacity=\"0.9857528862687301\" fill=\"currentColor\" stroke-width=\"0.1\"/>\n",
       "<rect x=\"2.5000000000000004\" y=\"-75.0\" width=\"7.5\" height=\"25.0\" opacity=\"0.94358470482273\" fill=\"currentColor\" stroke-width=\"0.1\"/>\n",
       "<rect x=\"10.000000000000002\" y=\"-75.0\" width=\"12.5\" height=\"25.0\" opacity=\"0.7969540653402121\" fill=\"currentColor\" stroke-width=\"0.1\"/>\n",
       "<rect x=\"22.499999999999993\" y=\"-75.0\" width=\"17.5\" height=\"25.0\" opacity=\"0.4557672737481136\" fill=\"currentColor\" stroke-width=\"0.1\"/>\n",
       "<rect x=\"40.00000000000001\" y=\"-75.0\" width=\"22.5\" height=\"25.0\" opacity=\"0.13422855427276953\" fill=\"currentColor\" stroke-width=\"0.1\"/>\n",
       "<rect x=\"62.5\" y=\"-75.0\" width=\"27.5\" height=\"25.0\" opacity=\"0.013152899667269617\" fill=\"currentColor\" stroke-width=\"0.1\"/>\n",
       "<rect x=\"89.99999999999997\" y=\"-75.0\" width=\"32.5\" height=\"25.0\" opacity=\"0.00028343064452128567\" fill=\"currentColor\" stroke-width=\"0.1\"/>\n",
       "<rect x=\"122.49999999999999\" y=\"-75.0\" width=\"37.5\" height=\"25.0\" opacity=\"0.0\" fill=\"currentColor\" stroke-width=\"0.1\"/>\n",
       "<rect x=\"160.00000000000003\" y=\"-75.0\" width=\"42.5\" height=\"25.0\" opacity=\"0.0\" fill=\"currentColor\" stroke-width=\"0.1\"/>\n",
       "<rect x=\"202.5\" y=\"-75.0\" width=\"47.5\" height=\"25.0\" opacity=\"0.0\" fill=\"currentColor\" stroke-width=\"0.1\"/>\n",
       "<rect x=\"0.0\" y=\"-100.0\" width=\"2.5\" height=\"25.0\" opacity=\"0.9577499385900266\" fill=\"currentColor\" stroke-width=\"0.1\"/>\n",
       "<rect x=\"2.5000000000000004\" y=\"-100.0\" width=\"7.5\" height=\"25.0\" opacity=\"0.935724228281339\" fill=\"currentColor\" stroke-width=\"0.1\"/>\n",
       "<rect x=\"10.000000000000002\" y=\"-100.0\" width=\"12.5\" height=\"25.0\" opacity=\"0.7931220830262837\" fill=\"currentColor\" stroke-width=\"0.1\"/>\n",
       "<rect x=\"22.499999999999993\" y=\"-100.0\" width=\"17.5\" height=\"25.0\" opacity=\"0.4536617889602409\" fill=\"currentColor\" stroke-width=\"0.1\"/>\n",
       "<rect x=\"40.00000000000001\" y=\"-100.0\" width=\"22.5\" height=\"25.0\" opacity=\"0.1337645678102568\" fill=\"currentColor\" stroke-width=\"0.1\"/>\n",
       "<rect x=\"62.5\" y=\"-100.0\" width=\"27.5\" height=\"25.0\" opacity=\"0.013420870458453369\" fill=\"currentColor\" stroke-width=\"0.1\"/>\n",
       "<rect x=\"89.99999999999997\" y=\"-100.0\" width=\"32.5\" height=\"25.0\" opacity=\"0.00022674451561702837\" fill=\"currentColor\" stroke-width=\"0.1\"/>\n",
       "<rect x=\"122.49999999999999\" y=\"-100.0\" width=\"37.5\" height=\"25.0\" opacity=\"0.0\" fill=\"currentColor\" stroke-width=\"0.1\"/>\n",
       "<rect x=\"160.00000000000003\" y=\"-100.0\" width=\"42.5\" height=\"25.0\" opacity=\"0.0\" fill=\"currentColor\" stroke-width=\"0.1\"/>\n",
       "<rect x=\"202.5\" y=\"-100.0\" width=\"47.5\" height=\"25.0\" opacity=\"0.0\" fill=\"currentColor\" stroke-width=\"0.1\"/>\n",
       "<rect x=\"0.0\" y=\"-125.0\" width=\"2.5\" height=\"25.0\" opacity=\"0.9840334070253011\" fill=\"currentColor\" stroke-width=\"0.1\"/>\n",
       "<rect x=\"2.5000000000000004\" y=\"-125.0\" width=\"7.5\" height=\"25.0\" opacity=\"0.9380987472365514\" fill=\"currentColor\" stroke-width=\"0.1\"/>\n",
       "<rect x=\"10.000000000000002\" y=\"-125.0\" width=\"12.5\" height=\"25.0\" opacity=\"0.7866863178580209\" fill=\"currentColor\" stroke-width=\"0.1\"/>\n",
       "<rect x=\"22.499999999999993\" y=\"-125.0\" width=\"17.5\" height=\"25.0\" opacity=\"0.45334596624206036\" fill=\"currentColor\" stroke-width=\"0.1\"/>\n",
       "<rect x=\"40.00000000000001\" y=\"-125.0\" width=\"22.5\" height=\"25.0\" opacity=\"0.13095335571385688\" fill=\"currentColor\" stroke-width=\"0.1\"/>\n",
       "<rect x=\"62.5\" y=\"-125.0\" width=\"27.5\" height=\"25.0\" opacity=\"0.013979142940086214\" fill=\"currentColor\" stroke-width=\"0.1\"/>\n",
       "<rect x=\"89.99999999999997\" y=\"-125.0\" width=\"32.5\" height=\"25.0\" opacity=\"0.00030232602082270473\" fill=\"currentColor\" stroke-width=\"0.1\"/>\n",
       "<rect x=\"122.49999999999999\" y=\"-125.0\" width=\"37.5\" height=\"25.0\" opacity=\"1.637599279456316e-05\" fill=\"currentColor\" stroke-width=\"0.1\"/>\n",
       "<rect x=\"160.00000000000003\" y=\"-125.0\" width=\"42.5\" height=\"25.0\" opacity=\"0.0\" fill=\"currentColor\" stroke-width=\"0.1\"/>\n",
       "<rect x=\"202.5\" y=\"-125.0\" width=\"47.5\" height=\"25.0\" opacity=\"0.0\" fill=\"currentColor\" stroke-width=\"0.1\"/>\n",
       "<rect x=\"0.0\" y=\"-150.0\" width=\"2.5\" height=\"25.0\" opacity=\"0.9899287644313437\" fill=\"currentColor\" stroke-width=\"0.1\"/>\n",
       "<rect x=\"2.5000000000000004\" y=\"-150.0\" width=\"7.5\" height=\"25.0\" opacity=\"0.9491525423728815\" fill=\"currentColor\" stroke-width=\"0.1\"/>\n",
       "<rect x=\"10.000000000000002\" y=\"-150.0\" width=\"12.5\" height=\"25.0\" opacity=\"0.7967575534266772\" fill=\"currentColor\" stroke-width=\"0.1\"/>\n",
       "<rect x=\"22.499999999999993\" y=\"-150.0\" width=\"17.5\" height=\"25.0\" opacity=\"0.4543636172228654\" fill=\"currentColor\" stroke-width=\"0.1\"/>\n",
       "<rect x=\"40.00000000000001\" y=\"-150.0\" width=\"22.5\" height=\"25.0\" opacity=\"0.13428314091541807\" fill=\"currentColor\" stroke-width=\"0.1\"/>\n",
       "<rect x=\"62.5\" y=\"-150.0\" width=\"27.5\" height=\"25.0\" opacity=\"0.013532524954779947\" fill=\"currentColor\" stroke-width=\"0.1\"/>\n",
       "<rect x=\"89.99999999999997\" y=\"-150.0\" width=\"32.5\" height=\"25.0\" opacity=\"0.00030232602082270473\" fill=\"currentColor\" stroke-width=\"0.1\"/>\n",
       "<rect x=\"122.49999999999999\" y=\"-150.0\" width=\"37.5\" height=\"25.0\" opacity=\"0.0\" fill=\"currentColor\" stroke-width=\"0.1\"/>\n",
       "<rect x=\"160.00000000000003\" y=\"-150.0\" width=\"42.5\" height=\"25.0\" opacity=\"0.0\" fill=\"currentColor\" stroke-width=\"0.1\"/>\n",
       "<rect x=\"202.5\" y=\"-150.0\" width=\"47.5\" height=\"25.0\" opacity=\"0.0\" fill=\"currentColor\" stroke-width=\"0.1\"/>\n",
       "<rect x=\"0.0\" y=\"-175.0\" width=\"2.5\" height=\"25.0\" opacity=\"0.9688037337263572\" fill=\"currentColor\" stroke-width=\"0.1\"/>\n",
       "<rect x=\"2.5000000000000004\" y=\"-175.0\" width=\"7.5\" height=\"25.0\" opacity=\"0.9465323835257514\" fill=\"currentColor\" stroke-width=\"0.1\"/>\n",
       "<rect x=\"10.000000000000002\" y=\"-175.0\" width=\"12.5\" height=\"25.0\" opacity=\"0.7933677229182027\" fill=\"currentColor\" stroke-width=\"0.1\"/>\n",
       "<rect x=\"22.499999999999993\" y=\"-175.0\" width=\"17.5\" height=\"25.0\" opacity=\"0.455837456574376\" fill=\"currentColor\" stroke-width=\"0.1\"/>\n",
       "<rect x=\"40.00000000000001\" y=\"-175.0\" width=\"22.5\" height=\"25.0\" opacity=\"0.1342558475940938\" fill=\"currentColor\" stroke-width=\"0.1\"/>\n",
       "<rect x=\"62.5\" y=\"-175.0\" width=\"27.5\" height=\"25.0\" opacity=\"0.013420870458453379\" fill=\"currentColor\" stroke-width=\"0.1\"/>\n",
       "<rect x=\"89.99999999999997\" y=\"-175.0\" width=\"32.5\" height=\"25.0\" opacity=\"0.00030232602082270473\" fill=\"currentColor\" stroke-width=\"0.1\"/>\n",
       "<rect x=\"122.49999999999999\" y=\"-175.0\" width=\"37.5\" height=\"25.0\" opacity=\"0.0\" fill=\"currentColor\" stroke-width=\"0.1\"/>\n",
       "<rect x=\"160.00000000000003\" y=\"-175.0\" width=\"42.5\" height=\"25.0\" opacity=\"0.0\" fill=\"currentColor\" stroke-width=\"0.1\"/>\n",
       "<rect x=\"202.5\" y=\"-175.0\" width=\"47.5\" height=\"25.0\" opacity=\"0.0\" fill=\"currentColor\" stroke-width=\"0.1\"/>\n",
       "<rect x=\"0.0\" y=\"-200.0\" width=\"2.5\" height=\"25.0\" opacity=\"0.981822647998034\" fill=\"currentColor\" stroke-width=\"0.1\"/>\n",
       "<rect x=\"2.5000000000000004\" y=\"-200.0\" width=\"7.5\" height=\"25.0\" opacity=\"0.952100221075902\" fill=\"currentColor\" stroke-width=\"0.1\"/>\n",
       "<rect x=\"10.000000000000002\" y=\"-200.0\" width=\"12.5\" height=\"25.0\" opacity=\"0.7858511422254972\" fill=\"currentColor\" stroke-width=\"0.1\"/>\n",
       "<rect x=\"22.499999999999993\" y=\"-200.0\" width=\"17.5\" height=\"25.0\" opacity=\"0.4481875285117726\" fill=\"currentColor\" stroke-width=\"0.1\"/>\n",
       "<rect x=\"40.00000000000001\" y=\"-200.0\" width=\"22.5\" height=\"25.0\" opacity=\"0.1319905019241791\" fill=\"currentColor\" stroke-width=\"0.1\"/>\n",
       "<rect x=\"62.5\" y=\"-200.0\" width=\"27.5\" height=\"25.0\" opacity=\"0.013286885062861485\" fill=\"currentColor\" stroke-width=\"0.1\"/>\n",
       "<rect x=\"89.99999999999997\" y=\"-200.0\" width=\"32.5\" height=\"25.0\" opacity=\"0.00022674451561702824\" fill=\"currentColor\" stroke-width=\"0.1\"/>\n",
       "<rect x=\"122.49999999999999\" y=\"-200.0\" width=\"37.5\" height=\"25.0\" opacity=\"0.0\" fill=\"currentColor\" stroke-width=\"0.1\"/>\n",
       "<rect x=\"160.00000000000003\" y=\"-200.0\" width=\"42.5\" height=\"25.0\" opacity=\"0.0\" fill=\"currentColor\" stroke-width=\"0.1\"/>\n",
       "<rect x=\"202.5\" y=\"-200.0\" width=\"47.5\" height=\"25.0\" opacity=\"0.0\" fill=\"currentColor\" stroke-width=\"0.1\"/>\n",
       "<rect x=\"0.0\" y=\"-225.0\" width=\"2.5\" height=\"25.0\" opacity=\"0.9968066814050603\" fill=\"currentColor\" stroke-width=\"0.1\"/>\n",
       "<rect x=\"2.5000000000000004\" y=\"-225.0\" width=\"7.5\" height=\"25.0\" opacity=\"0.9467780234176699\" fill=\"currentColor\" stroke-width=\"0.1\"/>\n",
       "<rect x=\"10.000000000000002\" y=\"-225.0\" width=\"12.5\" height=\"25.0\" opacity=\"0.7844264308523712\" fill=\"currentColor\" stroke-width=\"0.1\"/>\n",
       "<rect x=\"22.499999999999993\" y=\"-225.0\" width=\"17.5\" height=\"25.0\" opacity=\"0.4524686809137802\" fill=\"currentColor\" stroke-width=\"0.1\"/>\n",
       "<rect x=\"40.00000000000001\" y=\"-225.0\" width=\"22.5\" height=\"25.0\" opacity=\"0.1318267419962336\" fill=\"currentColor\" stroke-width=\"0.1\"/>\n",
       "<rect x=\"62.5\" y=\"-225.0\" width=\"27.5\" height=\"25.0\" opacity=\"0.013264554163596185\" fill=\"currentColor\" stroke-width=\"0.1\"/>\n",
       "<rect x=\"89.99999999999997\" y=\"-225.0\" width=\"32.5\" height=\"25.0\" opacity=\"0.0002456398919184476\" fill=\"currentColor\" stroke-width=\"0.1\"/>\n",
       "<rect x=\"122.49999999999999\" y=\"-225.0\" width=\"37.5\" height=\"25.0\" opacity=\"0.0\" fill=\"currentColor\" stroke-width=\"0.1\"/>\n",
       "<rect x=\"160.00000000000003\" y=\"-225.0\" width=\"42.5\" height=\"25.0\" opacity=\"0.0\" fill=\"currentColor\" stroke-width=\"0.1\"/>\n",
       "<rect x=\"202.5\" y=\"-225.0\" width=\"47.5\" height=\"25.0\" opacity=\"0.0\" fill=\"currentColor\" stroke-width=\"0.1\"/>\n",
       "<rect x=\"0.0\" y=\"-250.0\" width=\"2.5\" height=\"25.0\" opacity=\"0.9801031687546059\" fill=\"currentColor\" stroke-width=\"0.1\"/>\n",
       "<rect x=\"2.5000000000000004\" y=\"-250.0\" width=\"7.5\" height=\"25.0\" opacity=\"0.948006222877262\" fill=\"currentColor\" stroke-width=\"0.1\"/>\n",
       "<rect x=\"10.000000000000002\" y=\"-250.0\" width=\"12.5\" height=\"25.0\" opacity=\"0.7786293294030958\" fill=\"currentColor\" stroke-width=\"0.1\"/>\n",
       "<rect x=\"22.499999999999993\" y=\"-250.0\" width=\"17.5\" height=\"25.0\" opacity=\"0.45032810471277657\" fill=\"currentColor\" stroke-width=\"0.1\"/>\n",
       "<rect x=\"40.00000000000001\" y=\"-250.0\" width=\"22.5\" height=\"25.0\" opacity=\"0.13496547394852487\" fill=\"currentColor\" stroke-width=\"0.1\"/>\n",
       "<rect x=\"62.5\" y=\"-250.0\" width=\"27.5\" height=\"25.0\" opacity=\"0.013532524954779947\" fill=\"currentColor\" stroke-width=\"0.1\"/>\n",
       "<rect x=\"89.99999999999997\" y=\"-250.0\" width=\"32.5\" height=\"25.0\" opacity=\"0.00030232602082270473\" fill=\"currentColor\" stroke-width=\"0.1\"/>\n",
       "<rect x=\"122.49999999999999\" y=\"-250.0\" width=\"37.5\" height=\"25.0\" opacity=\"0.0\" fill=\"currentColor\" stroke-width=\"0.1\"/>\n",
       "<rect x=\"160.00000000000003\" y=\"-250.0\" width=\"42.5\" height=\"25.0\" opacity=\"0.0\" fill=\"currentColor\" stroke-width=\"0.1\"/>\n",
       "<rect x=\"202.5\" y=\"-250.0\" width=\"47.5\" height=\"25.0\" opacity=\"0.0\" fill=\"currentColor\" stroke-width=\"0.1\"/>\n",
       "</svg>\n",
       "</div>\n",
       "<div style=\"flex=grow:1;\">\n",
       "Regular(10, 0, 10, transform=sqrt, metadata='x', label='Axis 0')<br/>\n",
       "Regular(10, 0, 1, circular=True, metadata='y', label='Axis 1')<br/>\n",
       "<hr style=\"margin-top:.2em; margin-bottom:.2em;\"/>\n",
       "Int64() Σ=500183.0 <em>(1000000.0 with flow)</em>\n",
       "\n",
       "</div>\n",
       "</div>\n",
       "</html>"
      ],
      "text/plain": [
       "Hist(\n",
       "  Regular(10, 0, 10, transform=sqrt, metadata='x', label='Axis 0'),\n",
       "  Regular(10, 0, 1, circular=True, metadata='y', label='Axis 1'),\n",
       "  storage=Int64()) # Sum: 500183.0 (1000000.0 with flow)"
      ]
     },
     "execution_count": 2,
     "metadata": {},
     "output_type": "execute_result"
    }
   ],
   "source": [
    "hist2 = hist.Hist(\n",
    "    hist.axis.Regular(10, 0, 10, metadata=\"x\", transform=hist.axis.transform.sqrt),\n",
    "    hist.axis.Regular(10, 0, 1, circular=True, metadata=\"y\"),\n",
    "    storage=hist.storage.Int64(),\n",
    ")\n",
    "\n",
    "vals = np.random.normal(size=(2, 1_000_000))\n",
    "hist2.fill(*vals)"
   ]
  },
  {
   "cell_type": "code",
   "execution_count": 3,
   "id": "81ff271d-3300-4506-bd66-9711cf0835a6",
   "metadata": {},
   "outputs": [
    {
     "data": {
      "text/plain": [
       "array([[ 4071,  3954,  4013,  3899,  4006,  4030,  3944,  3997,  4058,\n",
       "         3990],\n",
       "       [11646, 11481, 11524, 11428, 11457, 11592, 11560, 11628, 11563,\n",
       "        11578],\n",
       "       [15821, 16074, 16222, 16144, 16013, 16218, 16149, 15996, 15967,\n",
       "        15849],\n",
       "       [13013, 13031, 12988, 12928, 12919, 12948, 12990, 12772, 12894,\n",
       "        12833],\n",
       "       [ 4927,  4789,  4918,  4901,  4798,  4920,  4919,  4836,  4830,\n",
       "         4945],\n",
       "       [  645,   599,   589,   601,   626,   606,   601,   595,   594,\n",
       "          606],\n",
       "       [   17,    16,    15,    12,    16,    16,    16,    12,    13,\n",
       "           16],\n",
       "       [    0,     0,     0,     0,     1,     0,     0,     0,     0,\n",
       "            0],\n",
       "       [    0,     0,     0,     0,     0,     0,     0,     0,     0,\n",
       "            0],\n",
       "       [    0,     0,     0,     0,     0,     0,     0,     0,     0,\n",
       "            0]], dtype=int64)"
      ]
     },
     "execution_count": 3,
     "metadata": {},
     "output_type": "execute_result"
    }
   ],
   "source": [
    "hist2.view()"
   ]
  },
  {
   "cell_type": "code",
   "execution_count": 4,
   "id": "78acb602-fa99-4fce-adda-24b60b5635a4",
   "metadata": {},
   "outputs": [
    {
     "data": {
      "text/plain": [
       "<function boost_histogram.numpy.histogram(a: object, bins: int = 10, range: Optional[Tuple[float, float]] = None, normed: None = None, weights: Optional[object] = None, density: bool = False, *, histogram: Optional[Type[boost_histogram.Histogram]] = None, storage: Optional[boost_histogram._internal.storage.Storage] = None, threads: Optional[int] = None) -> Any>"
      ]
     },
     "execution_count": 4,
     "metadata": {},
     "output_type": "execute_result"
    }
   ],
   "source": [
    "hist.numpy.histogram"
   ]
  },
  {
   "cell_type": "code",
   "execution_count": 5,
   "id": "4364dca6-1224-4f4f-b328-9995a8aaf6ca",
   "metadata": {},
   "outputs": [
    {
     "data": {
      "text/plain": [
       "<function boost_histogram.numpy.histogram2d(x: object, y: object, bins: Union[int, Tuple[int, int]] = 10, range: Optional[Sequence[Optional[Tuple[float, float]]]] = None, normed: None = None, weights: Optional[object] = None, density: bool = False, *, histogram: Optional[Type[boost_histogram.Histogram]] = None, storage: boost_histogram._internal.storage.Storage = Double(), threads: Optional[int] = None) -> Any>"
      ]
     },
     "execution_count": 5,
     "metadata": {},
     "output_type": "execute_result"
    }
   ],
   "source": [
    "hist.numpy.histogram2d"
   ]
  },
  {
   "cell_type": "code",
   "execution_count": 6,
   "id": "9c2dfa70-e08d-4e72-a0a1-78a8437ed390",
   "metadata": {},
   "outputs": [
    {
     "data": {
      "text/plain": [
       "<function boost_histogram.numpy.histogramdd(a: Tuple[object, ...], bins: Union[int, Tuple[int, ...]] = 10, range: Optional[Sequence[Optional[Tuple[float, float]]]] = None, normed: None = None, weights: Optional[object] = None, density: bool = False, *, histogram: Optional[Type[boost_histogram.Histogram]] = None, storage: boost_histogram._internal.storage.Storage = Double(), threads: Optional[int] = None) -> Any>"
      ]
     },
     "execution_count": 6,
     "metadata": {},
     "output_type": "execute_result"
    }
   ],
   "source": [
    "hist.numpy.histogramdd"
   ]
  },
  {
   "cell_type": "code",
   "execution_count": 7,
   "id": "e65e31d1-93f2-4ded-a28f-17b6ac417398",
   "metadata": {},
   "outputs": [],
   "source": [
    "histogram=hist.Hist"
   ]
  },
  {
   "cell_type": "code",
   "execution_count": 8,
   "id": "747af136-7c01-4c05-ba59-fddbae70445d",
   "metadata": {},
   "outputs": [],
   "source": [
    "norm_vals = np.concatenate([\n",
    "    np.random.normal(loc=5, scale=1, size=1_000_000),\n",
    "    np.random.normal(loc=2, scale=.2, size=200_000),\n",
    "    np.random.normal(loc=8, scale=.2, size=200_000),\n",
    "])"
   ]
  },
  {
   "cell_type": "code",
   "execution_count": 9,
   "id": "7b83af9a-aeb6-4d73-b238-2c3a764ec30c",
   "metadata": {},
   "outputs": [
    {
     "name": "stdout",
     "output_type": "stream",
     "text": [
      "21.1 ms ± 3.12 ms per loop (mean ± std. dev. of 7 runs, 10 loops each)\n"
     ]
    }
   ],
   "source": [
    "%%timeit\n",
    "bins, edges = np.histogram(norm_vals, bins=100, range=(0, 10))"
   ]
  },
  {
   "cell_type": "code",
   "execution_count": 10,
   "id": "1babe038-8262-4e77-811a-e185ef00c649",
   "metadata": {},
   "outputs": [
    {
     "name": "stdout",
     "output_type": "stream",
     "text": [
      "7.4 ms ± 682 µs per loop (mean ± std. dev. of 7 runs, 100 loops each)\n"
     ]
    }
   ],
   "source": [
    "%%timeit\n",
    "bins, edges = hist.numpy.histogram(norm_vals, bins=100, range=(0, 10))"
   ]
  },
  {
   "cell_type": "code",
   "execution_count": 11,
   "id": "84597e92-0cdb-4bdf-b56f-a0d158c5a5bf",
   "metadata": {},
   "outputs": [],
   "source": [
    "hist = hist.numpy.histogram(norm_vals, bins=100, range=(0, 10), histogram=hist.Hist)"
   ]
  },
  {
   "cell_type": "code",
   "execution_count": 12,
   "id": "3d0230be-12c9-4965-81a5-c81ede3998bf",
   "metadata": {},
   "outputs": [],
   "source": [
    "bins, edges = hist.to_numpy()"
   ]
  },
  {
   "cell_type": "code",
   "execution_count": 13,
   "id": "a2944dc9-3b69-4f5b-be39-38d14669a127",
   "metadata": {},
   "outputs": [],
   "source": [
    "data  = np.random.multivariate_normal(\n",
    "   (0, 0),\n",
    "   ((1, 0),(0, .5)),\n",
    "   10_000_000).T.copy()"
   ]
  },
  {
   "cell_type": "code",
   "execution_count": 14,
   "id": "d1fcaf2c-bc9a-4848-9324-61c6c7dcb5b4",
   "metadata": {},
   "outputs": [
    {
     "name": "stdout",
     "output_type": "stream",
     "text": [
      "2.15 s ± 143 ms per loop (mean ± std. dev. of 7 runs, 1 loop each)\n"
     ]
    }
   ],
   "source": [
    "%%timeit\n",
    "np.histogram2d(*data, bins=(400, 200), range=((-2, 2), (-1, 1)))"
   ]
  },
  {
   "cell_type": "code",
   "execution_count": 15,
   "id": "58c54f6f-ebc7-4f6c-a94b-fbed495c63ea",
   "metadata": {},
   "outputs": [
    {
     "ename": "AttributeError",
     "evalue": "'Hist' object has no attribute 'numpy'",
     "output_type": "error",
     "traceback": [
      "\u001b[0;31m---------------------------------------------------------------------------\u001b[0m",
      "\u001b[0;31mAttributeError\u001b[0m                            Traceback (most recent call last)",
      "Input \u001b[0;32mIn [15]\u001b[0m, in \u001b[0;36m<module>\u001b[0;34m\u001b[0m\n\u001b[0;32m----> 1\u001b[0m \u001b[43mhist\u001b[49m\u001b[38;5;241;43m.\u001b[39;49m\u001b[43mnumpy\u001b[49m\u001b[38;5;241m.\u001b[39mhistogram2d(\u001b[38;5;241m*\u001b[39mdata, bins\u001b[38;5;241m=\u001b[39m(\u001b[38;5;241m400\u001b[39m, \u001b[38;5;241m200\u001b[39m), \u001b[38;5;28mrange\u001b[39m\u001b[38;5;241m=\u001b[39m((\u001b[38;5;241m-\u001b[39m\u001b[38;5;241m2\u001b[39m, \u001b[38;5;241m2\u001b[39m), (\u001b[38;5;241m-\u001b[39m\u001b[38;5;241m1\u001b[39m, \u001b[38;5;241m1\u001b[39m)))\n",
      "\u001b[0;31mAttributeError\u001b[0m: 'Hist' object has no attribute 'numpy'"
     ]
    }
   ],
   "source": [
    "hist.numpy.histogram2d(*data, bins=(400, 200), range=((-2, 2), (-1, 1)))"
   ]
  }
 ],
 "metadata": {
  "kernelspec": {
   "display_name": "hist",
   "language": "python",
   "name": "hist"
  },
  "language_info": {
   "codemirror_mode": {
    "name": "ipython",
    "version": 3
   },
   "file_extension": ".py",
   "mimetype": "text/x-python",
   "name": "python",
   "nbconvert_exporter": "python",
   "pygments_lexer": "ipython3",
   "version": "3.10.2"
  }
 },
 "nbformat": 4,
 "nbformat_minor": 5
}
