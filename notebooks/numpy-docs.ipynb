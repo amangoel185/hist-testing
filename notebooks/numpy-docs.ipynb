{
 "cells": [
  {
   "cell_type": "code",
   "execution_count": 1,
   "id": "3edc66f3-780a-4bef-9505-9dc14d257b68",
   "metadata": {},
   "outputs": [],
   "source": [
    "import hist\n",
    "import numpy as np"
   ]
  },
  {
   "cell_type": "code",
   "execution_count": 2,
   "id": "7d695bdd-170f-4ded-9711-0b2a2c5581d0",
   "metadata": {},
   "outputs": [
    {
     "data": {
      "text/html": [
       "<html>\n",
       "<div style=\"display:flex; align-items:center;\">\n",
       "<div style=\"width:290px;\">\n",
       "<svg xmlns=\"http://www.w3.org/2000/svg\" viewBox=\"-20 -270 290 290\">\n",
       "<text text-anchor=\"middle\" x=\"0\" y=\"13\" style=\"fill:currentColor;\">\n",
       "0\n",
       "</text>\n",
       "<text text-anchor=\"middle\" x=\"250\" y=\"13\" style=\"fill:currentColor;\">\n",
       "10\n",
       "</text>\n",
       "<text text-anchor=\"middle\" x=\"-10\" y=\"0\" style=\"fill:currentColor;\">\n",
       "0\n",
       "</text>\n",
       "<text text-anchor=\"middle\" x=\"-10\" y=\"-250\" style=\"fill:currentColor;\">\n",
       "1\n",
       "</text>\n",
       "<text text-anchor=\"middle\" x=\"125.0\" y=\"13\" style=\"fill:currentColor;\">\n",
       "Axis 0\n",
       "</text>\n",
       "<text text-anchor=\"middle\" x=\"-10\" y=\"-125.0\" transform=\"rotate(-90,-10,-125.0)\" style=\"fill:currentColor;\">\n",
       "Axis 1\n",
       "</text>\n",
       "<rect x=\"0.0\" y=\"-25.0\" width=\"2.5\" height=\"25.0\" opacity=\"0.983214021229326\" fill=\"currentColor\" stroke-width=\"0.1\"/>\n",
       "<rect x=\"2.5000000000000004\" y=\"-25.0\" width=\"7.5\" height=\"25.0\" opacity=\"0.9482432321237553\" fill=\"currentColor\" stroke-width=\"0.1\"/>\n",
       "<rect x=\"10.000000000000002\" y=\"-25.0\" width=\"12.5\" height=\"25.0\" opacity=\"0.7985682547519135\" fill=\"currentColor\" stroke-width=\"0.1\"/>\n",
       "<rect x=\"22.499999999999993\" y=\"-25.0\" width=\"17.5\" height=\"25.0\" opacity=\"0.4579468914201076\" fill=\"currentColor\" stroke-width=\"0.1\"/>\n",
       "<rect x=\"40.00000000000001\" y=\"-25.0\" width=\"22.5\" height=\"25.0\" opacity=\"0.13223072492388713\" fill=\"currentColor\" stroke-width=\"0.1\"/>\n",
       "<rect x=\"62.5\" y=\"-25.0\" width=\"27.5\" height=\"25.0\" opacity=\"0.013240277372590393\" fill=\"currentColor\" stroke-width=\"0.1\"/>\n",
       "<rect x=\"89.99999999999997\" y=\"-25.0\" width=\"32.5\" height=\"25.0\" opacity=\"0.00032280728405142115\" fill=\"currentColor\" stroke-width=\"0.1\"/>\n",
       "<rect x=\"122.49999999999999\" y=\"-25.0\" width=\"37.5\" height=\"25.0\" opacity=\"0.0\" fill=\"currentColor\" stroke-width=\"0.1\"/>\n",
       "<rect x=\"160.00000000000003\" y=\"-25.0\" width=\"42.5\" height=\"25.0\" opacity=\"0.0\" fill=\"currentColor\" stroke-width=\"0.1\"/>\n",
       "<rect x=\"202.5\" y=\"-25.0\" width=\"47.5\" height=\"25.0\" opacity=\"0.0\" fill=\"currentColor\" stroke-width=\"0.1\"/>\n",
       "<rect x=\"0.0\" y=\"-50.0\" width=\"2.5\" height=\"25.0\" opacity=\"0.9688965687484571\" fill=\"currentColor\" stroke-width=\"0.1\"/>\n",
       "<rect x=\"2.5000000000000004\" y=\"-50.0\" width=\"7.5\" height=\"25.0\" opacity=\"0.9454455689953096\" fill=\"currentColor\" stroke-width=\"0.1\"/>\n",
       "<rect x=\"10.000000000000002\" y=\"-50.0\" width=\"12.5\" height=\"25.0\" opacity=\"0.7956060232041476\" fill=\"currentColor\" stroke-width=\"0.1\"/>\n",
       "<rect x=\"22.499999999999993\" y=\"-50.0\" width=\"17.5\" height=\"25.0\" opacity=\"0.4593927425327077\" fill=\"currentColor\" stroke-width=\"0.1\"/>\n",
       "<rect x=\"40.00000000000001\" y=\"-50.0\" width=\"22.5\" height=\"25.0\" opacity=\"0.1349186757727859\" fill=\"currentColor\" stroke-width=\"0.1\"/>\n",
       "<rect x=\"62.5\" y=\"-50.0\" width=\"27.5\" height=\"25.0\" opacity=\"0.014250129036601524\" fill=\"currentColor\" stroke-width=\"0.1\"/>\n",
       "<rect x=\"89.99999999999997\" y=\"-50.0\" width=\"32.5\" height=\"25.0\" opacity=\"0.00028482995651595987\" fill=\"currentColor\" stroke-width=\"0.1\"/>\n",
       "<rect x=\"122.49999999999999\" y=\"-50.0\" width=\"37.5\" height=\"25.0\" opacity=\"0.0\" fill=\"currentColor\" stroke-width=\"0.1\"/>\n",
       "<rect x=\"160.00000000000003\" y=\"-50.0\" width=\"42.5\" height=\"25.0\" opacity=\"0.0\" fill=\"currentColor\" stroke-width=\"0.1\"/>\n",
       "<rect x=\"202.5\" y=\"-50.0\" width=\"47.5\" height=\"25.0\" opacity=\"0.0\" fill=\"currentColor\" stroke-width=\"0.1\"/>\n",
       "<rect x=\"0.0\" y=\"-75.0\" width=\"2.5\" height=\"25.0\" opacity=\"0.9669217477166132\" fill=\"currentColor\" stroke-width=\"0.1\"/>\n",
       "<rect x=\"2.5000000000000004\" y=\"-75.0\" width=\"7.5\" height=\"25.0\" opacity=\"0.9466798321402125\" fill=\"currentColor\" stroke-width=\"0.1\"/>\n",
       "<rect x=\"10.000000000000002\" y=\"-75.0\" width=\"12.5\" height=\"25.0\" opacity=\"0.8018760799802525\" fill=\"currentColor\" stroke-width=\"0.1\"/>\n",
       "<rect x=\"22.499999999999993\" y=\"-75.0\" width=\"17.5\" height=\"25.0\" opacity=\"0.4544909546143807\" fill=\"currentColor\" stroke-width=\"0.1\"/>\n",
       "<rect x=\"40.00000000000001\" y=\"-75.0\" width=\"22.5\" height=\"25.0\" opacity=\"0.13371184069777017\" fill=\"currentColor\" stroke-width=\"0.1\"/>\n",
       "<rect x=\"62.5\" y=\"-75.0\" width=\"27.5\" height=\"25.0\" opacity=\"0.013419806557303487\" fill=\"currentColor\" stroke-width=\"0.1\"/>\n",
       "<rect x=\"89.99999999999997\" y=\"-75.0\" width=\"32.5\" height=\"25.0\" opacity=\"0.00017089797390957596\" fill=\"currentColor\" stroke-width=\"0.1\"/>\n",
       "<rect x=\"122.49999999999999\" y=\"-75.0\" width=\"37.5\" height=\"25.0\" opacity=\"0.0\" fill=\"currentColor\" stroke-width=\"0.1\"/>\n",
       "<rect x=\"160.00000000000003\" y=\"-75.0\" width=\"42.5\" height=\"25.0\" opacity=\"0.0\" fill=\"currentColor\" stroke-width=\"0.1\"/>\n",
       "<rect x=\"202.5\" y=\"-75.0\" width=\"47.5\" height=\"25.0\" opacity=\"0.0\" fill=\"currentColor\" stroke-width=\"0.1\"/>\n",
       "<rect x=\"0.0\" y=\"-100.0\" width=\"2.5\" height=\"25.0\" opacity=\"0.9629721056529248\" fill=\"currentColor\" stroke-width=\"0.1\"/>\n",
       "<rect x=\"2.5000000000000004\" y=\"-100.0\" width=\"7.5\" height=\"25.0\" opacity=\"0.9667571792972924\" fill=\"currentColor\" stroke-width=\"0.1\"/>\n",
       "<rect x=\"10.000000000000002\" y=\"-100.0\" width=\"12.5\" height=\"25.0\" opacity=\"0.7951616884719824\" fill=\"currentColor\" stroke-width=\"0.1\"/>\n",
       "<rect x=\"22.499999999999993\" y=\"-100.0\" width=\"17.5\" height=\"25.0\" opacity=\"0.4548436012272097\" fill=\"currentColor\" stroke-width=\"0.1\"/>\n",
       "<rect x=\"40.00000000000001\" y=\"-100.0\" width=\"22.5\" height=\"25.0\" opacity=\"0.12981705477385555\" fill=\"currentColor\" stroke-width=\"0.1\"/>\n",
       "<rect x=\"62.5\" y=\"-100.0\" width=\"27.5\" height=\"25.0\" opacity=\"0.013935952963353612\" fill=\"currentColor\" stroke-width=\"0.1\"/>\n",
       "<rect x=\"89.99999999999997\" y=\"-100.0\" width=\"32.5\" height=\"25.0\" opacity=\"0.00017089797390957586\" fill=\"currentColor\" stroke-width=\"0.1\"/>\n",
       "<rect x=\"122.49999999999999\" y=\"-100.0\" width=\"37.5\" height=\"25.0\" opacity=\"0.0\" fill=\"currentColor\" stroke-width=\"0.1\"/>\n",
       "<rect x=\"160.00000000000003\" y=\"-100.0\" width=\"42.5\" height=\"25.0\" opacity=\"0.0\" fill=\"currentColor\" stroke-width=\"0.1\"/>\n",
       "<rect x=\"202.5\" y=\"-100.0\" width=\"47.5\" height=\"25.0\" opacity=\"0.0\" fill=\"currentColor\" stroke-width=\"0.1\"/>\n",
       "<rect x=\"0.0\" y=\"-125.0\" width=\"2.5\" height=\"25.0\" opacity=\"0.9711182424092816\" fill=\"currentColor\" stroke-width=\"0.1\"/>\n",
       "<rect x=\"2.5000000000000004\" y=\"-125.0\" width=\"7.5\" height=\"25.0\" opacity=\"0.9451164321566693\" fill=\"currentColor\" stroke-width=\"0.1\"/>\n",
       "<rect x=\"10.000000000000002\" y=\"-125.0\" width=\"12.5\" height=\"25.0\" opacity=\"0.7967909158232541\" fill=\"currentColor\" stroke-width=\"0.1\"/>\n",
       "<rect x=\"22.499999999999993\" y=\"-125.0\" width=\"17.5\" height=\"25.0\" opacity=\"0.46080332898402493\" fill=\"currentColor\" stroke-width=\"0.1\"/>\n",
       "<rect x=\"40.00000000000001\" y=\"-125.0\" width=\"22.5\" height=\"25.0\" opacity=\"0.13294385474094195\" fill=\"currentColor\" stroke-width=\"0.1\"/>\n",
       "<rect x=\"62.5\" y=\"-125.0\" width=\"27.5\" height=\"25.0\" opacity=\"0.012297749152846675\" fill=\"currentColor\" stroke-width=\"0.1\"/>\n",
       "<rect x=\"89.99999999999997\" y=\"-125.0\" width=\"32.5\" height=\"25.0\" opacity=\"0.00043673926665780533\" fill=\"currentColor\" stroke-width=\"0.1\"/>\n",
       "<rect x=\"122.49999999999999\" y=\"-125.0\" width=\"37.5\" height=\"25.0\" opacity=\"0.0\" fill=\"currentColor\" stroke-width=\"0.1\"/>\n",
       "<rect x=\"160.00000000000003\" y=\"-125.0\" width=\"42.5\" height=\"25.0\" opacity=\"0.0\" fill=\"currentColor\" stroke-width=\"0.1\"/>\n",
       "<rect x=\"202.5\" y=\"-125.0\" width=\"47.5\" height=\"25.0\" opacity=\"0.0\" fill=\"currentColor\" stroke-width=\"0.1\"/>\n",
       "<rect x=\"0.0\" y=\"-150.0\" width=\"2.5\" height=\"25.0\" opacity=\"1.0\" fill=\"currentColor\" stroke-width=\"0.1\"/>\n",
       "<rect x=\"2.5000000000000004\" y=\"-150.0\" width=\"7.5\" height=\"25.0\" opacity=\"0.9516168847198223\" fill=\"currentColor\" stroke-width=\"0.1\"/>\n",
       "<rect x=\"10.000000000000002\" y=\"-150.0\" width=\"12.5\" height=\"25.0\" opacity=\"0.7851888422611708\" fill=\"currentColor\" stroke-width=\"0.1\"/>\n",
       "<rect x=\"22.499999999999993\" y=\"-150.0\" width=\"17.5\" height=\"25.0\" opacity=\"0.44997707797016584\" fill=\"currentColor\" stroke-width=\"0.1\"/>\n",
       "<rect x=\"40.00000000000001\" y=\"-150.0\" width=\"22.5\" height=\"25.0\" opacity=\"0.13083189335966436\" fill=\"currentColor\" stroke-width=\"0.1\"/>\n",
       "<rect x=\"62.5\" y=\"-150.0\" width=\"27.5\" height=\"25.0\" opacity=\"0.013801306074818803\" fill=\"currentColor\" stroke-width=\"0.1\"/>\n",
       "<rect x=\"89.99999999999997\" y=\"-150.0\" width=\"32.5\" height=\"25.0\" opacity=\"0.00028482995651596\" fill=\"currentColor\" stroke-width=\"0.1\"/>\n",
       "<rect x=\"122.49999999999999\" y=\"-150.0\" width=\"37.5\" height=\"25.0\" opacity=\"0.0\" fill=\"currentColor\" stroke-width=\"0.1\"/>\n",
       "<rect x=\"160.00000000000003\" y=\"-150.0\" width=\"42.5\" height=\"25.0\" opacity=\"0.0\" fill=\"currentColor\" stroke-width=\"0.1\"/>\n",
       "<rect x=\"202.5\" y=\"-150.0\" width=\"47.5\" height=\"25.0\" opacity=\"0.0\" fill=\"currentColor\" stroke-width=\"0.1\"/>\n",
       "<rect x=\"0.0\" y=\"-175.0\" width=\"2.5\" height=\"25.0\" opacity=\"0.9701308318933596\" fill=\"currentColor\" stroke-width=\"0.1\"/>\n",
       "<rect x=\"2.5000000000000004\" y=\"-175.0\" width=\"7.5\" height=\"25.0\" opacity=\"0.9361474533037111\" fill=\"currentColor\" stroke-width=\"0.1\"/>\n",
       "<rect x=\"10.000000000000002\" y=\"-175.0\" width=\"12.5\" height=\"25.0\" opacity=\"0.795211058997779\" fill=\"currentColor\" stroke-width=\"0.1\"/>\n",
       "<rect x=\"22.499999999999993\" y=\"-175.0\" width=\"17.5\" height=\"25.0\" opacity=\"0.458793243290898\" fill=\"currentColor\" stroke-width=\"0.1\"/>\n",
       "<rect x=\"40.00000000000001\" y=\"-175.0\" width=\"22.5\" height=\"25.0\" opacity=\"0.13165473545626602\" fill=\"currentColor\" stroke-width=\"0.1\"/>\n",
       "<rect x=\"62.5\" y=\"-175.0\" width=\"27.5\" height=\"25.0\" opacity=\"0.013374924261125215\" fill=\"currentColor\" stroke-width=\"0.1\"/>\n",
       "<rect x=\"89.99999999999997\" y=\"-175.0\" width=\"32.5\" height=\"25.0\" opacity=\"0.0004177506028900746\" fill=\"currentColor\" stroke-width=\"0.1\"/>\n",
       "<rect x=\"122.49999999999999\" y=\"-175.0\" width=\"37.5\" height=\"25.0\" opacity=\"0.0\" fill=\"currentColor\" stroke-width=\"0.1\"/>\n",
       "<rect x=\"160.00000000000003\" y=\"-175.0\" width=\"42.5\" height=\"25.0\" opacity=\"0.0\" fill=\"currentColor\" stroke-width=\"0.1\"/>\n",
       "<rect x=\"202.5\" y=\"-175.0\" width=\"47.5\" height=\"25.0\" opacity=\"0.0\" fill=\"currentColor\" stroke-width=\"0.1\"/>\n",
       "<rect x=\"0.0\" y=\"-200.0\" width=\"2.5\" height=\"25.0\" opacity=\"0.9656874845717096\" fill=\"currentColor\" stroke-width=\"0.1\"/>\n",
       "<rect x=\"2.5000000000000004\" y=\"-200.0\" width=\"7.5\" height=\"25.0\" opacity=\"0.9546614004772473\" fill=\"currentColor\" stroke-width=\"0.1\"/>\n",
       "<rect x=\"10.000000000000002\" y=\"-200.0\" width=\"12.5\" height=\"25.0\" opacity=\"0.8021229326092321\" fill=\"currentColor\" stroke-width=\"0.1\"/>\n",
       "<rect x=\"22.499999999999993\" y=\"-200.0\" width=\"17.5\" height=\"25.0\" opacity=\"0.45727686285573155\" fill=\"currentColor\" stroke-width=\"0.1\"/>\n",
       "<rect x=\"40.00000000000001\" y=\"-200.0\" width=\"22.5\" height=\"25.0\" opacity=\"0.1340684056062974\" fill=\"currentColor\" stroke-width=\"0.1\"/>\n",
       "<rect x=\"62.5\" y=\"-200.0\" width=\"27.5\" height=\"25.0\" opacity=\"0.01265680752227284\" fill=\"currentColor\" stroke-width=\"0.1\"/>\n",
       "<rect x=\"89.99999999999997\" y=\"-200.0\" width=\"32.5\" height=\"25.0\" opacity=\"0.0003228072840514209\" fill=\"currentColor\" stroke-width=\"0.1\"/>\n",
       "<rect x=\"122.49999999999999\" y=\"-200.0\" width=\"37.5\" height=\"25.0\" opacity=\"0.0\" fill=\"currentColor\" stroke-width=\"0.1\"/>\n",
       "<rect x=\"160.00000000000003\" y=\"-200.0\" width=\"42.5\" height=\"25.0\" opacity=\"0.0\" fill=\"currentColor\" stroke-width=\"0.1\"/>\n",
       "<rect x=\"202.5\" y=\"-200.0\" width=\"47.5\" height=\"25.0\" opacity=\"0.0\" fill=\"currentColor\" stroke-width=\"0.1\"/>\n",
       "<rect x=\"0.0\" y=\"-225.0\" width=\"2.5\" height=\"25.0\" opacity=\"0.9928412737595655\" fill=\"currentColor\" stroke-width=\"0.1\"/>\n",
       "<rect x=\"2.5000000000000004\" y=\"-225.0\" width=\"7.5\" height=\"25.0\" opacity=\"0.9467621163498725\" fill=\"currentColor\" stroke-width=\"0.1\"/>\n",
       "<rect x=\"10.000000000000002\" y=\"-225.0\" width=\"12.5\" height=\"25.0\" opacity=\"0.7791162675882505\" fill=\"currentColor\" stroke-width=\"0.1\"/>\n",
       "<rect x=\"22.499999999999993\" y=\"-225.0\" width=\"17.5\" height=\"25.0\" opacity=\"0.45935747787142484\" fill=\"currentColor\" stroke-width=\"0.1\"/>\n",
       "<rect x=\"40.00000000000001\" y=\"-225.0\" width=\"22.5\" height=\"25.0\" opacity=\"0.13431525823527807\" fill=\"currentColor\" stroke-width=\"0.1\"/>\n",
       "<rect x=\"62.5\" y=\"-225.0\" width=\"27.5\" height=\"25.0\" opacity=\"0.013060748187877306\" fill=\"currentColor\" stroke-width=\"0.1\"/>\n",
       "<rect x=\"89.99999999999997\" y=\"-225.0\" width=\"32.5\" height=\"25.0\" opacity=\"0.0003797732753546133\" fill=\"currentColor\" stroke-width=\"0.1\"/>\n",
       "<rect x=\"122.49999999999999\" y=\"-225.0\" width=\"37.5\" height=\"25.0\" opacity=\"0.0\" fill=\"currentColor\" stroke-width=\"0.1\"/>\n",
       "<rect x=\"160.00000000000003\" y=\"-225.0\" width=\"42.5\" height=\"25.0\" opacity=\"0.0\" fill=\"currentColor\" stroke-width=\"0.1\"/>\n",
       "<rect x=\"202.5\" y=\"-225.0\" width=\"47.5\" height=\"25.0\" opacity=\"0.0\" fill=\"currentColor\" stroke-width=\"0.1\"/>\n",
       "<rect x=\"0.0\" y=\"-250.0\" width=\"2.5\" height=\"25.0\" opacity=\"0.9750678844729697\" fill=\"currentColor\" stroke-width=\"0.1\"/>\n",
       "<rect x=\"2.5000000000000004\" y=\"-250.0\" width=\"7.5\" height=\"25.0\" opacity=\"0.959351600427878\" fill=\"currentColor\" stroke-width=\"0.1\"/>\n",
       "<rect x=\"10.000000000000002\" y=\"-250.0\" width=\"12.5\" height=\"25.0\" opacity=\"0.7970871389780309\" fill=\"currentColor\" stroke-width=\"0.1\"/>\n",
       "<rect x=\"22.499999999999993\" y=\"-250.0\" width=\"17.5\" height=\"25.0\" opacity=\"0.45918115456501024\" fill=\"currentColor\" stroke-width=\"0.1\"/>\n",
       "<rect x=\"40.00000000000001\" y=\"-250.0\" width=\"22.5\" height=\"25.0\" opacity=\"0.1368386406648565\" fill=\"currentColor\" stroke-width=\"0.1\"/>\n",
       "<rect x=\"62.5\" y=\"-250.0\" width=\"27.5\" height=\"25.0\" opacity=\"0.014272570184690666\" fill=\"currentColor\" stroke-width=\"0.1\"/>\n",
       "<rect x=\"89.99999999999997\" y=\"-250.0\" width=\"32.5\" height=\"25.0\" opacity=\"0.0004177506028900746\" fill=\"currentColor\" stroke-width=\"0.1\"/>\n",
       "<rect x=\"122.49999999999999\" y=\"-250.0\" width=\"37.5\" height=\"25.0\" opacity=\"0.0\" fill=\"currentColor\" stroke-width=\"0.1\"/>\n",
       "<rect x=\"160.00000000000003\" y=\"-250.0\" width=\"42.5\" height=\"25.0\" opacity=\"0.0\" fill=\"currentColor\" stroke-width=\"0.1\"/>\n",
       "<rect x=\"202.5\" y=\"-250.0\" width=\"47.5\" height=\"25.0\" opacity=\"0.0\" fill=\"currentColor\" stroke-width=\"0.1\"/>\n",
       "</svg>\n",
       "</div>\n",
       "<div style=\"flex=grow:1;\">\n",
       "Regular(10, 0, 10, transform=sqrt, metadata='x', label='Axis 0')<br/>\n",
       "Regular(10, 0, 1, circular=True, metadata='y', label='Axis 1')<br/>\n",
       "<hr style=\"margin-top:.2em; margin-bottom:.2em;\"/>\n",
       "Int64() Σ=500292.0 <em>(1000000.0 with flow)</em>\n",
       "\n",
       "</div>\n",
       "</div>\n",
       "</html>"
      ],
      "text/plain": [
       "Hist(\n",
       "  Regular(10, 0, 10, transform=sqrt, metadata='x', label='Axis 0'),\n",
       "  Regular(10, 0, 1, circular=True, metadata='y', label='Axis 1'),\n",
       "  storage=Int64()) # Sum: 500292.0 (1000000.0 with flow)"
      ]
     },
     "execution_count": 2,
     "metadata": {},
     "output_type": "execute_result"
    }
   ],
   "source": [
    "hist2 = hist.Hist(\n",
    "    hist.axis.Regular(10, 0, 10, metadata=\"x\", transform=hist.axis.transform.sqrt),\n",
    "    hist.axis.Regular(10, 0, 1, circular=True, metadata=\"y\"),\n",
    "    storage=hist.storage.Int64(),\n",
    ")\n",
    "\n",
    "vals = np.random.normal(size=(2, 1_000_000))\n",
    "hist2.fill(*vals)"
   ]
  },
  {
   "cell_type": "code",
   "execution_count": 3,
   "id": "81ff271d-3300-4506-bd66-9711cf0835a6",
   "metadata": {},
   "outputs": [
    {
     "data": {
      "text/plain": [
       "array([[ 3983,  3925,  3917,  3901,  3934,  4051,  3930,  3912,  4022,\n",
       "         3950],\n",
       "       [11524, 11490, 11505, 11749, 11486, 11565, 11377, 11602, 11506,\n",
       "        11659],\n",
       "       [16175, 16115, 16242, 16106, 16139, 15904, 16107, 16247, 15781,\n",
       "        16145],\n",
       "       [12986, 13027, 12888, 12898, 13067, 12760, 13010, 12967, 13026,\n",
       "        13021],\n",
       "       [ 4821,  4919,  4875,  4733,  4847,  4770,  4800,  4888,  4897,\n",
       "         4989],\n",
       "       [  590,   635,   598,   621,   548,   615,   596,   564,   582,\n",
       "          636],\n",
       "       [   17,    15,     9,     9,    23,    15,    22,    17,    20,\n",
       "           22],\n",
       "       [    0,     0,     0,     0,     0,     0,     0,     0,     0,\n",
       "            0],\n",
       "       [    0,     0,     0,     0,     0,     0,     0,     0,     0,\n",
       "            0],\n",
       "       [    0,     0,     0,     0,     0,     0,     0,     0,     0,\n",
       "            0]], dtype=int64)"
      ]
     },
     "execution_count": 3,
     "metadata": {},
     "output_type": "execute_result"
    }
   ],
   "source": [
    "hist2.view()"
   ]
  },
  {
   "cell_type": "code",
   "execution_count": 4,
   "id": "78acb602-fa99-4fce-adda-24b60b5635a4",
   "metadata": {},
   "outputs": [
    {
     "data": {
      "text/plain": [
       "<function boost_histogram.numpy.histogram(a: object, bins: int = 10, range: Optional[Tuple[float, float]] = None, normed: None = None, weights: Optional[object] = None, density: bool = False, *, histogram: Optional[Type[boost_histogram.Histogram]] = None, storage: Optional[boost_histogram._internal.storage.Storage] = None, threads: Optional[int] = None) -> Any>"
      ]
     },
     "execution_count": 4,
     "metadata": {},
     "output_type": "execute_result"
    }
   ],
   "source": [
    "hist.numpy.histogram"
   ]
  },
  {
   "cell_type": "code",
   "execution_count": 5,
   "id": "4364dca6-1224-4f4f-b328-9995a8aaf6ca",
   "metadata": {},
   "outputs": [
    {
     "data": {
      "text/plain": [
       "<function boost_histogram.numpy.histogram2d(x: object, y: object, bins: Union[int, Tuple[int, int]] = 10, range: Optional[Sequence[Optional[Tuple[float, float]]]] = None, normed: None = None, weights: Optional[object] = None, density: bool = False, *, histogram: Optional[Type[boost_histogram.Histogram]] = None, storage: boost_histogram._internal.storage.Storage = Double(), threads: Optional[int] = None) -> Any>"
      ]
     },
     "execution_count": 5,
     "metadata": {},
     "output_type": "execute_result"
    }
   ],
   "source": [
    "hist.numpy.histogram2d"
   ]
  },
  {
   "cell_type": "code",
   "execution_count": 6,
   "id": "9c2dfa70-e08d-4e72-a0a1-78a8437ed390",
   "metadata": {},
   "outputs": [
    {
     "data": {
      "text/plain": [
       "<function boost_histogram.numpy.histogramdd(a: Tuple[object, ...], bins: Union[int, Tuple[int, ...]] = 10, range: Optional[Sequence[Optional[Tuple[float, float]]]] = None, normed: None = None, weights: Optional[object] = None, density: bool = False, *, histogram: Optional[Type[boost_histogram.Histogram]] = None, storage: boost_histogram._internal.storage.Storage = Double(), threads: Optional[int] = None) -> Any>"
      ]
     },
     "execution_count": 6,
     "metadata": {},
     "output_type": "execute_result"
    }
   ],
   "source": [
    "hist.numpy.histogramdd"
   ]
  },
  {
   "cell_type": "code",
   "execution_count": 7,
   "id": "e65e31d1-93f2-4ded-a28f-17b6ac417398",
   "metadata": {},
   "outputs": [],
   "source": [
    "histogram=hist.Hist"
   ]
  },
  {
   "cell_type": "code",
   "execution_count": 8,
   "id": "747af136-7c01-4c05-ba59-fddbae70445d",
   "metadata": {},
   "outputs": [],
   "source": [
    "norm_vals = np.concatenate([\n",
    "    np.random.normal(loc=5, scale=1, size=1_000_000),\n",
    "    np.random.normal(loc=2, scale=.2, size=200_000),\n",
    "    np.random.normal(loc=8, scale=.2, size=200_000),\n",
    "])"
   ]
  },
  {
   "cell_type": "code",
   "execution_count": 9,
   "id": "7b83af9a-aeb6-4d73-b238-2c3a764ec30c",
   "metadata": {},
   "outputs": [
    {
     "name": "stdout",
     "output_type": "stream",
     "text": [
      "19.7 ms ± 2.47 ms per loop (mean ± std. dev. of 7 runs, 100 loops each)\n"
     ]
    }
   ],
   "source": [
    "%%timeit\n",
    "bins, edges = np.histogram(norm_vals, bins=100, range=(0, 10))"
   ]
  },
  {
   "cell_type": "code",
   "execution_count": 10,
   "id": "1babe038-8262-4e77-811a-e185ef00c649",
   "metadata": {},
   "outputs": [
    {
     "name": "stdout",
     "output_type": "stream",
     "text": [
      "8.02 ms ± 553 µs per loop (mean ± std. dev. of 7 runs, 100 loops each)\n"
     ]
    }
   ],
   "source": [
    "%%timeit\n",
    "bins, edges = hist.numpy.histogram(norm_vals, bins=100, range=(0, 10))"
   ]
  },
  {
   "cell_type": "code",
   "execution_count": 11,
   "id": "84597e92-0cdb-4bdf-b56f-a0d158c5a5bf",
   "metadata": {},
   "outputs": [],
   "source": [
    "hist = hist.numpy.histogram(norm_vals, bins=100, range=(0, 10), histogram=hist.Hist)"
   ]
  },
  {
   "cell_type": "code",
   "execution_count": 12,
   "id": "3d0230be-12c9-4965-81a5-c81ede3998bf",
   "metadata": {},
   "outputs": [],
   "source": [
    "bins, edges = hist.to_numpy()"
   ]
  },
  {
   "cell_type": "code",
   "execution_count": 13,
   "id": "a2944dc9-3b69-4f5b-be39-38d14669a127",
   "metadata": {},
   "outputs": [],
   "source": [
    "data  = np.random.multivariate_normal(\n",
    "   (0, 0),\n",
    "   ((1, 0),(0, .5)),\n",
    "   10_000_000).T.copy()"
   ]
  },
  {
   "cell_type": "code",
   "execution_count": 14,
   "id": "d1fcaf2c-bc9a-4848-9324-61c6c7dcb5b4",
   "metadata": {},
   "outputs": [
    {
     "name": "stdout",
     "output_type": "stream",
     "text": [
      "2.99 s ± 159 ms per loop (mean ± std. dev. of 7 runs, 1 loop each)\n"
     ]
    }
   ],
   "source": [
    "%%timeit\n",
    "np.histogram2d(*data, bins=(400, 200), range=((-2, 2), (-1, 1)))"
   ]
  }
 ],
 "metadata": {
  "kernelspec": {
   "display_name": "hist",
   "language": "python",
   "name": "hist"
  },
  "language_info": {
   "codemirror_mode": {
    "name": "ipython",
    "version": 3
   },
   "file_extension": ".py",
   "mimetype": "text/x-python",
   "name": "python",
   "nbconvert_exporter": "python",
   "pygments_lexer": "ipython3",
   "version": "3.10.2"
  }
 },
 "nbformat": 4,
 "nbformat_minor": 5
}
