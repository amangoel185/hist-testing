{
 "cells": [
  {
   "cell_type": "code",
   "execution_count": 1,
   "metadata": {},
   "outputs": [
    {
     "name": "stderr",
     "output_type": "stream",
     "text": [
      "/home/amangoel185/.virtualenvs/hist/lib/python3.10/site-packages/boost_histogram/_internal/hist.py:863: UserWarning: List indexing selection is experimental. Removed bins are not placed in overflow.\n",
      "  warnings.warn(\n"
     ]
    }
   ],
   "source": [
    "from hist import Hist\n",
    "import hist\n",
    "\n",
    "h = Hist(\n",
    "    hist.axis.Regular(10, 0, 1),\n",
    "    hist.axis.StrCategory([\"a\", \"b\", \"c\"]),\n",
    "    hist.axis.IntCategory([5, 6, 7]),\n",
    ")\n",
    "\n",
    "minihist = h[:, [hist.loc(\"a\"), hist.loc(\"c\")], [0, 2]]\n",
    "\n",
    "# Produces a 3D histgoram with Regular(10, 0, 1) x StrCategory([\"a\", \"c\"]) x IntCategory([5, 7])"
   ]
  },
  {
   "cell_type": "code",
   "execution_count": 2,
   "metadata": {},
   "outputs": [
    {
     "data": {
      "text/plain": [
       "<boost_histogram.tag.at at 0x7f230fa81930>"
      ]
     },
     "execution_count": 2,
     "metadata": {},
     "output_type": "execute_result"
    }
   ],
   "source": [
    "hist.tag.at(\"a\")"
   ]
  }
 ],
 "metadata": {
  "kernelspec": {
   "display_name": "hist",
   "language": "python",
   "name": "hist"
  },
  "language_info": {
   "codemirror_mode": {
    "name": "ipython",
    "version": 3
   },
   "file_extension": ".py",
   "mimetype": "text/x-python",
   "name": "python",
   "nbconvert_exporter": "python",
   "pygments_lexer": "ipython3",
   "version": "3.10.2"
  }
 },
 "nbformat": 4,
 "nbformat_minor": 4
}
