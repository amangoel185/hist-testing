{
 "cells": [
  {
   "cell_type": "code",
   "execution_count": 1,
   "id": "d11e9c49-27de-4ff2-98f9-280e75731775",
   "metadata": {},
   "outputs": [],
   "source": [
    "import hist\n",
    "from hist import Hist"
   ]
  },
  {
   "cell_type": "code",
   "execution_count": 2,
   "id": "d47cea90-ed1c-49e1-ba70-869a2cf6440e",
   "metadata": {},
   "outputs": [
    {
     "name": "stdout",
     "output_type": "stream",
     "text": [
      "hist==2.4.0\n"
     ]
    }
   ],
   "source": [
    "print('\\n'.join(f'{m.__name__}=={m.__version__}' for m in globals().values() if getattr(m, '__version__', None)))"
   ]
  },
  {
   "cell_type": "code",
   "execution_count": 3,
   "id": "18193f36-d403-4098-970e-e2b6412782e5",
   "metadata": {},
   "outputs": [
    {
     "data": {
      "text/html": [
       "Hist(\n",
       "  Regular(60, 60, 180, name='mass', label='$m_{4\\\\ell}$ [GeV]'),\n",
       "  StrCategory([], growth=True, name='dataset', label='Cut Type'),\n",
       "  StrCategory([], growth=True, name='channel', label='Channel'),\n",
       "  storage=Int64())"
      ],
      "text/plain": [
       "Hist(\n",
       "  Regular(60, 60, 180, name='mass', label='$m_{4\\\\ell}$ [GeV]'),\n",
       "  StrCategory([], growth=True, name='dataset', label='Cut Type'),\n",
       "  StrCategory([], growth=True, name='channel', label='Channel'),\n",
       "  storage=Int64())"
      ]
     },
     "execution_count": 3,
     "metadata": {},
     "output_type": "execute_result"
    }
   ],
   "source": [
    "(Hist.new\n",
    "     .Reg(60, 60, 180, name='mass', label='$m_{4\\ell}$ [GeV]')\n",
    "     .StrCat([], name='dataset', label='Cut Type', growth=True)\n",
    "     .StrCat([], name='channel', label='Channel', growth=True)\n",
    "     .Int64()\n",
    "    )"
   ]
  },
  {
   "cell_type": "code",
   "execution_count": 4,
   "id": "51855152-8a3a-4f6a-8a9f-d6d92e9d5625",
   "metadata": {},
   "outputs": [
    {
     "data": {
      "text/html": [
       "<html>\n",
       "<div style=\"display:flex; align-items:center;\">\n",
       "<div style=\"width:290px;\">\n",
       "<svg xmlns=\"http://www.w3.org/2000/svg\" viewBox=\"-10 -10 220 220\">\n",
       "<rect x=\"0\" y=\"0\" width=\"160\" height=\"160\" style=\"fill:white;opacity:.5;stroke-width:2;stroke:currentColor;\"/>\n",
       "<rect x=\"20\" y=\"20\" width=\"160\" height=\"160\" style=\"fill:white;opacity:.5;stroke-width:2;stroke:currentColor;\"/>\n",
       "<rect x=\"40\" y=\"40\" width=\"160\" height=\"160\" style=\"fill:white;opacity:.5;stroke-width:2;stroke:currentColor;\"/>\n",
       "<text x=\"120.0\" y=\"120.0\" style=\"font-size: 26pt; font-family: verdana; font-style: bold; fill: black;\" text-anchor=\"middle\" alignment-baseline=\"middle\">\n",
       "3D\n",
       "</text>\n",
       "</svg>\n",
       "</div>\n",
       "<div style=\"flex=grow:1;\">\n",
       "Regular(60, 60, 180, name='mass', label='$m_{4\\\\ell}$ [GeV]')<br/>\n",
       "StrCategory(['A'], growth=True, name='dataset', label='Cut Type')<br/>\n",
       "StrCategory(['B'], growth=True, name='channel', label='Channel')<br/>\n",
       "<hr style=\"margin-top:.2em; margin-bottom:.2em;\"/>\n",
       "Int64() Σ=0.0\n",
       "\n",
       "</div>\n",
       "</div>\n",
       "</html>"
      ],
      "text/plain": [
       "Hist(\n",
       "  Regular(60, 60, 180, name='mass', label='$m_{4\\\\ell}$ [GeV]'),\n",
       "  StrCategory(['A'], growth=True, name='dataset', label='Cut Type'),\n",
       "  StrCategory(['B'], growth=True, name='channel', label='Channel'),\n",
       "  storage=Int64())"
      ]
     },
     "execution_count": 4,
     "metadata": {},
     "output_type": "execute_result"
    }
   ],
   "source": [
    "(Hist.new\n",
    "     .Reg(60, 60, 180, name='mass', label='$m_{4\\ell}$ [GeV]')\n",
    "     .StrCat([\"A\"], name='dataset', label='Cut Type', growth=True)\n",
    "     .StrCat([\"B\"], name='channel', label='Channel', growth=True)\n",
    "     .Int64()\n",
    "    )"
   ]
  }
 ],
 "metadata": {
  "kernelspec": {
   "display_name": "hist",
   "language": "python",
   "name": "hist"
  },
  "language_info": {
   "codemirror_mode": {
    "name": "ipython",
    "version": 3
   },
   "file_extension": ".py",
   "mimetype": "text/x-python",
   "name": "python",
   "nbconvert_exporter": "python",
   "pygments_lexer": "ipython3",
   "version": "3.9.6"
  }
 },
 "nbformat": 4,
 "nbformat_minor": 5
}
