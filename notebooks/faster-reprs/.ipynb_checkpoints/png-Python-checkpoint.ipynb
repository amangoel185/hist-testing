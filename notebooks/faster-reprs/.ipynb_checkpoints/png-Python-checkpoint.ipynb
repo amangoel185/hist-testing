{
 "cells": [
  {
   "cell_type": "markdown",
   "id": "2ad12679-e3bf-4ca5-8ffa-359b41bd8523",
   "metadata": {},
   "source": [
    "### via: https://stackoverflow.com/questions/8554282/creating-a-png-file-in-python"
   ]
  },
  {
   "cell_type": "code",
   "execution_count": 1,
   "id": "79997212-4f35-4a09-be17-4660d6d48c22",
   "metadata": {},
   "outputs": [],
   "source": [
    "from IPython.display import Image\n",
    "import zlib\n",
    "import struct\n",
    "import numpy as np"
   ]
  },
  {
   "cell_type": "code",
   "execution_count": 2,
   "id": "1c8a2f21-f018-431b-99eb-b266aadc9e3c",
   "metadata": {},
   "outputs": [],
   "source": [
    "#! /usr/bin/python\n",
    "\"\"\" Converts a list of list into gray-scale PNG image. \"\"\"\n",
    "__copyright__ = \"Copyright (C) 2014 Guido Draheim\"\n",
    "__licence__ = \"Public Domain\"\n",
    "\n",
    "def makeGrayPNG(data, height = None, width = None):\n",
    "    def I1(value):\n",
    "        return struct.pack(\"!B\", value & (2**8-1))\n",
    "    def I4(value):\n",
    "        return struct.pack(\"!I\", value & (2**32-1))\n",
    "    # compute width&height from data if not explicit\n",
    "    if height is None:\n",
    "        height = len(data) # rows\n",
    "    if width is None:\n",
    "        width = 0\n",
    "        for row in data:\n",
    "            if width < len(row):\n",
    "                width = len(row)\n",
    "    # generate these chunks depending on image type\n",
    "    makeIHDR = True\n",
    "    makeIDAT = True\n",
    "    makeIEND = True\n",
    "    png = b\"\\x89\" + \"PNG\\r\\n\\x1A\\n\".encode('ascii')\n",
    "    if makeIHDR:\n",
    "        colortype = 0 # true gray image (no palette)\n",
    "        bitdepth = 8 # with one byte per pixel (0..255)\n",
    "        compression = 0 # zlib (no choice here)\n",
    "        filtertype = 0 # adaptive (each scanline seperately)\n",
    "        interlaced = 0 # no\n",
    "        IHDR = I4(width) + I4(height) + I1(bitdepth)\n",
    "        IHDR += I1(colortype) + I1(compression)\n",
    "        IHDR += I1(filtertype) + I1(interlaced)\n",
    "        block = \"IHDR\".encode('ascii') + IHDR\n",
    "        png += I4(len(IHDR)) + block + I4(zlib.crc32(block))\n",
    "    if makeIDAT:\n",
    "        raw = b\"\"\n",
    "        for y in range(height):\n",
    "            raw += b\"\\0\" # no filter for this scanline\n",
    "            for x in range(width):\n",
    "                c = b\"\\0\" # default black pixel\n",
    "                if y < len(data) and x < len(data[y]):\n",
    "                    c = I1(data[y][x])\n",
    "                raw += c\n",
    "        compressor = zlib.compressobj()\n",
    "        compressed = compressor.compress(raw)\n",
    "        compressed += compressor.flush() #!!\n",
    "        block = \"IDAT\".encode('ascii') + compressed\n",
    "        png += I4(len(compressed)) + block + I4(zlib.crc32(block))\n",
    "    if makeIEND:\n",
    "        block = \"IEND\".encode('ascii')\n",
    "        png += I4(0) + block + I4(zlib.crc32(block))\n",
    "    return png\n",
    "\n",
    "def _example():\n",
    "    with open(\"../../fig/cross3x3.png\",\"wb\") as f:\n",
    "        data = np.random.randint(255, size=(90,90))\n",
    "        f.write(makeGrayPNG(data))"
   ]
  },
  {
   "cell_type": "code",
   "execution_count": 3,
   "id": "d5d65d90-d671-4df0-9166-3a095784e50c",
   "metadata": {},
   "outputs": [],
   "source": [
    "_example()"
   ]
  },
  {
   "cell_type": "code",
   "execution_count": 4,
   "id": "f3821b52-7cdd-4d1d-b64b-cd92bb9a5e97",
   "metadata": {},
   "outputs": [
    {
     "data": {
      "image/png": "[encoded data removed]",
      "text/plain": [
       "<IPython.core.display.Image object>"
      ]
     },
     "execution_count": 4,
     "metadata": {},
     "output_type": "execute_result"
    }
   ],
   "source": [
    "Image(filename='../../fig/cross3x3.png') "
   ]
  }
 ],
 "metadata": {
  "kernelspec": {
   "display_name": "hist",
   "language": "python",
   "name": "hist"
  },
  "language_info": {
   "codemirror_mode": {
    "name": "ipython",
    "version": 3
   },
   "file_extension": ".py",
   "mimetype": "text/x-python",
   "name": "python",
   "nbconvert_exporter": "python",
   "pygments_lexer": "ipython3",
   "version": "3.10.4"
  }
 },
 "nbformat": 4,
 "nbformat_minor": 5
}
