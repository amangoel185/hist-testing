{
 "cells": [
  {
   "cell_type": "code",
   "execution_count": 1,
   "id": "61a0cae6-4163-4c65-afac-6cd7afea11ff",
   "metadata": {},
   "outputs": [],
   "source": [
    "import hist\n",
    "import numpy as np\n",
    "from hist import Hist\n",
    "from hist.svgutils import (\n",
    "    SupportsStr,\n",
    "    circle,\n",
    "    div,\n",
    "    html,\n",
    "    line,\n",
    "    polygon,\n",
    "    polyline,\n",
    "    rect,\n",
    "    svg,\n",
    "    text,\n",
    ")"
   ]
  },
  {
   "cell_type": "code",
   "execution_count": 2,
   "id": "ede33bef-5e29-4d6f-82a8-ccb4f120bf10",
   "metadata": {},
   "outputs": [
    {
     "data": {
      "text/html": [
       "<html>\n",
       "<div style=\"display:flex; align-items:center;\">\n",
       "<div style=\"width:290px;\">\n",
       "<svg xmlns=\"http://www.w3.org/2000/svg\" viewBox=\"-20 -270 290 290\">\n",
       "<text text-anchor=\"middle\" x=\"0\" y=\"13\" style=\"fill:currentColor;\">\n",
       "1\n",
       "</text>\n",
       "<text text-anchor=\"middle\" x=\"250\" y=\"13\" style=\"fill:currentColor;\">\n",
       "10\n",
       "</text>\n",
       "<text text-anchor=\"middle\" x=\"-10\" y=\"0\" style=\"fill:currentColor;\">\n",
       "1\n",
       "</text>\n",
       "<text text-anchor=\"middle\" x=\"-10\" y=\"-250\" style=\"fill:currentColor;\">\n",
       "20\n",
       "</text>\n",
       "<text text-anchor=\"middle\" x=\"125.0\" y=\"13\" style=\"fill:currentColor;\">\n",
       "x-axis\n",
       "</text>\n",
       "<text text-anchor=\"middle\" x=\"-10\" y=\"-125.0\" transform=\"rotate(-90,-10,-125.0)\" style=\"fill:currentColor;\">\n",
       "y-axis\n",
       "</text>\n",
       "<rect x=\"0.0\" y=\"-13.157894736842104\" width=\"27.778\" height=\"13.158\" opacity=\"0.0\" fill=\"currentColor\" stroke-width=\"0.1\"/>\n",
       "<rect x=\"27.777777777777775\" y=\"-13.157894736842104\" width=\"27.778\" height=\"13.158\" opacity=\"0.0\" fill=\"currentColor\" stroke-width=\"0.1\"/>\n",
       "<rect x=\"55.55555555555555\" y=\"-13.157894736842104\" width=\"27.778\" height=\"13.158\" opacity=\"0.0\" fill=\"currentColor\" stroke-width=\"0.1\"/>\n",
       "<rect x=\"83.33333333333333\" y=\"-13.157894736842104\" width=\"27.778\" height=\"13.158\" opacity=\"0.0\" fill=\"currentColor\" stroke-width=\"0.1\"/>\n",
       "<rect x=\"111.1111111111111\" y=\"-13.157894736842104\" width=\"27.778\" height=\"13.158\" opacity=\"0.0\" fill=\"currentColor\" stroke-width=\"0.1\"/>\n",
       "<rect x=\"138.88888888888889\" y=\"-13.157894736842104\" width=\"27.778\" height=\"13.158\" opacity=\"0.0\" fill=\"currentColor\" stroke-width=\"0.1\"/>\n",
       "<rect x=\"166.66666666666666\" y=\"-13.157894736842104\" width=\"27.778\" height=\"13.158\" opacity=\"0.0\" fill=\"currentColor\" stroke-width=\"0.1\"/>\n",
       "<rect x=\"194.44444444444446\" y=\"-13.157894736842104\" width=\"27.778\" height=\"13.158\" opacity=\"0.0\" fill=\"currentColor\" stroke-width=\"0.1\"/>\n",
       "<rect x=\"222.2222222222222\" y=\"-13.157894736842104\" width=\"27.778\" height=\"13.158\" opacity=\"0.0\" fill=\"currentColor\" stroke-width=\"0.1\"/>\n",
       "<rect x=\"0.0\" y=\"-26.31578947368421\" width=\"27.778\" height=\"13.158\" opacity=\"0.0\" fill=\"currentColor\" stroke-width=\"0.1\"/>\n",
       "<rect x=\"27.777777777777775\" y=\"-26.31578947368421\" width=\"27.778\" height=\"13.158\" opacity=\"0.0\" fill=\"currentColor\" stroke-width=\"0.1\"/>\n",
       "<rect x=\"55.55555555555555\" y=\"-26.31578947368421\" width=\"27.778\" height=\"13.158\" opacity=\"0.0\" fill=\"currentColor\" stroke-width=\"0.1\"/>\n",
       "<rect x=\"83.33333333333333\" y=\"-26.31578947368421\" width=\"27.778\" height=\"13.158\" opacity=\"0.0\" fill=\"currentColor\" stroke-width=\"0.1\"/>\n",
       "<rect x=\"111.1111111111111\" y=\"-26.31578947368421\" width=\"27.778\" height=\"13.158\" opacity=\"0.0\" fill=\"currentColor\" stroke-width=\"0.1\"/>\n",
       "<rect x=\"138.88888888888889\" y=\"-26.31578947368421\" width=\"27.778\" height=\"13.158\" opacity=\"0.0\" fill=\"currentColor\" stroke-width=\"0.1\"/>\n",
       "<rect x=\"166.66666666666666\" y=\"-26.31578947368421\" width=\"27.778\" height=\"13.158\" opacity=\"0.0\" fill=\"currentColor\" stroke-width=\"0.1\"/>\n",
       "<rect x=\"194.44444444444446\" y=\"-26.31578947368421\" width=\"27.778\" height=\"13.158\" opacity=\"0.0\" fill=\"currentColor\" stroke-width=\"0.1\"/>\n",
       "<rect x=\"222.2222222222222\" y=\"-26.31578947368421\" width=\"27.778\" height=\"13.158\" opacity=\"0.0\" fill=\"currentColor\" stroke-width=\"0.1\"/>\n",
       "<rect x=\"0.0\" y=\"-39.473684210526315\" width=\"27.778\" height=\"13.158\" opacity=\"0.0\" fill=\"currentColor\" stroke-width=\"0.1\"/>\n",
       "<rect x=\"27.777777777777775\" y=\"-39.473684210526315\" width=\"27.778\" height=\"13.158\" opacity=\"0.0\" fill=\"currentColor\" stroke-width=\"0.1\"/>\n",
       "<rect x=\"55.55555555555555\" y=\"-39.473684210526315\" width=\"27.778\" height=\"13.158\" opacity=\"0.0\" fill=\"currentColor\" stroke-width=\"0.1\"/>\n",
       "<rect x=\"83.33333333333333\" y=\"-39.473684210526315\" width=\"27.778\" height=\"13.158\" opacity=\"0.33333333333333337\" fill=\"currentColor\" stroke-width=\"0.1\"/>\n",
       "<rect x=\"111.1111111111111\" y=\"-39.473684210526315\" width=\"27.778\" height=\"13.158\" opacity=\"0.0\" fill=\"currentColor\" stroke-width=\"0.1\"/>\n",
       "<rect x=\"138.88888888888889\" y=\"-39.473684210526315\" width=\"27.778\" height=\"13.158\" opacity=\"0.0\" fill=\"currentColor\" stroke-width=\"0.1\"/>\n",
       "<rect x=\"166.66666666666666\" y=\"-39.473684210526315\" width=\"27.778\" height=\"13.158\" opacity=\"0.0\" fill=\"currentColor\" stroke-width=\"0.1\"/>\n",
       "<rect x=\"194.44444444444446\" y=\"-39.473684210526315\" width=\"27.778\" height=\"13.158\" opacity=\"0.0\" fill=\"currentColor\" stroke-width=\"0.1\"/>\n",
       "<rect x=\"222.2222222222222\" y=\"-39.473684210526315\" width=\"27.778\" height=\"13.158\" opacity=\"0.0\" fill=\"currentColor\" stroke-width=\"0.1\"/>\n",
       "<rect x=\"0.0\" y=\"-52.63157894736842\" width=\"27.778\" height=\"13.158\" opacity=\"0.0\" fill=\"currentColor\" stroke-width=\"0.1\"/>\n",
       "<rect x=\"27.777777777777775\" y=\"-52.63157894736842\" width=\"27.778\" height=\"13.158\" opacity=\"0.33333333333333337\" fill=\"currentColor\" stroke-width=\"0.1\"/>\n",
       "<rect x=\"55.55555555555555\" y=\"-52.63157894736842\" width=\"27.778\" height=\"13.158\" opacity=\"0.6666666666666667\" fill=\"currentColor\" stroke-width=\"0.1\"/>\n",
       "<rect x=\"83.33333333333333\" y=\"-52.63157894736842\" width=\"27.778\" height=\"13.158\" opacity=\"0.33333333333333337\" fill=\"currentColor\" stroke-width=\"0.1\"/>\n",
       "<rect x=\"111.1111111111111\" y=\"-52.63157894736842\" width=\"27.778\" height=\"13.158\" opacity=\"0.0\" fill=\"currentColor\" stroke-width=\"0.1\"/>\n",
       "<rect x=\"138.88888888888889\" y=\"-52.63157894736842\" width=\"27.778\" height=\"13.158\" opacity=\"0.33333333333333337\" fill=\"currentColor\" stroke-width=\"0.1\"/>\n",
       "<rect x=\"166.66666666666666\" y=\"-52.63157894736842\" width=\"27.778\" height=\"13.158\" opacity=\"0.0\" fill=\"currentColor\" stroke-width=\"0.1\"/>\n",
       "<rect x=\"194.44444444444446\" y=\"-52.63157894736842\" width=\"27.778\" height=\"13.158\" opacity=\"0.0\" fill=\"currentColor\" stroke-width=\"0.1\"/>\n",
       "<rect x=\"222.2222222222222\" y=\"-52.63157894736842\" width=\"27.778\" height=\"13.158\" opacity=\"0.0\" fill=\"currentColor\" stroke-width=\"0.1\"/>\n",
       "<rect x=\"0.0\" y=\"-65.78947368421052\" width=\"27.778\" height=\"13.158\" opacity=\"0.0\" fill=\"currentColor\" stroke-width=\"0.1\"/>\n",
       "<rect x=\"27.777777777777775\" y=\"-65.78947368421052\" width=\"27.778\" height=\"13.158\" opacity=\"0.0\" fill=\"currentColor\" stroke-width=\"0.1\"/>\n",
       "<rect x=\"55.55555555555555\" y=\"-65.78947368421052\" width=\"27.778\" height=\"13.158\" opacity=\"0.0\" fill=\"currentColor\" stroke-width=\"0.1\"/>\n",
       "<rect x=\"83.33333333333333\" y=\"-65.78947368421052\" width=\"27.778\" height=\"13.158\" opacity=\"0.0\" fill=\"currentColor\" stroke-width=\"0.1\"/>\n",
       "<rect x=\"111.1111111111111\" y=\"-65.78947368421052\" width=\"27.778\" height=\"13.158\" opacity=\"1.0\" fill=\"currentColor\" stroke-width=\"0.1\"/>\n",
       "<rect x=\"138.88888888888889\" y=\"-65.78947368421052\" width=\"27.778\" height=\"13.158\" opacity=\"0.0\" fill=\"currentColor\" stroke-width=\"0.1\"/>\n",
       "<rect x=\"166.66666666666666\" y=\"-65.78947368421052\" width=\"27.778\" height=\"13.158\" opacity=\"0.0\" fill=\"currentColor\" stroke-width=\"0.1\"/>\n",
       "<rect x=\"194.44444444444446\" y=\"-65.78947368421052\" width=\"27.778\" height=\"13.158\" opacity=\"0.0\" fill=\"currentColor\" stroke-width=\"0.1\"/>\n",
       "<rect x=\"222.2222222222222\" y=\"-65.78947368421052\" width=\"27.778\" height=\"13.158\" opacity=\"0.0\" fill=\"currentColor\" stroke-width=\"0.1\"/>\n",
       "<rect x=\"0.0\" y=\"-78.94736842105263\" width=\"27.778\" height=\"13.158\" opacity=\"0.0\" fill=\"currentColor\" stroke-width=\"0.1\"/>\n",
       "<rect x=\"27.777777777777775\" y=\"-78.94736842105263\" width=\"27.778\" height=\"13.158\" opacity=\"0.0\" fill=\"currentColor\" stroke-width=\"0.1\"/>\n",
       "<rect x=\"55.55555555555555\" y=\"-78.94736842105263\" width=\"27.778\" height=\"13.158\" opacity=\"0.0\" fill=\"currentColor\" stroke-width=\"0.1\"/>\n",
       "<rect x=\"83.33333333333333\" y=\"-78.94736842105263\" width=\"27.778\" height=\"13.158\" opacity=\"0.0\" fill=\"currentColor\" stroke-width=\"0.1\"/>\n",
       "<rect x=\"111.1111111111111\" y=\"-78.94736842105263\" width=\"27.778\" height=\"13.158\" opacity=\"0.33333333333333337\" fill=\"currentColor\" stroke-width=\"0.1\"/>\n",
       "<rect x=\"138.88888888888889\" y=\"-78.94736842105263\" width=\"27.778\" height=\"13.158\" opacity=\"0.0\" fill=\"currentColor\" stroke-width=\"0.1\"/>\n",
       "<rect x=\"166.66666666666666\" y=\"-78.94736842105263\" width=\"27.778\" height=\"13.158\" opacity=\"0.0\" fill=\"currentColor\" stroke-width=\"0.1\"/>\n",
       "<rect x=\"194.44444444444446\" y=\"-78.94736842105263\" width=\"27.778\" height=\"13.158\" opacity=\"0.0\" fill=\"currentColor\" stroke-width=\"0.1\"/>\n",
       "<rect x=\"222.2222222222222\" y=\"-78.94736842105263\" width=\"27.778\" height=\"13.158\" opacity=\"0.0\" fill=\"currentColor\" stroke-width=\"0.1\"/>\n",
       "<rect x=\"0.0\" y=\"-92.10526315789473\" width=\"27.778\" height=\"13.158\" opacity=\"0.0\" fill=\"currentColor\" stroke-width=\"0.1\"/>\n",
       "<rect x=\"27.777777777777775\" y=\"-92.10526315789473\" width=\"27.778\" height=\"13.158\" opacity=\"0.0\" fill=\"currentColor\" stroke-width=\"0.1\"/>\n",
       "<rect x=\"55.55555555555555\" y=\"-92.10526315789473\" width=\"27.778\" height=\"13.158\" opacity=\"0.0\" fill=\"currentColor\" stroke-width=\"0.1\"/>\n",
       "<rect x=\"83.33333333333333\" y=\"-92.10526315789473\" width=\"27.778\" height=\"13.158\" opacity=\"0.0\" fill=\"currentColor\" stroke-width=\"0.1\"/>\n",
       "<rect x=\"111.1111111111111\" y=\"-92.10526315789473\" width=\"27.778\" height=\"13.158\" opacity=\"0.0\" fill=\"currentColor\" stroke-width=\"0.1\"/>\n",
       "<rect x=\"138.88888888888889\" y=\"-92.10526315789473\" width=\"27.778\" height=\"13.158\" opacity=\"0.0\" fill=\"currentColor\" stroke-width=\"0.1\"/>\n",
       "<rect x=\"166.66666666666666\" y=\"-92.10526315789473\" width=\"27.778\" height=\"13.158\" opacity=\"0.0\" fill=\"currentColor\" stroke-width=\"0.1\"/>\n",
       "<rect x=\"194.44444444444446\" y=\"-92.10526315789473\" width=\"27.778\" height=\"13.158\" opacity=\"0.0\" fill=\"currentColor\" stroke-width=\"0.1\"/>\n",
       "<rect x=\"222.2222222222222\" y=\"-92.10526315789473\" width=\"27.778\" height=\"13.158\" opacity=\"0.0\" fill=\"currentColor\" stroke-width=\"0.1\"/>\n",
       "<rect x=\"0.0\" y=\"-105.26315789473684\" width=\"27.778\" height=\"13.158\" opacity=\"0.0\" fill=\"currentColor\" stroke-width=\"0.1\"/>\n",
       "<rect x=\"27.777777777777775\" y=\"-105.26315789473684\" width=\"27.778\" height=\"13.158\" opacity=\"0.0\" fill=\"currentColor\" stroke-width=\"0.1\"/>\n",
       "<rect x=\"55.55555555555555\" y=\"-105.26315789473684\" width=\"27.778\" height=\"13.158\" opacity=\"0.0\" fill=\"currentColor\" stroke-width=\"0.1\"/>\n",
       "<rect x=\"83.33333333333333\" y=\"-105.26315789473684\" width=\"27.778\" height=\"13.158\" opacity=\"0.0\" fill=\"currentColor\" stroke-width=\"0.1\"/>\n",
       "<rect x=\"111.1111111111111\" y=\"-105.26315789473684\" width=\"27.778\" height=\"13.158\" opacity=\"0.0\" fill=\"currentColor\" stroke-width=\"0.1\"/>\n",
       "<rect x=\"138.88888888888889\" y=\"-105.26315789473684\" width=\"27.778\" height=\"13.158\" opacity=\"0.0\" fill=\"currentColor\" stroke-width=\"0.1\"/>\n",
       "<rect x=\"166.66666666666666\" y=\"-105.26315789473684\" width=\"27.778\" height=\"13.158\" opacity=\"0.0\" fill=\"currentColor\" stroke-width=\"0.1\"/>\n",
       "<rect x=\"194.44444444444446\" y=\"-105.26315789473684\" width=\"27.778\" height=\"13.158\" opacity=\"0.0\" fill=\"currentColor\" stroke-width=\"0.1\"/>\n",
       "<rect x=\"222.2222222222222\" y=\"-105.26315789473684\" width=\"27.778\" height=\"13.158\" opacity=\"0.0\" fill=\"currentColor\" stroke-width=\"0.1\"/>\n",
       "<rect x=\"0.0\" y=\"-118.42105263157895\" width=\"27.778\" height=\"13.158\" opacity=\"0.0\" fill=\"currentColor\" stroke-width=\"0.1\"/>\n",
       "<rect x=\"27.777777777777775\" y=\"-118.42105263157895\" width=\"27.778\" height=\"13.158\" opacity=\"0.0\" fill=\"currentColor\" stroke-width=\"0.1\"/>\n",
       "<rect x=\"55.55555555555555\" y=\"-118.42105263157895\" width=\"27.778\" height=\"13.158\" opacity=\"0.0\" fill=\"currentColor\" stroke-width=\"0.1\"/>\n",
       "<rect x=\"83.33333333333333\" y=\"-118.42105263157895\" width=\"27.778\" height=\"13.158\" opacity=\"0.0\" fill=\"currentColor\" stroke-width=\"0.1\"/>\n",
       "<rect x=\"111.1111111111111\" y=\"-118.42105263157895\" width=\"27.778\" height=\"13.158\" opacity=\"0.0\" fill=\"currentColor\" stroke-width=\"0.1\"/>\n",
       "<rect x=\"138.88888888888889\" y=\"-118.42105263157895\" width=\"27.778\" height=\"13.158\" opacity=\"0.0\" fill=\"currentColor\" stroke-width=\"0.1\"/>\n",
       "<rect x=\"166.66666666666666\" y=\"-118.42105263157895\" width=\"27.778\" height=\"13.158\" opacity=\"0.0\" fill=\"currentColor\" stroke-width=\"0.1\"/>\n",
       "<rect x=\"194.44444444444446\" y=\"-118.42105263157895\" width=\"27.778\" height=\"13.158\" opacity=\"0.0\" fill=\"currentColor\" stroke-width=\"0.1\"/>\n",
       "<rect x=\"222.2222222222222\" y=\"-118.42105263157895\" width=\"27.778\" height=\"13.158\" opacity=\"0.0\" fill=\"currentColor\" stroke-width=\"0.1\"/>\n",
       "<rect x=\"0.0\" y=\"-131.57894736842104\" width=\"27.778\" height=\"13.158\" opacity=\"0.0\" fill=\"currentColor\" stroke-width=\"0.1\"/>\n",
       "<rect x=\"27.777777777777775\" y=\"-131.57894736842104\" width=\"27.778\" height=\"13.158\" opacity=\"0.0\" fill=\"currentColor\" stroke-width=\"0.1\"/>\n",
       "<rect x=\"55.55555555555555\" y=\"-131.57894736842104\" width=\"27.778\" height=\"13.158\" opacity=\"0.0\" fill=\"currentColor\" stroke-width=\"0.1\"/>\n",
       "<rect x=\"83.33333333333333\" y=\"-131.57894736842104\" width=\"27.778\" height=\"13.158\" opacity=\"0.0\" fill=\"currentColor\" stroke-width=\"0.1\"/>\n",
       "<rect x=\"111.1111111111111\" y=\"-131.57894736842104\" width=\"27.778\" height=\"13.158\" opacity=\"0.0\" fill=\"currentColor\" stroke-width=\"0.1\"/>\n",
       "<rect x=\"138.88888888888889\" y=\"-131.57894736842104\" width=\"27.778\" height=\"13.158\" opacity=\"0.0\" fill=\"currentColor\" stroke-width=\"0.1\"/>\n",
       "<rect x=\"166.66666666666666\" y=\"-131.57894736842104\" width=\"27.778\" height=\"13.158\" opacity=\"0.0\" fill=\"currentColor\" stroke-width=\"0.1\"/>\n",
       "<rect x=\"194.44444444444446\" y=\"-131.57894736842104\" width=\"27.778\" height=\"13.158\" opacity=\"0.0\" fill=\"currentColor\" stroke-width=\"0.1\"/>\n",
       "<rect x=\"222.2222222222222\" y=\"-131.57894736842104\" width=\"27.778\" height=\"13.158\" opacity=\"0.0\" fill=\"currentColor\" stroke-width=\"0.1\"/>\n",
       "<rect x=\"0.0\" y=\"-144.73684210526315\" width=\"27.778\" height=\"13.158\" opacity=\"0.0\" fill=\"currentColor\" stroke-width=\"0.1\"/>\n",
       "<rect x=\"27.777777777777775\" y=\"-144.73684210526315\" width=\"27.778\" height=\"13.158\" opacity=\"0.0\" fill=\"currentColor\" stroke-width=\"0.1\"/>\n",
       "<rect x=\"55.55555555555555\" y=\"-144.73684210526315\" width=\"27.778\" height=\"13.158\" opacity=\"0.0\" fill=\"currentColor\" stroke-width=\"0.1\"/>\n",
       "<rect x=\"83.33333333333333\" y=\"-144.73684210526315\" width=\"27.778\" height=\"13.158\" opacity=\"0.0\" fill=\"currentColor\" stroke-width=\"0.1\"/>\n",
       "<rect x=\"111.1111111111111\" y=\"-144.73684210526315\" width=\"27.778\" height=\"13.158\" opacity=\"0.0\" fill=\"currentColor\" stroke-width=\"0.1\"/>\n",
       "<rect x=\"138.88888888888889\" y=\"-144.73684210526315\" width=\"27.778\" height=\"13.158\" opacity=\"0.0\" fill=\"currentColor\" stroke-width=\"0.1\"/>\n",
       "<rect x=\"166.66666666666666\" y=\"-144.73684210526315\" width=\"27.778\" height=\"13.158\" opacity=\"0.0\" fill=\"currentColor\" stroke-width=\"0.1\"/>\n",
       "<rect x=\"194.44444444444446\" y=\"-144.73684210526315\" width=\"27.778\" height=\"13.158\" opacity=\"0.0\" fill=\"currentColor\" stroke-width=\"0.1\"/>\n",
       "<rect x=\"222.2222222222222\" y=\"-144.73684210526315\" width=\"27.778\" height=\"13.158\" opacity=\"0.0\" fill=\"currentColor\" stroke-width=\"0.1\"/>\n",
       "<rect x=\"0.0\" y=\"-157.89473684210526\" width=\"27.778\" height=\"13.158\" opacity=\"0.0\" fill=\"currentColor\" stroke-width=\"0.1\"/>\n",
       "<rect x=\"27.777777777777775\" y=\"-157.89473684210526\" width=\"27.778\" height=\"13.158\" opacity=\"0.0\" fill=\"currentColor\" stroke-width=\"0.1\"/>\n",
       "<rect x=\"55.55555555555555\" y=\"-157.89473684210526\" width=\"27.778\" height=\"13.158\" opacity=\"0.0\" fill=\"currentColor\" stroke-width=\"0.1\"/>\n",
       "<rect x=\"83.33333333333333\" y=\"-157.89473684210526\" width=\"27.778\" height=\"13.158\" opacity=\"0.0\" fill=\"currentColor\" stroke-width=\"0.1\"/>\n",
       "<rect x=\"111.1111111111111\" y=\"-157.89473684210526\" width=\"27.778\" height=\"13.158\" opacity=\"0.0\" fill=\"currentColor\" stroke-width=\"0.1\"/>\n",
       "<rect x=\"138.88888888888889\" y=\"-157.89473684210526\" width=\"27.778\" height=\"13.158\" opacity=\"0.0\" fill=\"currentColor\" stroke-width=\"0.1\"/>\n",
       "<rect x=\"166.66666666666666\" y=\"-157.89473684210526\" width=\"27.778\" height=\"13.158\" opacity=\"0.0\" fill=\"currentColor\" stroke-width=\"0.1\"/>\n",
       "<rect x=\"194.44444444444446\" y=\"-157.89473684210526\" width=\"27.778\" height=\"13.158\" opacity=\"0.0\" fill=\"currentColor\" stroke-width=\"0.1\"/>\n",
       "<rect x=\"222.2222222222222\" y=\"-157.89473684210526\" width=\"27.778\" height=\"13.158\" opacity=\"0.0\" fill=\"currentColor\" stroke-width=\"0.1\"/>\n",
       "<rect x=\"0.0\" y=\"-171.05263157894737\" width=\"27.778\" height=\"13.158\" opacity=\"0.0\" fill=\"currentColor\" stroke-width=\"0.1\"/>\n",
       "<rect x=\"27.777777777777775\" y=\"-171.05263157894737\" width=\"27.778\" height=\"13.158\" opacity=\"0.0\" fill=\"currentColor\" stroke-width=\"0.1\"/>\n",
       "<rect x=\"55.55555555555555\" y=\"-171.05263157894737\" width=\"27.778\" height=\"13.158\" opacity=\"0.0\" fill=\"currentColor\" stroke-width=\"0.1\"/>\n",
       "<rect x=\"83.33333333333333\" y=\"-171.05263157894737\" width=\"27.778\" height=\"13.158\" opacity=\"0.0\" fill=\"currentColor\" stroke-width=\"0.1\"/>\n",
       "<rect x=\"111.1111111111111\" y=\"-171.05263157894737\" width=\"27.778\" height=\"13.158\" opacity=\"0.0\" fill=\"currentColor\" stroke-width=\"0.1\"/>\n",
       "<rect x=\"138.88888888888889\" y=\"-171.05263157894737\" width=\"27.778\" height=\"13.158\" opacity=\"0.0\" fill=\"currentColor\" stroke-width=\"0.1\"/>\n",
       "<rect x=\"166.66666666666666\" y=\"-171.05263157894737\" width=\"27.778\" height=\"13.158\" opacity=\"0.0\" fill=\"currentColor\" stroke-width=\"0.1\"/>\n",
       "<rect x=\"194.44444444444446\" y=\"-171.05263157894737\" width=\"27.778\" height=\"13.158\" opacity=\"0.0\" fill=\"currentColor\" stroke-width=\"0.1\"/>\n",
       "<rect x=\"222.2222222222222\" y=\"-171.05263157894737\" width=\"27.778\" height=\"13.158\" opacity=\"0.0\" fill=\"currentColor\" stroke-width=\"0.1\"/>\n",
       "<rect x=\"0.0\" y=\"-184.21052631578945\" width=\"27.778\" height=\"13.158\" opacity=\"0.0\" fill=\"currentColor\" stroke-width=\"0.1\"/>\n",
       "<rect x=\"27.777777777777775\" y=\"-184.21052631578945\" width=\"27.778\" height=\"13.158\" opacity=\"0.0\" fill=\"currentColor\" stroke-width=\"0.1\"/>\n",
       "<rect x=\"55.55555555555555\" y=\"-184.21052631578945\" width=\"27.778\" height=\"13.158\" opacity=\"0.0\" fill=\"currentColor\" stroke-width=\"0.1\"/>\n",
       "<rect x=\"83.33333333333333\" y=\"-184.21052631578945\" width=\"27.778\" height=\"13.158\" opacity=\"0.0\" fill=\"currentColor\" stroke-width=\"0.1\"/>\n",
       "<rect x=\"111.1111111111111\" y=\"-184.21052631578945\" width=\"27.778\" height=\"13.158\" opacity=\"0.0\" fill=\"currentColor\" stroke-width=\"0.1\"/>\n",
       "<rect x=\"138.88888888888889\" y=\"-184.21052631578945\" width=\"27.778\" height=\"13.158\" opacity=\"0.0\" fill=\"currentColor\" stroke-width=\"0.1\"/>\n",
       "<rect x=\"166.66666666666666\" y=\"-184.21052631578945\" width=\"27.778\" height=\"13.158\" opacity=\"0.0\" fill=\"currentColor\" stroke-width=\"0.1\"/>\n",
       "<rect x=\"194.44444444444446\" y=\"-184.21052631578945\" width=\"27.778\" height=\"13.158\" opacity=\"0.0\" fill=\"currentColor\" stroke-width=\"0.1\"/>\n",
       "<rect x=\"222.2222222222222\" y=\"-184.21052631578945\" width=\"27.778\" height=\"13.158\" opacity=\"0.0\" fill=\"currentColor\" stroke-width=\"0.1\"/>\n",
       "<rect x=\"0.0\" y=\"-197.3684210526316\" width=\"27.778\" height=\"13.158\" opacity=\"0.0\" fill=\"currentColor\" stroke-width=\"0.1\"/>\n",
       "<rect x=\"27.777777777777775\" y=\"-197.3684210526316\" width=\"27.778\" height=\"13.158\" opacity=\"0.0\" fill=\"currentColor\" stroke-width=\"0.1\"/>\n",
       "<rect x=\"55.55555555555555\" y=\"-197.3684210526316\" width=\"27.778\" height=\"13.158\" opacity=\"0.0\" fill=\"currentColor\" stroke-width=\"0.1\"/>\n",
       "<rect x=\"83.33333333333333\" y=\"-197.3684210526316\" width=\"27.778\" height=\"13.158\" opacity=\"0.0\" fill=\"currentColor\" stroke-width=\"0.1\"/>\n",
       "<rect x=\"111.1111111111111\" y=\"-197.3684210526316\" width=\"27.778\" height=\"13.158\" opacity=\"0.0\" fill=\"currentColor\" stroke-width=\"0.1\"/>\n",
       "<rect x=\"138.88888888888889\" y=\"-197.3684210526316\" width=\"27.778\" height=\"13.158\" opacity=\"0.0\" fill=\"currentColor\" stroke-width=\"0.1\"/>\n",
       "<rect x=\"166.66666666666666\" y=\"-197.3684210526316\" width=\"27.778\" height=\"13.158\" opacity=\"0.0\" fill=\"currentColor\" stroke-width=\"0.1\"/>\n",
       "<rect x=\"194.44444444444446\" y=\"-197.3684210526316\" width=\"27.778\" height=\"13.158\" opacity=\"0.0\" fill=\"currentColor\" stroke-width=\"0.1\"/>\n",
       "<rect x=\"222.2222222222222\" y=\"-197.3684210526316\" width=\"27.778\" height=\"13.158\" opacity=\"0.0\" fill=\"currentColor\" stroke-width=\"0.1\"/>\n",
       "<rect x=\"0.0\" y=\"-210.52631578947367\" width=\"27.778\" height=\"13.158\" opacity=\"0.0\" fill=\"currentColor\" stroke-width=\"0.1\"/>\n",
       "<rect x=\"27.777777777777775\" y=\"-210.52631578947367\" width=\"27.778\" height=\"13.158\" opacity=\"0.0\" fill=\"currentColor\" stroke-width=\"0.1\"/>\n",
       "<rect x=\"55.55555555555555\" y=\"-210.52631578947367\" width=\"27.778\" height=\"13.158\" opacity=\"0.0\" fill=\"currentColor\" stroke-width=\"0.1\"/>\n",
       "<rect x=\"83.33333333333333\" y=\"-210.52631578947367\" width=\"27.778\" height=\"13.158\" opacity=\"0.0\" fill=\"currentColor\" stroke-width=\"0.1\"/>\n",
       "<rect x=\"111.1111111111111\" y=\"-210.52631578947367\" width=\"27.778\" height=\"13.158\" opacity=\"0.0\" fill=\"currentColor\" stroke-width=\"0.1\"/>\n",
       "<rect x=\"138.88888888888889\" y=\"-210.52631578947367\" width=\"27.778\" height=\"13.158\" opacity=\"0.0\" fill=\"currentColor\" stroke-width=\"0.1\"/>\n",
       "<rect x=\"166.66666666666666\" y=\"-210.52631578947367\" width=\"27.778\" height=\"13.158\" opacity=\"0.0\" fill=\"currentColor\" stroke-width=\"0.1\"/>\n",
       "<rect x=\"194.44444444444446\" y=\"-210.52631578947367\" width=\"27.778\" height=\"13.158\" opacity=\"0.0\" fill=\"currentColor\" stroke-width=\"0.1\"/>\n",
       "<rect x=\"222.2222222222222\" y=\"-210.52631578947367\" width=\"27.778\" height=\"13.158\" opacity=\"0.0\" fill=\"currentColor\" stroke-width=\"0.1\"/>\n",
       "<rect x=\"0.0\" y=\"-223.68421052631578\" width=\"27.778\" height=\"13.158\" opacity=\"0.0\" fill=\"currentColor\" stroke-width=\"0.1\"/>\n",
       "<rect x=\"27.777777777777775\" y=\"-223.68421052631578\" width=\"27.778\" height=\"13.158\" opacity=\"0.0\" fill=\"currentColor\" stroke-width=\"0.1\"/>\n",
       "<rect x=\"55.55555555555555\" y=\"-223.68421052631578\" width=\"27.778\" height=\"13.158\" opacity=\"0.0\" fill=\"currentColor\" stroke-width=\"0.1\"/>\n",
       "<rect x=\"83.33333333333333\" y=\"-223.68421052631578\" width=\"27.778\" height=\"13.158\" opacity=\"0.0\" fill=\"currentColor\" stroke-width=\"0.1\"/>\n",
       "<rect x=\"111.1111111111111\" y=\"-223.68421052631578\" width=\"27.778\" height=\"13.158\" opacity=\"0.0\" fill=\"currentColor\" stroke-width=\"0.1\"/>\n",
       "<rect x=\"138.88888888888889\" y=\"-223.68421052631578\" width=\"27.778\" height=\"13.158\" opacity=\"0.0\" fill=\"currentColor\" stroke-width=\"0.1\"/>\n",
       "<rect x=\"166.66666666666666\" y=\"-223.68421052631578\" width=\"27.778\" height=\"13.158\" opacity=\"0.0\" fill=\"currentColor\" stroke-width=\"0.1\"/>\n",
       "<rect x=\"194.44444444444446\" y=\"-223.68421052631578\" width=\"27.778\" height=\"13.158\" opacity=\"0.0\" fill=\"currentColor\" stroke-width=\"0.1\"/>\n",
       "<rect x=\"222.2222222222222\" y=\"-223.68421052631578\" width=\"27.778\" height=\"13.158\" opacity=\"0.0\" fill=\"currentColor\" stroke-width=\"0.1\"/>\n",
       "<rect x=\"0.0\" y=\"-236.8421052631579\" width=\"27.778\" height=\"13.158\" opacity=\"0.0\" fill=\"currentColor\" stroke-width=\"0.1\"/>\n",
       "<rect x=\"27.777777777777775\" y=\"-236.8421052631579\" width=\"27.778\" height=\"13.158\" opacity=\"0.0\" fill=\"currentColor\" stroke-width=\"0.1\"/>\n",
       "<rect x=\"55.55555555555555\" y=\"-236.8421052631579\" width=\"27.778\" height=\"13.158\" opacity=\"0.0\" fill=\"currentColor\" stroke-width=\"0.1\"/>\n",
       "<rect x=\"83.33333333333333\" y=\"-236.8421052631579\" width=\"27.778\" height=\"13.158\" opacity=\"0.0\" fill=\"currentColor\" stroke-width=\"0.1\"/>\n",
       "<rect x=\"111.1111111111111\" y=\"-236.8421052631579\" width=\"27.778\" height=\"13.158\" opacity=\"0.0\" fill=\"currentColor\" stroke-width=\"0.1\"/>\n",
       "<rect x=\"138.88888888888889\" y=\"-236.8421052631579\" width=\"27.778\" height=\"13.158\" opacity=\"0.0\" fill=\"currentColor\" stroke-width=\"0.1\"/>\n",
       "<rect x=\"166.66666666666666\" y=\"-236.8421052631579\" width=\"27.778\" height=\"13.158\" opacity=\"0.0\" fill=\"currentColor\" stroke-width=\"0.1\"/>\n",
       "<rect x=\"194.44444444444446\" y=\"-236.8421052631579\" width=\"27.778\" height=\"13.158\" opacity=\"0.0\" fill=\"currentColor\" stroke-width=\"0.1\"/>\n",
       "<rect x=\"222.2222222222222\" y=\"-236.8421052631579\" width=\"27.778\" height=\"13.158\" opacity=\"0.0\" fill=\"currentColor\" stroke-width=\"0.1\"/>\n",
       "<rect x=\"0.0\" y=\"-250.0\" width=\"27.778\" height=\"13.158\" opacity=\"0.0\" fill=\"currentColor\" stroke-width=\"0.1\"/>\n",
       "<rect x=\"27.777777777777775\" y=\"-250.0\" width=\"27.778\" height=\"13.158\" opacity=\"0.0\" fill=\"currentColor\" stroke-width=\"0.1\"/>\n",
       "<rect x=\"55.55555555555555\" y=\"-250.0\" width=\"27.778\" height=\"13.158\" opacity=\"0.0\" fill=\"currentColor\" stroke-width=\"0.1\"/>\n",
       "<rect x=\"83.33333333333333\" y=\"-250.0\" width=\"27.778\" height=\"13.158\" opacity=\"0.0\" fill=\"currentColor\" stroke-width=\"0.1\"/>\n",
       "<rect x=\"111.1111111111111\" y=\"-250.0\" width=\"27.778\" height=\"13.158\" opacity=\"0.0\" fill=\"currentColor\" stroke-width=\"0.1\"/>\n",
       "<rect x=\"138.88888888888889\" y=\"-250.0\" width=\"27.778\" height=\"13.158\" opacity=\"0.0\" fill=\"currentColor\" stroke-width=\"0.1\"/>\n",
       "<rect x=\"166.66666666666666\" y=\"-250.0\" width=\"27.778\" height=\"13.158\" opacity=\"0.0\" fill=\"currentColor\" stroke-width=\"0.1\"/>\n",
       "<rect x=\"194.44444444444446\" y=\"-250.0\" width=\"27.778\" height=\"13.158\" opacity=\"0.0\" fill=\"currentColor\" stroke-width=\"0.1\"/>\n",
       "<rect x=\"222.2222222222222\" y=\"-250.0\" width=\"27.778\" height=\"13.158\" opacity=\"0.0\" fill=\"currentColor\" stroke-width=\"0.1\"/>\n",
       "</svg>\n",
       "</div>\n",
       "<div style=\"flex=grow:1;\">\n",
       "Integer(1, 10, name='nice', label='x-axis')<br/>\n",
       "Integer(1, 20, name='test', label='y-axis')<br/>\n",
       "<hr style=\"margin-top:.2em; margin-bottom:.2em;\"/>\n",
       "Int64() Σ=10.0\n",
       "\n",
       "</div>\n",
       "</div>\n",
       "</html>"
      ],
      "text/plain": [
       "Hist(\n",
       "  Integer(1, 10, name='nice', label='x-axis'),\n",
       "  Integer(1, 20, name='test', label='y-axis'),\n",
       "  storage=Int64()) # Sum: 10.0"
      ]
     },
     "execution_count": 2,
     "metadata": {},
     "output_type": "execute_result"
    }
   ],
   "source": [
    "h = (\n",
    "    Hist.new\n",
    "    .Int(1,10, name=\"nice\", label=\"x-axis\")\n",
    "    .Int(1,20, name=\"test\", label=\"y-axis\")\n",
    "    .Int64()\n",
    ")\n",
    "\n",
    "h.fill(nice = np.random.normal(5, 1, 10), test = np.random.normal(5, 1, 10))"
   ]
  },
  {
   "cell_type": "code",
   "execution_count": 3,
   "id": "7237beea-d795-478a-b330-fe9f0491910f",
   "metadata": {},
   "outputs": [
    {
     "data": {
      "text/plain": [
       "ColormeshArtists(pcolormesh=<matplotlib.collections.QuadMesh object at 0x7f5f6aee7c70>, cbar=<matplotlib.colorbar.Colorbar object at 0x7f5f6ae925f0>, text=[])"
      ]
     },
     "execution_count": 3,
     "metadata": {},
     "output_type": "execute_result"
    },
    {
     "data": {
      "image/png": "[encoded data removed]",
      "text/plain": [
       "<Figure size 432x288 with 2 Axes>"
      ]
     },
     "metadata": {
      "needs_background": "light"
     },
     "output_type": "display_data"
    }
   ],
   "source": [
    "h.plot()"
   ]
  },
  {
   "cell_type": "code",
   "execution_count": 4,
   "id": "6c997da1-4920-4b69-a4fc-1ea03322e96b",
   "metadata": {},
   "outputs": [],
   "source": [
    "width = 250\n",
    "height = 250\n",
    "assert h.ndim == 2, \"Must be 2D\"\n",
    "\n",
    "e0, e1 = (h.axes[0].edges, h.axes[1].edges)\n",
    "ex = (e0 - e0[0]) / (e0[-1] - e0[0]) * width\n",
    "ey = -(e1 - e1[0]) / (e1[-1] - e1[0]) * height"
   ]
  },
  {
   "cell_type": "code",
   "execution_count": 5,
   "id": "f8573c22-6726-4142-a593-c16ddab6dc89",
   "metadata": {},
   "outputs": [
    {
     "data": {
      "text/plain": [
       "array([ 1.,  2.,  3.,  4.,  5.,  6.,  7.,  8.,  9., 10.])"
      ]
     },
     "execution_count": 5,
     "metadata": {},
     "output_type": "execute_result"
    }
   ],
   "source": [
    "e0"
   ]
  },
  {
   "cell_type": "code",
   "execution_count": 6,
   "id": "193e9c15-6250-499b-adbf-bcee558499c7",
   "metadata": {},
   "outputs": [
    {
     "data": {
      "text/plain": [
       "array([ 1.,  2.,  3.,  4.,  5.,  6.,  7.,  8.,  9., 10., 11., 12., 13.,\n",
       "       14., 15., 16., 17., 18., 19., 20.])"
      ]
     },
     "execution_count": 6,
     "metadata": {},
     "output_type": "execute_result"
    }
   ],
   "source": [
    "e1"
   ]
  },
  {
   "cell_type": "code",
   "execution_count": 7,
   "id": "fee08786-2ded-4152-ac67-7dcea8957678",
   "metadata": {},
   "outputs": [
    {
     "data": {
      "text/plain": [
       "array([  0.        ,  27.77777778,  55.55555556,  83.33333333,\n",
       "       111.11111111, 138.88888889, 166.66666667, 194.44444444,\n",
       "       222.22222222, 250.        ])"
      ]
     },
     "execution_count": 7,
     "metadata": {},
     "output_type": "execute_result"
    }
   ],
   "source": [
    "ex"
   ]
  },
  {
   "cell_type": "code",
   "execution_count": 8,
   "id": "a31316d7-5390-4bf2-83b1-98c278ae4648",
   "metadata": {},
   "outputs": [
    {
     "data": {
      "text/plain": [
       "array([  -0.        ,  -13.15789474,  -26.31578947,  -39.47368421,\n",
       "        -52.63157895,  -65.78947368,  -78.94736842,  -92.10526316,\n",
       "       -105.26315789, -118.42105263, -131.57894737, -144.73684211,\n",
       "       -157.89473684, -171.05263158, -184.21052632, -197.36842105,\n",
       "       -210.52631579, -223.68421053, -236.84210526, -250.        ])"
      ]
     },
     "execution_count": 8,
     "metadata": {},
     "output_type": "execute_result"
    }
   ],
   "source": [
    "ey"
   ]
  },
  {
   "cell_type": "code",
   "execution_count": 9,
   "id": "6c1e80c0-a4d3-4df2-b057-e90ede99dae6",
   "metadata": {},
   "outputs": [],
   "source": [
    "density = h.density()\n",
    "max_dens = np.amax(density) or 1\n",
    "norm_vals = density / max_dens"
   ]
  },
  {
   "cell_type": "code",
   "execution_count": 10,
   "id": "296b1cf3-25dd-4ee1-927d-97d4fadd7659",
   "metadata": {},
   "outputs": [
    {
     "data": {
      "text/plain": [
       "array([[0. , 0. , 0. , 0. , 0. , 0. , 0. , 0. , 0. , 0. , 0. , 0. , 0. ,\n",
       "        0. , 0. , 0. , 0. , 0. , 0. ],\n",
       "       [0. , 0. , 0. , 0.1, 0. , 0. , 0. , 0. , 0. , 0. , 0. , 0. , 0. ,\n",
       "        0. , 0. , 0. , 0. , 0. , 0. ],\n",
       "       [0. , 0. , 0. , 0.2, 0. , 0. , 0. , 0. , 0. , 0. , 0. , 0. , 0. ,\n",
       "        0. , 0. , 0. , 0. , 0. , 0. ],\n",
       "       [0. , 0. , 0.1, 0.1, 0. , 0. , 0. , 0. , 0. , 0. , 0. , 0. , 0. ,\n",
       "        0. , 0. , 0. , 0. , 0. , 0. ],\n",
       "       [0. , 0. , 0. , 0. , 0.3, 0.1, 0. , 0. , 0. , 0. , 0. , 0. , 0. ,\n",
       "        0. , 0. , 0. , 0. , 0. , 0. ],\n",
       "       [0. , 0. , 0. , 0.1, 0. , 0. , 0. , 0. , 0. , 0. , 0. , 0. , 0. ,\n",
       "        0. , 0. , 0. , 0. , 0. , 0. ],\n",
       "       [0. , 0. , 0. , 0. , 0. , 0. , 0. , 0. , 0. , 0. , 0. , 0. , 0. ,\n",
       "        0. , 0. , 0. , 0. , 0. , 0. ],\n",
       "       [0. , 0. , 0. , 0. , 0. , 0. , 0. , 0. , 0. , 0. , 0. , 0. , 0. ,\n",
       "        0. , 0. , 0. , 0. , 0. , 0. ],\n",
       "       [0. , 0. , 0. , 0. , 0. , 0. , 0. , 0. , 0. , 0. , 0. , 0. , 0. ,\n",
       "        0. , 0. , 0. , 0. , 0. , 0. ]])"
      ]
     },
     "execution_count": 10,
     "metadata": {},
     "output_type": "execute_result"
    }
   ],
   "source": [
    "density"
   ]
  },
  {
   "cell_type": "code",
   "execution_count": 11,
   "id": "66b9820d-1a37-40ff-89d3-e5fa8b3474bf",
   "metadata": {},
   "outputs": [],
   "source": [
    "import zlib"
   ]
  },
  {
   "cell_type": "code",
   "execution_count": 12,
   "id": "1836547b-20a5-4955-8ebb-075d729f45b4",
   "metadata": {},
   "outputs": [
    {
     "data": {
      "text/plain": [
       "0.3"
      ]
     },
     "execution_count": 12,
     "metadata": {},
     "output_type": "execute_result"
    }
   ],
   "source": [
    "max_dens"
   ]
  },
  {
   "cell_type": "code",
   "execution_count": 13,
   "id": "783785b5-8308-46dd-8a23-5f70a4c024c0",
   "metadata": {},
   "outputs": [
    {
     "data": {
      "text/plain": [
       "array([[0.        , 0.        , 0.        , 0.        , 0.        ,\n",
       "        0.        , 0.        , 0.        , 0.        , 0.        ,\n",
       "        0.        , 0.        , 0.        , 0.        , 0.        ,\n",
       "        0.        , 0.        , 0.        , 0.        ],\n",
       "       [0.        , 0.        , 0.        , 0.33333333, 0.        ,\n",
       "        0.        , 0.        , 0.        , 0.        , 0.        ,\n",
       "        0.        , 0.        , 0.        , 0.        , 0.        ,\n",
       "        0.        , 0.        , 0.        , 0.        ],\n",
       "       [0.        , 0.        , 0.        , 0.66666667, 0.        ,\n",
       "        0.        , 0.        , 0.        , 0.        , 0.        ,\n",
       "        0.        , 0.        , 0.        , 0.        , 0.        ,\n",
       "        0.        , 0.        , 0.        , 0.        ],\n",
       "       [0.        , 0.        , 0.33333333, 0.33333333, 0.        ,\n",
       "        0.        , 0.        , 0.        , 0.        , 0.        ,\n",
       "        0.        , 0.        , 0.        , 0.        , 0.        ,\n",
       "        0.        , 0.        , 0.        , 0.        ],\n",
       "       [0.        , 0.        , 0.        , 0.        , 1.        ,\n",
       "        0.33333333, 0.        , 0.        , 0.        , 0.        ,\n",
       "        0.        , 0.        , 0.        , 0.        , 0.        ,\n",
       "        0.        , 0.        , 0.        , 0.        ],\n",
       "       [0.        , 0.        , 0.        , 0.33333333, 0.        ,\n",
       "        0.        , 0.        , 0.        , 0.        , 0.        ,\n",
       "        0.        , 0.        , 0.        , 0.        , 0.        ,\n",
       "        0.        , 0.        , 0.        , 0.        ],\n",
       "       [0.        , 0.        , 0.        , 0.        , 0.        ,\n",
       "        0.        , 0.        , 0.        , 0.        , 0.        ,\n",
       "        0.        , 0.        , 0.        , 0.        , 0.        ,\n",
       "        0.        , 0.        , 0.        , 0.        ],\n",
       "       [0.        , 0.        , 0.        , 0.        , 0.        ,\n",
       "        0.        , 0.        , 0.        , 0.        , 0.        ,\n",
       "        0.        , 0.        , 0.        , 0.        , 0.        ,\n",
       "        0.        , 0.        , 0.        , 0.        ],\n",
       "       [0.        , 0.        , 0.        , 0.        , 0.        ,\n",
       "        0.        , 0.        , 0.        , 0.        , 0.        ,\n",
       "        0.        , 0.        , 0.        , 0.        , 0.        ,\n",
       "        0.        , 0.        , 0.        , 0.        ]])"
      ]
     },
     "execution_count": 13,
     "metadata": {},
     "output_type": "execute_result"
    }
   ],
   "source": [
    "norm_vals"
   ]
  },
  {
   "cell_type": "code",
   "execution_count": 14,
   "id": "f8543699-3bee-4cd4-9818-200592093bd6",
   "metadata": {},
   "outputs": [],
   "source": [
    "boxes = []\n",
    "for r, (up_edge, bottom_edge) in enumerate(zip(ey[:-1], ey[1:])):\n",
    "    ht = up_edge - bottom_edge\n",
    "    for c, (left_edge, right_edge) in enumerate(zip(ex[:-1], ex[1:])):\n",
    "        opacity = norm_vals[c, r]\n",
    "        wt = left_edge - right_edge\n",
    "        boxes.append(\n",
    "            rect(\n",
    "                x=left_edge,\n",
    "                y=bottom_edge,\n",
    "                width=round(abs(wt), 3),\n",
    "                height=round(abs(ht), 3),\n",
    "                opacity=opacity,\n",
    "                fill=\"currentColor\",\n",
    "                stroke_width=0.1,\n",
    "            )\n",
    "        )"
   ]
  },
  {
   "cell_type": "code",
   "execution_count": 15,
   "id": "1147054b-d8f6-48ac-9fad-8be8e02d5ec8",
   "metadata": {},
   "outputs": [
    {
     "data": {
      "image/svg+xml": [
       "<svg xmlns=\"http://www.w3.org/2000/svg\" viewBox=\"-20 -270 290 290\">\n",
       "<rect x=\"0.0\" y=\"-13.157894736842104\" width=\"27.778\" height=\"13.158\" opacity=\"0.0\" fill=\"currentColor\" stroke-width=\"0.1\"/>\n",
       "<rect x=\"27.777777777777775\" y=\"-13.157894736842104\" width=\"27.778\" height=\"13.158\" opacity=\"0.0\" fill=\"currentColor\" stroke-width=\"0.1\"/>\n",
       "<rect x=\"55.55555555555555\" y=\"-13.157894736842104\" width=\"27.778\" height=\"13.158\" opacity=\"0.0\" fill=\"currentColor\" stroke-width=\"0.1\"/>\n",
       "<rect x=\"83.33333333333333\" y=\"-13.157894736842104\" width=\"27.778\" height=\"13.158\" opacity=\"0.0\" fill=\"currentColor\" stroke-width=\"0.1\"/>\n",
       "<rect x=\"111.1111111111111\" y=\"-13.157894736842104\" width=\"27.778\" height=\"13.158\" opacity=\"0.0\" fill=\"currentColor\" stroke-width=\"0.1\"/>\n",
       "<rect x=\"138.88888888888889\" y=\"-13.157894736842104\" width=\"27.778\" height=\"13.158\" opacity=\"0.0\" fill=\"currentColor\" stroke-width=\"0.1\"/>\n",
       "<rect x=\"166.66666666666666\" y=\"-13.157894736842104\" width=\"27.778\" height=\"13.158\" opacity=\"0.0\" fill=\"currentColor\" stroke-width=\"0.1\"/>\n",
       "<rect x=\"194.44444444444446\" y=\"-13.157894736842104\" width=\"27.778\" height=\"13.158\" opacity=\"0.0\" fill=\"currentColor\" stroke-width=\"0.1\"/>\n",
       "<rect x=\"222.2222222222222\" y=\"-13.157894736842104\" width=\"27.778\" height=\"13.158\" opacity=\"0.0\" fill=\"currentColor\" stroke-width=\"0.1\"/>\n",
       "<rect x=\"0.0\" y=\"-26.31578947368421\" width=\"27.778\" height=\"13.158\" opacity=\"0.0\" fill=\"currentColor\" stroke-width=\"0.1\"/>\n",
       "<rect x=\"27.777777777777775\" y=\"-26.31578947368421\" width=\"27.778\" height=\"13.158\" opacity=\"0.0\" fill=\"currentColor\" stroke-width=\"0.1\"/>\n",
       "<rect x=\"55.55555555555555\" y=\"-26.31578947368421\" width=\"27.778\" height=\"13.158\" opacity=\"0.0\" fill=\"currentColor\" stroke-width=\"0.1\"/>\n",
       "<rect x=\"83.33333333333333\" y=\"-26.31578947368421\" width=\"27.778\" height=\"13.158\" opacity=\"0.0\" fill=\"currentColor\" stroke-width=\"0.1\"/>\n",
       "<rect x=\"111.1111111111111\" y=\"-26.31578947368421\" width=\"27.778\" height=\"13.158\" opacity=\"0.0\" fill=\"currentColor\" stroke-width=\"0.1\"/>\n",
       "<rect x=\"138.88888888888889\" y=\"-26.31578947368421\" width=\"27.778\" height=\"13.158\" opacity=\"0.0\" fill=\"currentColor\" stroke-width=\"0.1\"/>\n",
       "<rect x=\"166.66666666666666\" y=\"-26.31578947368421\" width=\"27.778\" height=\"13.158\" opacity=\"0.0\" fill=\"currentColor\" stroke-width=\"0.1\"/>\n",
       "<rect x=\"194.44444444444446\" y=\"-26.31578947368421\" width=\"27.778\" height=\"13.158\" opacity=\"0.0\" fill=\"currentColor\" stroke-width=\"0.1\"/>\n",
       "<rect x=\"222.2222222222222\" y=\"-26.31578947368421\" width=\"27.778\" height=\"13.158\" opacity=\"0.0\" fill=\"currentColor\" stroke-width=\"0.1\"/>\n",
       "<rect x=\"0.0\" y=\"-39.473684210526315\" width=\"27.778\" height=\"13.158\" opacity=\"0.0\" fill=\"currentColor\" stroke-width=\"0.1\"/>\n",
       "<rect x=\"27.777777777777775\" y=\"-39.473684210526315\" width=\"27.778\" height=\"13.158\" opacity=\"0.0\" fill=\"currentColor\" stroke-width=\"0.1\"/>\n",
       "<rect x=\"55.55555555555555\" y=\"-39.473684210526315\" width=\"27.778\" height=\"13.158\" opacity=\"0.0\" fill=\"currentColor\" stroke-width=\"0.1\"/>\n",
       "<rect x=\"83.33333333333333\" y=\"-39.473684210526315\" width=\"27.778\" height=\"13.158\" opacity=\"0.33333333333333337\" fill=\"currentColor\" stroke-width=\"0.1\"/>\n",
       "<rect x=\"111.1111111111111\" y=\"-39.473684210526315\" width=\"27.778\" height=\"13.158\" opacity=\"0.0\" fill=\"currentColor\" stroke-width=\"0.1\"/>\n",
       "<rect x=\"138.88888888888889\" y=\"-39.473684210526315\" width=\"27.778\" height=\"13.158\" opacity=\"0.0\" fill=\"currentColor\" stroke-width=\"0.1\"/>\n",
       "<rect x=\"166.66666666666666\" y=\"-39.473684210526315\" width=\"27.778\" height=\"13.158\" opacity=\"0.0\" fill=\"currentColor\" stroke-width=\"0.1\"/>\n",
       "<rect x=\"194.44444444444446\" y=\"-39.473684210526315\" width=\"27.778\" height=\"13.158\" opacity=\"0.0\" fill=\"currentColor\" stroke-width=\"0.1\"/>\n",
       "<rect x=\"222.2222222222222\" y=\"-39.473684210526315\" width=\"27.778\" height=\"13.158\" opacity=\"0.0\" fill=\"currentColor\" stroke-width=\"0.1\"/>\n",
       "<rect x=\"0.0\" y=\"-52.63157894736842\" width=\"27.778\" height=\"13.158\" opacity=\"0.0\" fill=\"currentColor\" stroke-width=\"0.1\"/>\n",
       "<rect x=\"27.777777777777775\" y=\"-52.63157894736842\" width=\"27.778\" height=\"13.158\" opacity=\"0.33333333333333337\" fill=\"currentColor\" stroke-width=\"0.1\"/>\n",
       "<rect x=\"55.55555555555555\" y=\"-52.63157894736842\" width=\"27.778\" height=\"13.158\" opacity=\"0.6666666666666667\" fill=\"currentColor\" stroke-width=\"0.1\"/>\n",
       "<rect x=\"83.33333333333333\" y=\"-52.63157894736842\" width=\"27.778\" height=\"13.158\" opacity=\"0.33333333333333337\" fill=\"currentColor\" stroke-width=\"0.1\"/>\n",
       "<rect x=\"111.1111111111111\" y=\"-52.63157894736842\" width=\"27.778\" height=\"13.158\" opacity=\"0.0\" fill=\"currentColor\" stroke-width=\"0.1\"/>\n",
       "<rect x=\"138.88888888888889\" y=\"-52.63157894736842\" width=\"27.778\" height=\"13.158\" opacity=\"0.33333333333333337\" fill=\"currentColor\" stroke-width=\"0.1\"/>\n",
       "<rect x=\"166.66666666666666\" y=\"-52.63157894736842\" width=\"27.778\" height=\"13.158\" opacity=\"0.0\" fill=\"currentColor\" stroke-width=\"0.1\"/>\n",
       "<rect x=\"194.44444444444446\" y=\"-52.63157894736842\" width=\"27.778\" height=\"13.158\" opacity=\"0.0\" fill=\"currentColor\" stroke-width=\"0.1\"/>\n",
       "<rect x=\"222.2222222222222\" y=\"-52.63157894736842\" width=\"27.778\" height=\"13.158\" opacity=\"0.0\" fill=\"currentColor\" stroke-width=\"0.1\"/>\n",
       "<rect x=\"0.0\" y=\"-65.78947368421052\" width=\"27.778\" height=\"13.158\" opacity=\"0.0\" fill=\"currentColor\" stroke-width=\"0.1\"/>\n",
       "<rect x=\"27.777777777777775\" y=\"-65.78947368421052\" width=\"27.778\" height=\"13.158\" opacity=\"0.0\" fill=\"currentColor\" stroke-width=\"0.1\"/>\n",
       "<rect x=\"55.55555555555555\" y=\"-65.78947368421052\" width=\"27.778\" height=\"13.158\" opacity=\"0.0\" fill=\"currentColor\" stroke-width=\"0.1\"/>\n",
       "<rect x=\"83.33333333333333\" y=\"-65.78947368421052\" width=\"27.778\" height=\"13.158\" opacity=\"0.0\" fill=\"currentColor\" stroke-width=\"0.1\"/>\n",
       "<rect x=\"111.1111111111111\" y=\"-65.78947368421052\" width=\"27.778\" height=\"13.158\" opacity=\"1.0\" fill=\"currentColor\" stroke-width=\"0.1\"/>\n",
       "<rect x=\"138.88888888888889\" y=\"-65.78947368421052\" width=\"27.778\" height=\"13.158\" opacity=\"0.0\" fill=\"currentColor\" stroke-width=\"0.1\"/>\n",
       "<rect x=\"166.66666666666666\" y=\"-65.78947368421052\" width=\"27.778\" height=\"13.158\" opacity=\"0.0\" fill=\"currentColor\" stroke-width=\"0.1\"/>\n",
       "<rect x=\"194.44444444444446\" y=\"-65.78947368421052\" width=\"27.778\" height=\"13.158\" opacity=\"0.0\" fill=\"currentColor\" stroke-width=\"0.1\"/>\n",
       "<rect x=\"222.2222222222222\" y=\"-65.78947368421052\" width=\"27.778\" height=\"13.158\" opacity=\"0.0\" fill=\"currentColor\" stroke-width=\"0.1\"/>\n",
       "<rect x=\"0.0\" y=\"-78.94736842105263\" width=\"27.778\" height=\"13.158\" opacity=\"0.0\" fill=\"currentColor\" stroke-width=\"0.1\"/>\n",
       "<rect x=\"27.777777777777775\" y=\"-78.94736842105263\" width=\"27.778\" height=\"13.158\" opacity=\"0.0\" fill=\"currentColor\" stroke-width=\"0.1\"/>\n",
       "<rect x=\"55.55555555555555\" y=\"-78.94736842105263\" width=\"27.778\" height=\"13.158\" opacity=\"0.0\" fill=\"currentColor\" stroke-width=\"0.1\"/>\n",
       "<rect x=\"83.33333333333333\" y=\"-78.94736842105263\" width=\"27.778\" height=\"13.158\" opacity=\"0.0\" fill=\"currentColor\" stroke-width=\"0.1\"/>\n",
       "<rect x=\"111.1111111111111\" y=\"-78.94736842105263\" width=\"27.778\" height=\"13.158\" opacity=\"0.33333333333333337\" fill=\"currentColor\" stroke-width=\"0.1\"/>\n",
       "<rect x=\"138.88888888888889\" y=\"-78.94736842105263\" width=\"27.778\" height=\"13.158\" opacity=\"0.0\" fill=\"currentColor\" stroke-width=\"0.1\"/>\n",
       "<rect x=\"166.66666666666666\" y=\"-78.94736842105263\" width=\"27.778\" height=\"13.158\" opacity=\"0.0\" fill=\"currentColor\" stroke-width=\"0.1\"/>\n",
       "<rect x=\"194.44444444444446\" y=\"-78.94736842105263\" width=\"27.778\" height=\"13.158\" opacity=\"0.0\" fill=\"currentColor\" stroke-width=\"0.1\"/>\n",
       "<rect x=\"222.2222222222222\" y=\"-78.94736842105263\" width=\"27.778\" height=\"13.158\" opacity=\"0.0\" fill=\"currentColor\" stroke-width=\"0.1\"/>\n",
       "<rect x=\"0.0\" y=\"-92.10526315789473\" width=\"27.778\" height=\"13.158\" opacity=\"0.0\" fill=\"currentColor\" stroke-width=\"0.1\"/>\n",
       "<rect x=\"27.777777777777775\" y=\"-92.10526315789473\" width=\"27.778\" height=\"13.158\" opacity=\"0.0\" fill=\"currentColor\" stroke-width=\"0.1\"/>\n",
       "<rect x=\"55.55555555555555\" y=\"-92.10526315789473\" width=\"27.778\" height=\"13.158\" opacity=\"0.0\" fill=\"currentColor\" stroke-width=\"0.1\"/>\n",
       "<rect x=\"83.33333333333333\" y=\"-92.10526315789473\" width=\"27.778\" height=\"13.158\" opacity=\"0.0\" fill=\"currentColor\" stroke-width=\"0.1\"/>\n",
       "<rect x=\"111.1111111111111\" y=\"-92.10526315789473\" width=\"27.778\" height=\"13.158\" opacity=\"0.0\" fill=\"currentColor\" stroke-width=\"0.1\"/>\n",
       "<rect x=\"138.88888888888889\" y=\"-92.10526315789473\" width=\"27.778\" height=\"13.158\" opacity=\"0.0\" fill=\"currentColor\" stroke-width=\"0.1\"/>\n",
       "<rect x=\"166.66666666666666\" y=\"-92.10526315789473\" width=\"27.778\" height=\"13.158\" opacity=\"0.0\" fill=\"currentColor\" stroke-width=\"0.1\"/>\n",
       "<rect x=\"194.44444444444446\" y=\"-92.10526315789473\" width=\"27.778\" height=\"13.158\" opacity=\"0.0\" fill=\"currentColor\" stroke-width=\"0.1\"/>\n",
       "<rect x=\"222.2222222222222\" y=\"-92.10526315789473\" width=\"27.778\" height=\"13.158\" opacity=\"0.0\" fill=\"currentColor\" stroke-width=\"0.1\"/>\n",
       "<rect x=\"0.0\" y=\"-105.26315789473684\" width=\"27.778\" height=\"13.158\" opacity=\"0.0\" fill=\"currentColor\" stroke-width=\"0.1\"/>\n",
       "<rect x=\"27.777777777777775\" y=\"-105.26315789473684\" width=\"27.778\" height=\"13.158\" opacity=\"0.0\" fill=\"currentColor\" stroke-width=\"0.1\"/>\n",
       "<rect x=\"55.55555555555555\" y=\"-105.26315789473684\" width=\"27.778\" height=\"13.158\" opacity=\"0.0\" fill=\"currentColor\" stroke-width=\"0.1\"/>\n",
       "<rect x=\"83.33333333333333\" y=\"-105.26315789473684\" width=\"27.778\" height=\"13.158\" opacity=\"0.0\" fill=\"currentColor\" stroke-width=\"0.1\"/>\n",
       "<rect x=\"111.1111111111111\" y=\"-105.26315789473684\" width=\"27.778\" height=\"13.158\" opacity=\"0.0\" fill=\"currentColor\" stroke-width=\"0.1\"/>\n",
       "<rect x=\"138.88888888888889\" y=\"-105.26315789473684\" width=\"27.778\" height=\"13.158\" opacity=\"0.0\" fill=\"currentColor\" stroke-width=\"0.1\"/>\n",
       "<rect x=\"166.66666666666666\" y=\"-105.26315789473684\" width=\"27.778\" height=\"13.158\" opacity=\"0.0\" fill=\"currentColor\" stroke-width=\"0.1\"/>\n",
       "<rect x=\"194.44444444444446\" y=\"-105.26315789473684\" width=\"27.778\" height=\"13.158\" opacity=\"0.0\" fill=\"currentColor\" stroke-width=\"0.1\"/>\n",
       "<rect x=\"222.2222222222222\" y=\"-105.26315789473684\" width=\"27.778\" height=\"13.158\" opacity=\"0.0\" fill=\"currentColor\" stroke-width=\"0.1\"/>\n",
       "<rect x=\"0.0\" y=\"-118.42105263157895\" width=\"27.778\" height=\"13.158\" opacity=\"0.0\" fill=\"currentColor\" stroke-width=\"0.1\"/>\n",
       "<rect x=\"27.777777777777775\" y=\"-118.42105263157895\" width=\"27.778\" height=\"13.158\" opacity=\"0.0\" fill=\"currentColor\" stroke-width=\"0.1\"/>\n",
       "<rect x=\"55.55555555555555\" y=\"-118.42105263157895\" width=\"27.778\" height=\"13.158\" opacity=\"0.0\" fill=\"currentColor\" stroke-width=\"0.1\"/>\n",
       "<rect x=\"83.33333333333333\" y=\"-118.42105263157895\" width=\"27.778\" height=\"13.158\" opacity=\"0.0\" fill=\"currentColor\" stroke-width=\"0.1\"/>\n",
       "<rect x=\"111.1111111111111\" y=\"-118.42105263157895\" width=\"27.778\" height=\"13.158\" opacity=\"0.0\" fill=\"currentColor\" stroke-width=\"0.1\"/>\n",
       "<rect x=\"138.88888888888889\" y=\"-118.42105263157895\" width=\"27.778\" height=\"13.158\" opacity=\"0.0\" fill=\"currentColor\" stroke-width=\"0.1\"/>\n",
       "<rect x=\"166.66666666666666\" y=\"-118.42105263157895\" width=\"27.778\" height=\"13.158\" opacity=\"0.0\" fill=\"currentColor\" stroke-width=\"0.1\"/>\n",
       "<rect x=\"194.44444444444446\" y=\"-118.42105263157895\" width=\"27.778\" height=\"13.158\" opacity=\"0.0\" fill=\"currentColor\" stroke-width=\"0.1\"/>\n",
       "<rect x=\"222.2222222222222\" y=\"-118.42105263157895\" width=\"27.778\" height=\"13.158\" opacity=\"0.0\" fill=\"currentColor\" stroke-width=\"0.1\"/>\n",
       "<rect x=\"0.0\" y=\"-131.57894736842104\" width=\"27.778\" height=\"13.158\" opacity=\"0.0\" fill=\"currentColor\" stroke-width=\"0.1\"/>\n",
       "<rect x=\"27.777777777777775\" y=\"-131.57894736842104\" width=\"27.778\" height=\"13.158\" opacity=\"0.0\" fill=\"currentColor\" stroke-width=\"0.1\"/>\n",
       "<rect x=\"55.55555555555555\" y=\"-131.57894736842104\" width=\"27.778\" height=\"13.158\" opacity=\"0.0\" fill=\"currentColor\" stroke-width=\"0.1\"/>\n",
       "<rect x=\"83.33333333333333\" y=\"-131.57894736842104\" width=\"27.778\" height=\"13.158\" opacity=\"0.0\" fill=\"currentColor\" stroke-width=\"0.1\"/>\n",
       "<rect x=\"111.1111111111111\" y=\"-131.57894736842104\" width=\"27.778\" height=\"13.158\" opacity=\"0.0\" fill=\"currentColor\" stroke-width=\"0.1\"/>\n",
       "<rect x=\"138.88888888888889\" y=\"-131.57894736842104\" width=\"27.778\" height=\"13.158\" opacity=\"0.0\" fill=\"currentColor\" stroke-width=\"0.1\"/>\n",
       "<rect x=\"166.66666666666666\" y=\"-131.57894736842104\" width=\"27.778\" height=\"13.158\" opacity=\"0.0\" fill=\"currentColor\" stroke-width=\"0.1\"/>\n",
       "<rect x=\"194.44444444444446\" y=\"-131.57894736842104\" width=\"27.778\" height=\"13.158\" opacity=\"0.0\" fill=\"currentColor\" stroke-width=\"0.1\"/>\n",
       "<rect x=\"222.2222222222222\" y=\"-131.57894736842104\" width=\"27.778\" height=\"13.158\" opacity=\"0.0\" fill=\"currentColor\" stroke-width=\"0.1\"/>\n",
       "<rect x=\"0.0\" y=\"-144.73684210526315\" width=\"27.778\" height=\"13.158\" opacity=\"0.0\" fill=\"currentColor\" stroke-width=\"0.1\"/>\n",
       "<rect x=\"27.777777777777775\" y=\"-144.73684210526315\" width=\"27.778\" height=\"13.158\" opacity=\"0.0\" fill=\"currentColor\" stroke-width=\"0.1\"/>\n",
       "<rect x=\"55.55555555555555\" y=\"-144.73684210526315\" width=\"27.778\" height=\"13.158\" opacity=\"0.0\" fill=\"currentColor\" stroke-width=\"0.1\"/>\n",
       "<rect x=\"83.33333333333333\" y=\"-144.73684210526315\" width=\"27.778\" height=\"13.158\" opacity=\"0.0\" fill=\"currentColor\" stroke-width=\"0.1\"/>\n",
       "<rect x=\"111.1111111111111\" y=\"-144.73684210526315\" width=\"27.778\" height=\"13.158\" opacity=\"0.0\" fill=\"currentColor\" stroke-width=\"0.1\"/>\n",
       "<rect x=\"138.88888888888889\" y=\"-144.73684210526315\" width=\"27.778\" height=\"13.158\" opacity=\"0.0\" fill=\"currentColor\" stroke-width=\"0.1\"/>\n",
       "<rect x=\"166.66666666666666\" y=\"-144.73684210526315\" width=\"27.778\" height=\"13.158\" opacity=\"0.0\" fill=\"currentColor\" stroke-width=\"0.1\"/>\n",
       "<rect x=\"194.44444444444446\" y=\"-144.73684210526315\" width=\"27.778\" height=\"13.158\" opacity=\"0.0\" fill=\"currentColor\" stroke-width=\"0.1\"/>\n",
       "<rect x=\"222.2222222222222\" y=\"-144.73684210526315\" width=\"27.778\" height=\"13.158\" opacity=\"0.0\" fill=\"currentColor\" stroke-width=\"0.1\"/>\n",
       "<rect x=\"0.0\" y=\"-157.89473684210526\" width=\"27.778\" height=\"13.158\" opacity=\"0.0\" fill=\"currentColor\" stroke-width=\"0.1\"/>\n",
       "<rect x=\"27.777777777777775\" y=\"-157.89473684210526\" width=\"27.778\" height=\"13.158\" opacity=\"0.0\" fill=\"currentColor\" stroke-width=\"0.1\"/>\n",
       "<rect x=\"55.55555555555555\" y=\"-157.89473684210526\" width=\"27.778\" height=\"13.158\" opacity=\"0.0\" fill=\"currentColor\" stroke-width=\"0.1\"/>\n",
       "<rect x=\"83.33333333333333\" y=\"-157.89473684210526\" width=\"27.778\" height=\"13.158\" opacity=\"0.0\" fill=\"currentColor\" stroke-width=\"0.1\"/>\n",
       "<rect x=\"111.1111111111111\" y=\"-157.89473684210526\" width=\"27.778\" height=\"13.158\" opacity=\"0.0\" fill=\"currentColor\" stroke-width=\"0.1\"/>\n",
       "<rect x=\"138.88888888888889\" y=\"-157.89473684210526\" width=\"27.778\" height=\"13.158\" opacity=\"0.0\" fill=\"currentColor\" stroke-width=\"0.1\"/>\n",
       "<rect x=\"166.66666666666666\" y=\"-157.89473684210526\" width=\"27.778\" height=\"13.158\" opacity=\"0.0\" fill=\"currentColor\" stroke-width=\"0.1\"/>\n",
       "<rect x=\"194.44444444444446\" y=\"-157.89473684210526\" width=\"27.778\" height=\"13.158\" opacity=\"0.0\" fill=\"currentColor\" stroke-width=\"0.1\"/>\n",
       "<rect x=\"222.2222222222222\" y=\"-157.89473684210526\" width=\"27.778\" height=\"13.158\" opacity=\"0.0\" fill=\"currentColor\" stroke-width=\"0.1\"/>\n",
       "<rect x=\"0.0\" y=\"-171.05263157894737\" width=\"27.778\" height=\"13.158\" opacity=\"0.0\" fill=\"currentColor\" stroke-width=\"0.1\"/>\n",
       "<rect x=\"27.777777777777775\" y=\"-171.05263157894737\" width=\"27.778\" height=\"13.158\" opacity=\"0.0\" fill=\"currentColor\" stroke-width=\"0.1\"/>\n",
       "<rect x=\"55.55555555555555\" y=\"-171.05263157894737\" width=\"27.778\" height=\"13.158\" opacity=\"0.0\" fill=\"currentColor\" stroke-width=\"0.1\"/>\n",
       "<rect x=\"83.33333333333333\" y=\"-171.05263157894737\" width=\"27.778\" height=\"13.158\" opacity=\"0.0\" fill=\"currentColor\" stroke-width=\"0.1\"/>\n",
       "<rect x=\"111.1111111111111\" y=\"-171.05263157894737\" width=\"27.778\" height=\"13.158\" opacity=\"0.0\" fill=\"currentColor\" stroke-width=\"0.1\"/>\n",
       "<rect x=\"138.88888888888889\" y=\"-171.05263157894737\" width=\"27.778\" height=\"13.158\" opacity=\"0.0\" fill=\"currentColor\" stroke-width=\"0.1\"/>\n",
       "<rect x=\"166.66666666666666\" y=\"-171.05263157894737\" width=\"27.778\" height=\"13.158\" opacity=\"0.0\" fill=\"currentColor\" stroke-width=\"0.1\"/>\n",
       "<rect x=\"194.44444444444446\" y=\"-171.05263157894737\" width=\"27.778\" height=\"13.158\" opacity=\"0.0\" fill=\"currentColor\" stroke-width=\"0.1\"/>\n",
       "<rect x=\"222.2222222222222\" y=\"-171.05263157894737\" width=\"27.778\" height=\"13.158\" opacity=\"0.0\" fill=\"currentColor\" stroke-width=\"0.1\"/>\n",
       "<rect x=\"0.0\" y=\"-184.21052631578945\" width=\"27.778\" height=\"13.158\" opacity=\"0.0\" fill=\"currentColor\" stroke-width=\"0.1\"/>\n",
       "<rect x=\"27.777777777777775\" y=\"-184.21052631578945\" width=\"27.778\" height=\"13.158\" opacity=\"0.0\" fill=\"currentColor\" stroke-width=\"0.1\"/>\n",
       "<rect x=\"55.55555555555555\" y=\"-184.21052631578945\" width=\"27.778\" height=\"13.158\" opacity=\"0.0\" fill=\"currentColor\" stroke-width=\"0.1\"/>\n",
       "<rect x=\"83.33333333333333\" y=\"-184.21052631578945\" width=\"27.778\" height=\"13.158\" opacity=\"0.0\" fill=\"currentColor\" stroke-width=\"0.1\"/>\n",
       "<rect x=\"111.1111111111111\" y=\"-184.21052631578945\" width=\"27.778\" height=\"13.158\" opacity=\"0.0\" fill=\"currentColor\" stroke-width=\"0.1\"/>\n",
       "<rect x=\"138.88888888888889\" y=\"-184.21052631578945\" width=\"27.778\" height=\"13.158\" opacity=\"0.0\" fill=\"currentColor\" stroke-width=\"0.1\"/>\n",
       "<rect x=\"166.66666666666666\" y=\"-184.21052631578945\" width=\"27.778\" height=\"13.158\" opacity=\"0.0\" fill=\"currentColor\" stroke-width=\"0.1\"/>\n",
       "<rect x=\"194.44444444444446\" y=\"-184.21052631578945\" width=\"27.778\" height=\"13.158\" opacity=\"0.0\" fill=\"currentColor\" stroke-width=\"0.1\"/>\n",
       "<rect x=\"222.2222222222222\" y=\"-184.21052631578945\" width=\"27.778\" height=\"13.158\" opacity=\"0.0\" fill=\"currentColor\" stroke-width=\"0.1\"/>\n",
       "<rect x=\"0.0\" y=\"-197.3684210526316\" width=\"27.778\" height=\"13.158\" opacity=\"0.0\" fill=\"currentColor\" stroke-width=\"0.1\"/>\n",
       "<rect x=\"27.777777777777775\" y=\"-197.3684210526316\" width=\"27.778\" height=\"13.158\" opacity=\"0.0\" fill=\"currentColor\" stroke-width=\"0.1\"/>\n",
       "<rect x=\"55.55555555555555\" y=\"-197.3684210526316\" width=\"27.778\" height=\"13.158\" opacity=\"0.0\" fill=\"currentColor\" stroke-width=\"0.1\"/>\n",
       "<rect x=\"83.33333333333333\" y=\"-197.3684210526316\" width=\"27.778\" height=\"13.158\" opacity=\"0.0\" fill=\"currentColor\" stroke-width=\"0.1\"/>\n",
       "<rect x=\"111.1111111111111\" y=\"-197.3684210526316\" width=\"27.778\" height=\"13.158\" opacity=\"0.0\" fill=\"currentColor\" stroke-width=\"0.1\"/>\n",
       "<rect x=\"138.88888888888889\" y=\"-197.3684210526316\" width=\"27.778\" height=\"13.158\" opacity=\"0.0\" fill=\"currentColor\" stroke-width=\"0.1\"/>\n",
       "<rect x=\"166.66666666666666\" y=\"-197.3684210526316\" width=\"27.778\" height=\"13.158\" opacity=\"0.0\" fill=\"currentColor\" stroke-width=\"0.1\"/>\n",
       "<rect x=\"194.44444444444446\" y=\"-197.3684210526316\" width=\"27.778\" height=\"13.158\" opacity=\"0.0\" fill=\"currentColor\" stroke-width=\"0.1\"/>\n",
       "<rect x=\"222.2222222222222\" y=\"-197.3684210526316\" width=\"27.778\" height=\"13.158\" opacity=\"0.0\" fill=\"currentColor\" stroke-width=\"0.1\"/>\n",
       "<rect x=\"0.0\" y=\"-210.52631578947367\" width=\"27.778\" height=\"13.158\" opacity=\"0.0\" fill=\"currentColor\" stroke-width=\"0.1\"/>\n",
       "<rect x=\"27.777777777777775\" y=\"-210.52631578947367\" width=\"27.778\" height=\"13.158\" opacity=\"0.0\" fill=\"currentColor\" stroke-width=\"0.1\"/>\n",
       "<rect x=\"55.55555555555555\" y=\"-210.52631578947367\" width=\"27.778\" height=\"13.158\" opacity=\"0.0\" fill=\"currentColor\" stroke-width=\"0.1\"/>\n",
       "<rect x=\"83.33333333333333\" y=\"-210.52631578947367\" width=\"27.778\" height=\"13.158\" opacity=\"0.0\" fill=\"currentColor\" stroke-width=\"0.1\"/>\n",
       "<rect x=\"111.1111111111111\" y=\"-210.52631578947367\" width=\"27.778\" height=\"13.158\" opacity=\"0.0\" fill=\"currentColor\" stroke-width=\"0.1\"/>\n",
       "<rect x=\"138.88888888888889\" y=\"-210.52631578947367\" width=\"27.778\" height=\"13.158\" opacity=\"0.0\" fill=\"currentColor\" stroke-width=\"0.1\"/>\n",
       "<rect x=\"166.66666666666666\" y=\"-210.52631578947367\" width=\"27.778\" height=\"13.158\" opacity=\"0.0\" fill=\"currentColor\" stroke-width=\"0.1\"/>\n",
       "<rect x=\"194.44444444444446\" y=\"-210.52631578947367\" width=\"27.778\" height=\"13.158\" opacity=\"0.0\" fill=\"currentColor\" stroke-width=\"0.1\"/>\n",
       "<rect x=\"222.2222222222222\" y=\"-210.52631578947367\" width=\"27.778\" height=\"13.158\" opacity=\"0.0\" fill=\"currentColor\" stroke-width=\"0.1\"/>\n",
       "<rect x=\"0.0\" y=\"-223.68421052631578\" width=\"27.778\" height=\"13.158\" opacity=\"0.0\" fill=\"currentColor\" stroke-width=\"0.1\"/>\n",
       "<rect x=\"27.777777777777775\" y=\"-223.68421052631578\" width=\"27.778\" height=\"13.158\" opacity=\"0.0\" fill=\"currentColor\" stroke-width=\"0.1\"/>\n",
       "<rect x=\"55.55555555555555\" y=\"-223.68421052631578\" width=\"27.778\" height=\"13.158\" opacity=\"0.0\" fill=\"currentColor\" stroke-width=\"0.1\"/>\n",
       "<rect x=\"83.33333333333333\" y=\"-223.68421052631578\" width=\"27.778\" height=\"13.158\" opacity=\"0.0\" fill=\"currentColor\" stroke-width=\"0.1\"/>\n",
       "<rect x=\"111.1111111111111\" y=\"-223.68421052631578\" width=\"27.778\" height=\"13.158\" opacity=\"0.0\" fill=\"currentColor\" stroke-width=\"0.1\"/>\n",
       "<rect x=\"138.88888888888889\" y=\"-223.68421052631578\" width=\"27.778\" height=\"13.158\" opacity=\"0.0\" fill=\"currentColor\" stroke-width=\"0.1\"/>\n",
       "<rect x=\"166.66666666666666\" y=\"-223.68421052631578\" width=\"27.778\" height=\"13.158\" opacity=\"0.0\" fill=\"currentColor\" stroke-width=\"0.1\"/>\n",
       "<rect x=\"194.44444444444446\" y=\"-223.68421052631578\" width=\"27.778\" height=\"13.158\" opacity=\"0.0\" fill=\"currentColor\" stroke-width=\"0.1\"/>\n",
       "<rect x=\"222.2222222222222\" y=\"-223.68421052631578\" width=\"27.778\" height=\"13.158\" opacity=\"0.0\" fill=\"currentColor\" stroke-width=\"0.1\"/>\n",
       "<rect x=\"0.0\" y=\"-236.8421052631579\" width=\"27.778\" height=\"13.158\" opacity=\"0.0\" fill=\"currentColor\" stroke-width=\"0.1\"/>\n",
       "<rect x=\"27.777777777777775\" y=\"-236.8421052631579\" width=\"27.778\" height=\"13.158\" opacity=\"0.0\" fill=\"currentColor\" stroke-width=\"0.1\"/>\n",
       "<rect x=\"55.55555555555555\" y=\"-236.8421052631579\" width=\"27.778\" height=\"13.158\" opacity=\"0.0\" fill=\"currentColor\" stroke-width=\"0.1\"/>\n",
       "<rect x=\"83.33333333333333\" y=\"-236.8421052631579\" width=\"27.778\" height=\"13.158\" opacity=\"0.0\" fill=\"currentColor\" stroke-width=\"0.1\"/>\n",
       "<rect x=\"111.1111111111111\" y=\"-236.8421052631579\" width=\"27.778\" height=\"13.158\" opacity=\"0.0\" fill=\"currentColor\" stroke-width=\"0.1\"/>\n",
       "<rect x=\"138.88888888888889\" y=\"-236.8421052631579\" width=\"27.778\" height=\"13.158\" opacity=\"0.0\" fill=\"currentColor\" stroke-width=\"0.1\"/>\n",
       "<rect x=\"166.66666666666666\" y=\"-236.8421052631579\" width=\"27.778\" height=\"13.158\" opacity=\"0.0\" fill=\"currentColor\" stroke-width=\"0.1\"/>\n",
       "<rect x=\"194.44444444444446\" y=\"-236.8421052631579\" width=\"27.778\" height=\"13.158\" opacity=\"0.0\" fill=\"currentColor\" stroke-width=\"0.1\"/>\n",
       "<rect x=\"222.2222222222222\" y=\"-236.8421052631579\" width=\"27.778\" height=\"13.158\" opacity=\"0.0\" fill=\"currentColor\" stroke-width=\"0.1\"/>\n",
       "<rect x=\"0.0\" y=\"-250.0\" width=\"27.778\" height=\"13.158\" opacity=\"0.0\" fill=\"currentColor\" stroke-width=\"0.1\"/>\n",
       "<rect x=\"27.777777777777775\" y=\"-250.0\" width=\"27.778\" height=\"13.158\" opacity=\"0.0\" fill=\"currentColor\" stroke-width=\"0.1\"/>\n",
       "<rect x=\"55.55555555555555\" y=\"-250.0\" width=\"27.778\" height=\"13.158\" opacity=\"0.0\" fill=\"currentColor\" stroke-width=\"0.1\"/>\n",
       "<rect x=\"83.33333333333333\" y=\"-250.0\" width=\"27.778\" height=\"13.158\" opacity=\"0.0\" fill=\"currentColor\" stroke-width=\"0.1\"/>\n",
       "<rect x=\"111.1111111111111\" y=\"-250.0\" width=\"27.778\" height=\"13.158\" opacity=\"0.0\" fill=\"currentColor\" stroke-width=\"0.1\"/>\n",
       "<rect x=\"138.88888888888889\" y=\"-250.0\" width=\"27.778\" height=\"13.158\" opacity=\"0.0\" fill=\"currentColor\" stroke-width=\"0.1\"/>\n",
       "<rect x=\"166.66666666666666\" y=\"-250.0\" width=\"27.778\" height=\"13.158\" opacity=\"0.0\" fill=\"currentColor\" stroke-width=\"0.1\"/>\n",
       "<rect x=\"194.44444444444446\" y=\"-250.0\" width=\"27.778\" height=\"13.158\" opacity=\"0.0\" fill=\"currentColor\" stroke-width=\"0.1\"/>\n",
       "<rect x=\"222.2222222222222\" y=\"-250.0\" width=\"27.778\" height=\"13.158\" opacity=\"0.0\" fill=\"currentColor\" stroke-width=\"0.1\"/>\n",
       "</svg>"
      ],
      "text/plain": [
       "<hist.svgutils.svg at 0x7f5f68c633d0>"
      ]
     },
     "execution_count": 15,
     "metadata": {},
     "output_type": "execute_result"
    }
   ],
   "source": [
    "svg(*boxes, viewBox=f\"{-20} {-height - 20} {width+40} {height+40}\")"
   ]
  }
 ],
 "metadata": {
  "kernelspec": {
   "display_name": "hist",
   "language": "python",
   "name": "hist"
  },
  "language_info": {
   "codemirror_mode": {
    "name": "ipython",
    "version": 3
   },
   "file_extension": ".py",
   "mimetype": "text/x-python",
   "name": "python",
   "nbconvert_exporter": "python",
   "pygments_lexer": "ipython3",
   "version": "3.10.4"
  }
 },
 "nbformat": 4,
 "nbformat_minor": 5
}
