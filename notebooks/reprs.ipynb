{
 "cells": [
  {
   "cell_type": "markdown",
   "id": "b30f7a5b-98d0-4079-89c4-511d3732e5eb",
   "metadata": {},
   "source": [
    "# examples for testing reprs"
   ]
  },
  {
   "cell_type": "code",
   "execution_count": 1,
   "id": "7b1171b0-1aa3-4011-8c63-b4192dbde115",
   "metadata": {},
   "outputs": [],
   "source": [
    "import numpy as np\n",
    "from hist import Hist"
   ]
  },
  {
   "cell_type": "code",
   "execution_count": 2,
   "id": "5204c521-c80c-4208-8b7d-67f98b1b6be4",
   "metadata": {
    "tags": []
   },
   "outputs": [
    {
     "data": {
      "text/html": [
       "<html>\n",
       "<div style=\"display:flex; align-items:center;\">\n",
       "<div style=\"width:290px;\">\n",
       "<svg xmlns=\"http://www.w3.org/2000/svg\" viewBox=\"-10 -105 270 120\">\n",
       "<line x1=\"-5\" y1=\"0\" x2=\"255\" y2=\"0\" style=\"fill:none;stroke-width:2;stroke:currentColor\"/>\n",
       "<text text-anchor=\"middle\" x=\"0\" y=\"15\" style=\"fill:currentColor;\">\n",
       "1\n",
       "</text>\n",
       "<text text-anchor=\"middle\" x=\"250\" y=\"15\" style=\"fill:currentColor;\">\n",
       "2\n",
       "</text>\n",
       "<text text-anchor=\"middle\" x=\"125.0\" y=\"15\" style=\"fill:currentColor;\">\n",
       "Y\n",
       "</text>\n",
       "<polyline points=\"  0,0   0,-29.7   5,-29.7   5,-27.2  10,-27.2  10,-27.5  15,-27.5  15,-34.1  20,-34.1  20,-33  25,-33  25,-40.9  30,-40.9  30,-48.2  35,-48.2  35,-48.9  40,-48.9  40,-45.3  45,-45.3  45,-58  50,-58  50,-63.4  55,-63.4  55,-65.2  60,-65.2  60,-62.7  65,-62.7  65,-63.4  70,-63.4  70,-76.8  75,-76.8  75,-72.5  80,-72.5  80,-84.1  85,-84.1  85,-83  90,-83  90,-89.9  95,-89.9  95,-87 100,-87 100,-90.9 105,-90.9 105,-83.3 110,-83.3 110,-98.9 115,-98.9 115,-94.6 120,-94.6 120,-91.3 125,-91.3 125,-100 130,-100 130,-97.8 135,-97.8 135,-95.3 140,-95.3 140,-90.9 145,-90.9 145,-89.9 150,-89.9 150,-89.1 155,-89.1 155,-85.9 160,-85.9 160,-96.7 165,-96.7 165,-89.9 170,-89.9 170,-75.7 175,-75.7 175,-75 180,-75 180,-70.3 185,-70.3 185,-73.2 190,-73.2 190,-69.9 195,-69.9 195,-56.2 200,-56.2 200,-50.4 205,-50.4 205,-47.1 210,-47.1 210,-46.7 215,-46.7 215,-50 220,-50 220,-46.4 225,-46.4 225,-44.2 230,-44.2 230,-30.4 235,-30.4 235,-31.9 240,-31.9 240,-29.3 245,-29.3 245,-29.7 250,-29.7 250,0\" style=\"fill:none; stroke:currentColor;\"/>\n",
       "</svg>\n",
       "</div>\n",
       "<div style=\"flex=grow:1;\">\n",
       "Regular(50, 1, 2, name='X', label='Y')<br/>\n",
       "<hr style=\"margin-top:.2em; margin-bottom:.2em;\"/>\n",
       "Double() Σ=9002.0 <em>(10000.0 with flow)</em>\n",
       "\n",
       "</div>\n",
       "</div>\n",
       "</html>"
      ],
      "text/plain": [
       "Hist(Regular(50, 1, 2, name='X', label='Y'), storage=Double()) # Sum: 9002.0 (10000.0 with flow)"
      ]
     },
     "execution_count": 2,
     "metadata": {},
     "output_type": "execute_result"
    }
   ],
   "source": [
    "Hist.new.Reg(50, 1, 2, name = \"X\", label = \"Y\").Double().fill(np.random.normal(1.5, 0.3, 10_000))"
   ]
  },
  {
   "cell_type": "code",
   "execution_count": 3,
   "id": "ee26b1fb-20e2-43dd-ac6a-7a4c48f062ed",
   "metadata": {},
   "outputs": [
    {
     "data": {
      "text/html": [
       "<html>\n",
       "<div style=\"display:flex; align-items:center;\">\n",
       "<div style=\"width:290px;\">\n",
       "<svg xmlns=\"http://www.w3.org/2000/svg\" viewBox=\"-10 -105 270 120\">\n",
       "<line x1=\"-5\" y1=\"0\" x2=\"255\" y2=\"0\" style=\"fill:none;stroke-width:2;stroke:currentColor\"/>\n",
       "<text text-anchor=\"middle\" x=\"0\" y=\"15\" style=\"fill:currentColor;\">\n",
       "-9\n",
       "</text>\n",
       "<text text-anchor=\"middle\" x=\"250\" y=\"15\" style=\"fill:currentColor;\">\n",
       "9\n",
       "</text>\n",
       "<text text-anchor=\"middle\" x=\"125.0\" y=\"15\" style=\"fill:currentColor;\">\n",
       "woah\n",
       "</text>\n",
       "<polyline points=\"  0,0   0,-75 13.8889,-75 13.8889,-100 27.7778,-100 27.7778,-25 41.6667,-25 41.6667,-50 55.5556,-50 55.5556,-62.5 69.4444,-62.5 69.4444,-62.5 83.3333,-62.5 83.3333,-12.5 97.2222,-12.5 97.2222,-75 111.111,-75 111.111,-50 125,-50 125,-25 138.889,-25 138.889,-50 152.778,-50 152.778,-37.5 166.667,-37.5 166.667,-12.5 180.556,-12.5 180.556,-12.5 194.444,-12.5 194.444,-12.5 208.333,-12.5 208.333,-0 222.222,-0 222.222,-12.5 236.111,-12.5 236.111,-0 250,-0 250,0\" style=\"fill:none; stroke:currentColor;\"/>\n",
       "</svg>\n",
       "</div>\n",
       "<div style=\"flex=grow:1;\">\n",
       "Integer(-9, 9, name='wohoo', label='woah')<br/>\n",
       "<hr style=\"margin-top:.2em; margin-bottom:.2em;\"/>\n",
       "Int64() Σ=54.0 <em>(108.0 with flow)</em>\n",
       "\n",
       "</div>\n",
       "</div>\n",
       "</html>"
      ],
      "text/plain": [
       "Hist(Integer(-9, 9, name='wohoo', label='woah'), storage=Int64()) # Sum: 54.0 (108.0 with flow)"
      ]
     },
     "execution_count": 3,
     "metadata": {},
     "output_type": "execute_result"
    }
   ],
   "source": [
    "Hist.new.Int(-9, 9, name = \"wohoo\", label = \"woah\").Int64().fill(np.random.normal(-9, 9, 108))"
   ]
  },
  {
   "cell_type": "code",
   "execution_count": 4,
   "id": "37709968-9f72-4aae-954e-0d464e8dac5b",
   "metadata": {},
   "outputs": [
    {
     "data": {
      "text/html": [
       "<html>\n",
       "<div style=\"display:flex; align-items:center;\">\n",
       "<div style=\"width:290px;\">\n",
       "<svg xmlns=\"http://www.w3.org/2000/svg\" viewBox=\"-10 -105 270 120\">\n",
       "<line x1=\"-5\" y1=\"0\" x2=\"255\" y2=\"0\" style=\"fill:none;stroke-width:2;stroke:currentColor\"/>\n",
       "<text text-anchor=\"middle\" x=\"0\" y=\"15\" style=\"fill:currentColor;\">\n",
       "0\n",
       "</text>\n",
       "<text text-anchor=\"middle\" x=\"250\" y=\"15\" style=\"fill:currentColor;\">\n",
       "10\n",
       "</text>\n",
       "<text text-anchor=\"middle\" x=\"125.0\" y=\"15\" style=\"fill:currentColor;\">\n",
       "F\n",
       "</text>\n",
       "<polyline points=\"  0,0   0,-100  25,-100  25,-36.4  50,-36.4  50,-27.3  75,-27.3  75,-36.4 100,-36.4 100,-45.5 125,-45.5 125,-45.5 150,-45.5 150,-18.2 175,-18.2 175,-9.09 200,-9.09 200,-36.4 225,-36.4 225,-27.3 250,-27.3 250,0\" style=\"fill:none; stroke:currentColor;\"/>\n",
       "</svg>\n",
       "</div>\n",
       "<div style=\"flex=grow:1;\">\n",
       "IntCategory([0, 1, 2, 3, 4, 5, 6, 7, 8, 9], name='E', label='F')<br/>\n",
       "<hr style=\"margin-top:.2em; margin-bottom:.2em;\"/>\n",
       "Int64() Σ=42.0 <em>(99.0 with flow)</em>\n",
       "\n",
       "</div>\n",
       "</div>\n",
       "</html>"
      ],
      "text/plain": [
       "Hist(IntCategory([0, 1, 2, 3, 4, 5, 6, 7, 8, 9], name='E', label='F'), storage=Int64()) # Sum: 42.0 (99.0 with flow)"
      ]
     },
     "execution_count": 4,
     "metadata": {},
     "output_type": "execute_result"
    }
   ],
   "source": [
    "h = Hist.new.IntCat(range(10), name=\"E\", label = \"F\").Int64().fill(np.random.normal(-2, 7, 99))\n",
    "h"
   ]
  },
  {
   "cell_type": "code",
   "execution_count": 5,
   "id": "09e70e4c-8f69-46b9-87f7-81b953e3eeb6",
   "metadata": {},
   "outputs": [],
   "source": [
    "h = Hist.new.Reg(10, -1, 1, name=\"x\").Double()\n",
    "html = h._repr_html_()\n",
    "assert html\n",
    "assert \"label='x'\" in repr(h) "
   ]
  },
  {
   "cell_type": "code",
   "execution_count": 6,
   "id": "fa7a461e-7a46-44de-8b60-886cd30635ff",
   "metadata": {},
   "outputs": [
    {
     "data": {
      "text/html": [
       "<html>\n",
       "<div style=\"display:flex; align-items:center;\">\n",
       "<div style=\"width:290px;\">\n",
       "<svg xmlns=\"http://www.w3.org/2000/svg\" viewBox=\"-10 -105 270 120\">\n",
       "<line x1=\"-5\" y1=\"0\" x2=\"255\" y2=\"0\" style=\"fill:none;stroke-width:2;stroke:currentColor\"/>\n",
       "<text text-anchor=\"middle\" x=\"0\" y=\"15\" style=\"fill:currentColor;\">\n",
       "0\n",
       "</text>\n",
       "<text text-anchor=\"middle\" x=\"250\" y=\"15\" style=\"fill:currentColor;\">\n",
       "4\n",
       "</text>\n",
       "<text text-anchor=\"middle\" x=\"125.0\" y=\"15\" style=\"fill:currentColor;\">\n",
       "good\n",
       "</text>\n",
       "<polyline points=\"  0,0   0,-100 62.5,-100 62.5,-0 125,-0 125,-100 187.5,-100 187.5,-0 250,-0 250,0\" style=\"fill:none; stroke:currentColor;\"/>\n",
       "</svg>\n",
       "</div>\n",
       "<div style=\"flex=grow:1;\">\n",
       "StrCategory(['T', 'F', 'P', 'Q'], name='test', label='good')<br/>\n",
       "<hr style=\"margin-top:.2em; margin-bottom:.2em;\"/>\n",
       "Int64() Σ=2.0\n",
       "\n",
       "</div>\n",
       "</div>\n",
       "</html>"
      ],
      "text/plain": [
       "Hist(StrCategory(['T', 'F', 'P', 'Q'], name='test', label='good'), storage=Int64()) # Sum: 2.0"
      ]
     },
     "execution_count": 6,
     "metadata": {},
     "output_type": "execute_result"
    }
   ],
   "source": [
    "Hist.new.StrCat([\"T\", \"F\", \"P\", \"Q\"], name=\"test\", label = \"good\").Int64().fill([\"T\", \"P\"])"
   ]
  },
  {
   "cell_type": "code",
   "execution_count": 7,
   "id": "06ea046a-fde7-44b5-befa-20b33992e0d3",
   "metadata": {},
   "outputs": [
    {
     "data": {
      "text/html": [
       "<html>\n",
       "<div style=\"display:flex; align-items:center;\">\n",
       "<div style=\"width:290px;\">\n",
       "<svg xmlns=\"http://www.w3.org/2000/svg\" viewBox=\"-10 -105 270 120\">\n",
       "<line x1=\"-5\" y1=\"0\" x2=\"255\" y2=\"0\" style=\"fill:none;stroke-width:2;stroke:currentColor\"/>\n",
       "<text text-anchor=\"middle\" x=\"0\" y=\"15\" style=\"fill:currentColor;\">\n",
       "0\n",
       "</text>\n",
       "<text text-anchor=\"middle\" x=\"250\" y=\"15\" style=\"fill:currentColor;\">\n",
       "9\n",
       "</text>\n",
       "<text text-anchor=\"middle\" x=\"125.0\" y=\"15\" style=\"fill:currentColor;\">\n",
       "bottom\n",
       "</text>\n",
       "<polyline points=\"  0,0   0,-0 27.7778,-0 27.7778,-100 55.5556,-100 55.5556,-0 83.3333,-0 83.3333,-0 111.111,-0 111.111,-0 138.889,-0 138.889,-100 166.667,-100 166.667,-0 194.444,-0 194.444,-0 222.222,-0 222.222,-0 250,-0 250,0\" style=\"fill:none; stroke:currentColor;\"/>\n",
       "</svg>\n",
       "</div>\n",
       "<div style=\"flex=grow:1;\">\n",
       "Variable([0, 1, 2, 3, 4, 5, 6, 7, 8, 9], name='top', label='bottom')<br/>\n",
       "<hr style=\"margin-top:.2em; margin-bottom:.2em;\"/>\n",
       "Int64() Σ=2.0\n",
       "\n",
       "</div>\n",
       "</div>\n",
       "</html>"
      ],
      "text/plain": [
       "Hist(Variable([0, 1, 2, 3, 4, 5, 6, 7, 8, 9], name='top', label='bottom'), storage=Int64()) # Sum: 2.0"
      ]
     },
     "execution_count": 7,
     "metadata": {},
     "output_type": "execute_result"
    }
   ],
   "source": [
    "Hist.new.Var(range(10), name=\"top\", label = \"bottom\").Int64().fill([1, 5])"
   ]
  },
  {
   "cell_type": "code",
   "execution_count": 8,
   "id": "f0f18952-3686-422e-b7f8-da6c6f63dcea",
   "metadata": {},
   "outputs": [
    {
     "data": {
      "text/plain": [
       "\"Hist(Variable([0, 1, 2, 3, 4, 5, 6, 7, 8, 9], name='x', label='y'), storage=Double())\""
      ]
     },
     "execution_count": 8,
     "metadata": {},
     "output_type": "execute_result"
    }
   ],
   "source": [
    "h = Hist.new.Var(range(10), name=\"x\", label =\"y\").Double()\n",
    "html = h._repr_html_()\n",
    "assert html\n",
    "assert \"name='x'\" in repr(h)\n",
    "assert \"label='y'\" in repr(h)\n",
    "repr(h)"
   ]
  },
  {
   "cell_type": "code",
   "execution_count": 9,
   "id": "5032db43-a087-4044-a722-e161b30d7718",
   "metadata": {},
   "outputs": [
    {
     "data": {
      "text/plain": [
       "<property at 0x7f940f147880>"
      ]
     },
     "execution_count": 9,
     "metadata": {},
     "output_type": "execute_result"
    }
   ],
   "source": [
    "from hist import axis\n",
    "\n",
    "assert axis.Regular(50, -3, 3, name=\"x0\")\n",
    "\n",
    "axis.Regular.label"
   ]
  }
 ],
 "metadata": {
  "kernelspec": {
   "display_name": "hist",
   "language": "python",
   "name": "hist"
  },
  "language_info": {
   "codemirror_mode": {
    "name": "ipython",
    "version": 3
   },
   "file_extension": ".py",
   "mimetype": "text/x-python",
   "name": "python",
   "nbconvert_exporter": "python",
   "pygments_lexer": "ipython3",
   "version": "3.10.2"
  }
 },
 "nbformat": 4,
 "nbformat_minor": 5
}
