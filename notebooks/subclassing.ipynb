{
 "cells": [
  {
   "cell_type": "code",
   "execution_count": 1,
   "id": "3ecbb904-9788-487b-9169-bfe66ceec39b",
   "metadata": {},
   "outputs": [],
   "source": [
    "import hist\n",
    "import os\n",
    "\n",
    "class Histogram(hist.Hist, family=os):\n",
    "    ...\n",
    "        \n",
    "class Regular(hist.axis.Regular, family=os):\n",
    "    ..."
   ]
  },
  {
   "cell_type": "code",
   "execution_count": 2,
   "id": "b04e9745-bb61-4ba0-a98c-9fafe64c4ab1",
   "metadata": {},
   "outputs": [],
   "source": [
    "class AxisMixin:\n",
    "    def __init_subclass__(cls, **kwargs):\n",
    "        super().__init_subclass__(**kwargs)  # type: ignore"
   ]
  },
  {
   "cell_type": "code",
   "execution_count": 3,
   "id": "f1ec36a7-864b-44f3-ad2e-6f02a7b7c9a3",
   "metadata": {},
   "outputs": [
    {
     "data": {
      "text/plain": [
       "<function hist.basehist.BaseHist._generate_axes_(self) -> 'NamedAxesTuple'>"
      ]
     },
     "execution_count": 3,
     "metadata": {},
     "output_type": "execute_result"
    }
   ],
   "source": [
    "Histogram._generate_axes_"
   ]
  },
  {
   "cell_type": "code",
   "execution_count": 4,
   "id": "a7252d49-b1c4-4782-ab1b-5611a6b56b13",
   "metadata": {},
   "outputs": [
    {
     "data": {
      "text/plain": [
       "<function boost_histogram._internal.hist.Histogram._import_bh_(self) -> None>"
      ]
     },
     "execution_count": 4,
     "metadata": {},
     "output_type": "execute_result"
    }
   ],
   "source": [
    "Histogram._import_bh_ "
   ]
  },
  {
   "cell_type": "code",
   "execution_count": 5,
   "id": "2ead017a-f4ed-4608-912c-f1edc618fa24",
   "metadata": {},
   "outputs": [
    {
     "data": {
      "text/plain": [
       "<bound method Histogram._export_bh_ of <class '__main__.Histogram'>>"
      ]
     },
     "execution_count": 5,
     "metadata": {},
     "output_type": "execute_result"
    }
   ],
   "source": [
    "Histogram._export_bh_"
   ]
  },
  {
   "cell_type": "code",
   "execution_count": 6,
   "id": "2ea8ae0a-9479-4aca-becd-d278a058845a",
   "metadata": {},
   "outputs": [],
   "source": [
    "Histogram._export_bh_(Histogram)"
   ]
  },
  {
   "cell_type": "code",
   "execution_count": 7,
   "id": "f6b71596-f8b9-4975-b9ff-c5406b1e1eeb",
   "metadata": {},
   "outputs": [],
   "source": [
    "Histogram._import_bh_(Histogram)"
   ]
  },
  {
   "cell_type": "code",
   "execution_count": 8,
   "id": "54e388bf-7a6e-44cf-9407-ec0578cad1ea",
   "metadata": {},
   "outputs": [],
   "source": [
    "# Histogram._repr_args_()"
   ]
  },
  {
   "cell_type": "markdown",
   "id": "9b5a671f-6abb-4497-9326-b135515c69b5",
   "metadata": {},
   "source": [
    "There are customization hooks provided for subclasses as well.\n",
    "``self._generate_axis_()`` is called to produce an ``AxesTuple``, so you can\n",
    "override that if you customize ``AxesTuple``. ``_import_bh_`` and\n",
    "``_export_bh_`` are called when converting an object between histogram\n",
    "libraries. ``cls._export_bh(self)`` is called from the outgoing class (being\n",
    "converted from), and ``self._import_bh_()`` is called afterward on the incoming\n",
    "class (being converted to). So if ``h1`` is an instance of ``H1``, and ``H2``\n",
    "is the new class, then ``H2(h1)`` calls ``H1._export_bh_(h2)`` and then\n",
    "``h2._import_bh()`` before returning ``h2``. The internal repr building for axes is\n",
    "a list produced by ``_repr_args_`` representing each item in the repr."
   ]
  },
  {
   "cell_type": "code",
   "execution_count": 9,
   "id": "64a31c0e-58b4-48d6-a8de-3afe417f2d89",
   "metadata": {},
   "outputs": [
    {
     "data": {
      "text/plain": [
       "['__add__',\n",
       " '__annotations__',\n",
       " '__array__',\n",
       " '__class__',\n",
       " '__copy__',\n",
       " '__deepcopy__',\n",
       " '__delattr__',\n",
       " '__dict__',\n",
       " '__dir__',\n",
       " '__div__',\n",
       " '__doc__',\n",
       " '__eq__',\n",
       " '__format__',\n",
       " '__ge__',\n",
       " '__getattribute__',\n",
       " '__getitem__',\n",
       " '__getstate__',\n",
       " '__gt__',\n",
       " '__hash__',\n",
       " '__iadd__',\n",
       " '__idiv__',\n",
       " '__imul__',\n",
       " '__init__',\n",
       " '__init_subclass__',\n",
       " '__isub__',\n",
       " '__itruediv__',\n",
       " '__le__',\n",
       " '__lt__',\n",
       " '__module__',\n",
       " '__mul__',\n",
       " '__ne__',\n",
       " '__new__',\n",
       " '__radd__',\n",
       " '__reduce__',\n",
       " '__reduce_ex__',\n",
       " '__repr__',\n",
       " '__rmul__',\n",
       " '__setattr__',\n",
       " '__setitem__',\n",
       " '__setstate__',\n",
       " '__sizeof__',\n",
       " '__slots__',\n",
       " '__str__',\n",
       " '__sub__',\n",
       " '__subclasshook__',\n",
       " '__truediv__',\n",
       " '__weakref__',\n",
       " '_axis',\n",
       " '_compute_commonindex',\n",
       " '_compute_inplace_op',\n",
       " '_compute_uhi_index',\n",
       " '_export_bh_',\n",
       " '_family',\n",
       " '_from_histogram_object',\n",
       " '_generate_axes_',\n",
       " '_hist',\n",
       " '_import_bh_',\n",
       " '_index_transform',\n",
       " '_loc_shortcut',\n",
       " '_name_to_index',\n",
       " '_new_hist',\n",
       " '_reduce',\n",
       " '_repr_html_',\n",
       " '_step_shortcut',\n",
       " '_storage_type',\n",
       " '_types',\n",
       " 'axes',\n",
       " 'copy',\n",
       " 'counts',\n",
       " 'density',\n",
       " 'empty',\n",
       " 'fill',\n",
       " 'from_columns',\n",
       " 'kind',\n",
       " 'ndim',\n",
       " 'plot',\n",
       " 'plot1d',\n",
       " 'plot2d',\n",
       " 'plot2d_full',\n",
       " 'plot_pie',\n",
       " 'plot_pull',\n",
       " 'plot_ratio',\n",
       " 'profile',\n",
       " 'project',\n",
       " 'reset',\n",
       " 'shape',\n",
       " 'show',\n",
       " 'size',\n",
       " 'sort',\n",
       " 'stack',\n",
       " 'sum',\n",
       " 'to_numpy',\n",
       " 'values',\n",
       " 'variances',\n",
       " 'view']"
      ]
     },
     "execution_count": 9,
     "metadata": {},
     "output_type": "execute_result"
    }
   ],
   "source": [
    "dir(Histogram)"
   ]
  },
  {
   "cell_type": "code",
   "execution_count": 10,
   "id": "56fcc64b-49a3-4099-ad96-69e956ebaa48",
   "metadata": {},
   "outputs": [],
   "source": [
    "import boost_histogram as bh\n",
    "import os\n",
    "\n",
    "class Histogram2(bh.Histogram, family=os):\n",
    "    ...\n",
    "\n",
    "class Regular2(bh.axis.Regular, family=os):\n",
    "    ..."
   ]
  },
  {
   "cell_type": "code",
   "execution_count": 11,
   "id": "335b8868-872e-40a4-894e-8bbab3cd5560",
   "metadata": {},
   "outputs": [
    {
     "data": {
      "text/plain": [
       "['__add__',\n",
       " '__annotations__',\n",
       " '__array__',\n",
       " '__class__',\n",
       " '__copy__',\n",
       " '__deepcopy__',\n",
       " '__delattr__',\n",
       " '__dict__',\n",
       " '__dir__',\n",
       " '__div__',\n",
       " '__doc__',\n",
       " '__eq__',\n",
       " '__format__',\n",
       " '__ge__',\n",
       " '__getattribute__',\n",
       " '__getitem__',\n",
       " '__getstate__',\n",
       " '__gt__',\n",
       " '__hash__',\n",
       " '__iadd__',\n",
       " '__idiv__',\n",
       " '__imul__',\n",
       " '__init__',\n",
       " '__init_subclass__',\n",
       " '__isub__',\n",
       " '__itruediv__',\n",
       " '__le__',\n",
       " '__lt__',\n",
       " '__module__',\n",
       " '__mul__',\n",
       " '__ne__',\n",
       " '__new__',\n",
       " '__radd__',\n",
       " '__reduce__',\n",
       " '__reduce_ex__',\n",
       " '__repr__',\n",
       " '__rmul__',\n",
       " '__setattr__',\n",
       " '__setitem__',\n",
       " '__setstate__',\n",
       " '__sizeof__',\n",
       " '__slots__',\n",
       " '__str__',\n",
       " '__sub__',\n",
       " '__subclasshook__',\n",
       " '__truediv__',\n",
       " '__weakref__',\n",
       " '_axis',\n",
       " '_compute_commonindex',\n",
       " '_compute_inplace_op',\n",
       " '_compute_uhi_index',\n",
       " '_export_bh_',\n",
       " '_family',\n",
       " '_from_histogram_object',\n",
       " '_generate_axes_',\n",
       " '_hist',\n",
       " '_import_bh_',\n",
       " '_new_hist',\n",
       " '_reduce',\n",
       " '_storage_type',\n",
       " '_types',\n",
       " 'axes',\n",
       " 'copy',\n",
       " 'counts',\n",
       " 'empty',\n",
       " 'fill',\n",
       " 'kind',\n",
       " 'ndim',\n",
       " 'project',\n",
       " 'reset',\n",
       " 'shape',\n",
       " 'size',\n",
       " 'sum',\n",
       " 'to_numpy',\n",
       " 'values',\n",
       " 'variances',\n",
       " 'view']"
      ]
     },
     "execution_count": 11,
     "metadata": {},
     "output_type": "execute_result"
    }
   ],
   "source": [
    "dir(Histogram2)"
   ]
  }
 ],
 "metadata": {
  "kernelspec": {
   "display_name": "hist",
   "language": "python",
   "name": "hist"
  },
  "language_info": {
   "codemirror_mode": {
    "name": "ipython",
    "version": 3
   },
   "file_extension": ".py",
   "mimetype": "text/x-python",
   "name": "python",
   "nbconvert_exporter": "python",
   "pygments_lexer": "ipython3",
   "version": "3.10.2"
  }
 },
 "nbformat": 4,
 "nbformat_minor": 5
}
