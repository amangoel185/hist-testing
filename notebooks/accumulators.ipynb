{
 "cells": [
  {
   "cell_type": "code",
   "execution_count": 1,
   "id": "24a05a93-95c8-44a0-b014-44af0e707b24",
   "metadata": {},
   "outputs": [
    {
     "name": "stdout",
     "output_type": "stream",
     "text": [
      "sum(values) = 0.0 (simple)\n",
      "math.fsum(values) = 2.0\n",
      "np.sum(values) = 0.0 (pairwise)\n",
      "bh.accumulators.Sum().fill(values) = Sum(0 + 2)\n"
     ]
    }
   ],
   "source": [
    "import math\n",
    "import numpy as np\n",
    "import boost_histogram as bh\n",
    "\n",
    "values = [1.0, 1e100, 1.0, -1e100]\n",
    "print(f\"{sum(values) = } (simple)\")\n",
    "print(f\"{math.fsum(values) = }\")\n",
    "print(f\"{np.sum(values) = } (pairwise)\")\n",
    "print(f\"{bh.accumulators.Sum().fill(values) = }\")"
   ]
  },
  {
   "cell_type": "code",
   "execution_count": 2,
   "id": "95c2edf8-2cb4-428e-8718-a66481041f07",
   "metadata": {},
   "outputs": [
    {
     "name": "stdout",
     "output_type": "stream",
     "text": [
      "sum(values) = 0.0 (simple)\n",
      "math.fsum(values) = 2.0\n",
      "np.sum(values) = 0.0 (pairwise)\n",
      "hist.accumulators.Sum().fill(values) = Sum(0 + 2)\n"
     ]
    }
   ],
   "source": [
    "import math\n",
    "import numpy as np\n",
    "import hist\n",
    "\n",
    "values = [1.0, 1e100, 1.0, -1e100]\n",
    "print(f\"{sum(values) = } (simple)\")\n",
    "print(f\"{math.fsum(values) = }\")\n",
    "print(f\"{np.sum(values) = } (pairwise)\")\n",
    "print(f\"{hist.accumulators.Sum().fill(values) = }\")"
   ]
  },
  {
   "cell_type": "code",
   "execution_count": 3,
   "id": "ed996448-16b9-4719-bcd3-bbed2d37e56b",
   "metadata": {},
   "outputs": [
    {
     "name": "stdout",
     "output_type": "stream",
     "text": [
      "math.fsum(values) = 2.0\n",
      "bh.accumulators.Sum().fill(values) = Sum(0 + 0)\n"
     ]
    }
   ],
   "source": [
    "values = [1., 1e100, 1e50, 1., -1e50, -1e100]\n",
    "print(f\"{math.fsum(values) = }\")\n",
    "print(f\"{bh.accumulators.Sum().fill(values) = }\")"
   ]
  },
  {
   "cell_type": "code",
   "execution_count": 4,
   "id": "20ffdbaf-e1b6-4c9a-b7b2-affb9990a199",
   "metadata": {},
   "outputs": [
    {
     "name": "stdout",
     "output_type": "stream",
     "text": [
      "math.fsum(values) = 2.0\n",
      "hist.accumulators.Sum().fill(values) = Sum(0 + 0)\n"
     ]
    }
   ],
   "source": [
    "values = [1., 1e100, 1e50, 1., -1e50, -1e100]\n",
    "print(f\"{math.fsum(values) = }\")\n",
    "print(f\"{hist.accumulators.Sum().fill(values) = }\")"
   ]
  },
  {
   "cell_type": "code",
   "execution_count": 5,
   "id": "7855d5cb-05df-4a25-bf45-6c02d1cb9d6c",
   "metadata": {},
   "outputs": [
    {
     "name": "stdout",
     "output_type": "stream",
     "text": [
      "smooth = WeightedSum(value=100, variance=1000)\n",
      "rough =  WeightedSum(value=100, variance=8290)\n"
     ]
    }
   ],
   "source": [
    "import boost_histogram as bh\n",
    "\n",
    "values = [10]*10\n",
    "smooth = bh.accumulators.WeightedSum().fill(values)\n",
    "print(f\"{smooth = }\")\n",
    "\n",
    "values = [1]*9 + [91]\n",
    "rough = bh.accumulators.WeightedSum().fill(values)\n",
    "print(f\"{rough =  }\")"
   ]
  },
  {
   "cell_type": "code",
   "execution_count": 6,
   "id": "94f2713f-696f-4178-aa75-3e3d94eea355",
   "metadata": {},
   "outputs": [
    {
     "name": "stdout",
     "output_type": "stream",
     "text": [
      "smooth = WeightedSum(value=100, variance=1000)\n",
      "rough =  WeightedSum(value=100, variance=8290)\n"
     ]
    }
   ],
   "source": [
    "import hist\n",
    "\n",
    "values = [10]*10\n",
    "smooth = hist.accumulators.WeightedSum().fill(values)\n",
    "print(f\"{smooth = }\")\n",
    "\n",
    "values = [1]*9 + [91]\n",
    "rough = hist.accumulators.WeightedSum().fill(values)\n",
    "print(f\"{rough =  }\")"
   ]
  },
  {
   "cell_type": "code",
   "execution_count": 7,
   "id": "17391835-ce48-4644-9bac-a49249936adc",
   "metadata": {},
   "outputs": [
    {
     "name": "stdout",
     "output_type": "stream",
     "text": [
      "smooth = Mean(count=10, value=10, variance=0)\n",
      "rough =  Mean(count=10, value=10, variance=810)\n"
     ]
    }
   ],
   "source": [
    "import boost_histogram as bh\n",
    "\n",
    "values = [10]*10\n",
    "smooth = bh.accumulators.Mean().fill(values)\n",
    "print(f\"{smooth = }\")\n",
    "\n",
    "values = [1]*9 + [91]\n",
    "rough = bh.accumulators.Mean().fill(values)\n",
    "print(f\"{rough =  }\")"
   ]
  },
  {
   "cell_type": "code",
   "execution_count": 8,
   "id": "3105da6c-055c-43c7-8af4-478f679a3451",
   "metadata": {},
   "outputs": [
    {
     "name": "stdout",
     "output_type": "stream",
     "text": [
      "smooth = Mean(count=10, value=10, variance=0)\n",
      "rough =  Mean(count=10, value=10, variance=810)\n"
     ]
    }
   ],
   "source": [
    "import hist\n",
    "\n",
    "values = [10]*10\n",
    "smooth = hist.accumulators.Mean().fill(values)\n",
    "print(f\"{smooth = }\")\n",
    "\n",
    "values = [1]*9 + [91]\n",
    "rough = hist.accumulators.Mean().fill(values)\n",
    "print(f\"{rough =  }\")"
   ]
  },
  {
   "cell_type": "code",
   "execution_count": 9,
   "id": "a402205c-91f0-439b-9e19-88aba03fd40f",
   "metadata": {},
   "outputs": [
    {
     "name": "stdout",
     "output_type": "stream",
     "text": [
      "wm = WeightedMean(sum_of_weights=20, sum_of_weights_squared=40, value=10, variance=810)\n"
     ]
    }
   ],
   "source": [
    "import boost_histogram as bh\n",
    "\n",
    "values = [1]*9 + [91]\n",
    "wm = bh.accumulators.WeightedMean().fill(values, weight=2)\n",
    "print(f\"{wm = }\")"
   ]
  },
  {
   "cell_type": "code",
   "execution_count": 10,
   "id": "3db0190e-06f1-4794-b066-61ba847a46d8",
   "metadata": {},
   "outputs": [
    {
     "name": "stdout",
     "output_type": "stream",
     "text": [
      "wm = WeightedMean(sum_of_weights=20, sum_of_weights_squared=40, value=10, variance=810)\n"
     ]
    }
   ],
   "source": [
    "import hist\n",
    "\n",
    "values = [1]*9 + [91]\n",
    "wm = hist.accumulators.WeightedMean().fill(values, weight=2)\n",
    "print(f\"{wm = }\")"
   ]
  }
 ],
 "metadata": {
  "kernelspec": {
   "display_name": "Python 3.9.5 64-bit ('hist': virtualenvwrapper)",
   "language": "python",
   "name": "python395jvsc74a57bd041098d0804160d5b7135365756022a9b8fe2c90b0ad32ef001667051bf16e688"
  },
  "language_info": {
   "codemirror_mode": {
    "name": "ipython",
    "version": 3
   },
   "file_extension": ".py",
   "mimetype": "text/x-python",
   "name": "python",
   "nbconvert_exporter": "python",
   "pygments_lexer": "ipython3",
   "version": "3.9.6"
  }
 },
 "nbformat": 4,
 "nbformat_minor": 5
}
