{
 "cells": [
  {
   "cell_type": "code",
   "execution_count": 1,
   "id": "6e7b41c3-622b-4ac3-92a2-f4e675c961a9",
   "metadata": {},
   "outputs": [],
   "source": [
    "import boost_histogram as bh\n",
    "import numpy as np"
   ]
  },
  {
   "cell_type": "code",
   "execution_count": 2,
   "id": "09374b00-b4a1-45ff-bc7b-d89633153307",
   "metadata": {},
   "outputs": [],
   "source": [
    "vals = np.random.normal(size=(2, 1_000_000))"
   ]
  },
  {
   "cell_type": "code",
   "execution_count": 3,
   "id": "ea3cd384-313c-42e2-9d67-1d36b4ea6d5d",
   "metadata": {},
   "outputs": [
    {
     "data": {
      "text/plain": [
       "Histogram(\n",
       "  Regular(10, 0, 10, transform=sqrt, metadata='x'),\n",
       "  Regular(10, 0, 1, circular=True, metadata='y'),\n",
       "  storage=Int64()) # Sum: 500196.0 (1000000.0 with flow)"
      ]
     },
     "execution_count": 3,
     "metadata": {},
     "output_type": "execute_result"
    }
   ],
   "source": [
    "hist = bh.Histogram(\n",
    "    bh.axis.Regular(10, 0, 10, metadata=\"x\", transform=bh.axis.transform.sqrt),\n",
    "    bh.axis.Regular(10, 0, 1, circular=True, metadata=\"y\"),\n",
    "    storage=bh.storage.Int64(),\n",
    ")\n",
    "\n",
    "hist.fill(*vals)"
   ]
  },
  {
   "cell_type": "code",
   "execution_count": 4,
   "id": "bbbbbb79-fc38-4269-8208-336ce9a1b032",
   "metadata": {},
   "outputs": [
    {
     "name": "stdout",
     "output_type": "stream",
     "text": [
      "[[ 3911  4030  3956  4038  4019  3942  4072  3998  3982  4005]\n",
      " [11524 11486 11388 11512 11651 11667 11482 11555 11357 11537]\n",
      " [16077 16309 16138 16222 16124 15785 16298 16015 16061 16134]\n",
      " [12922 12885 12865 12690 12911 12986 12812 12929 13249 12941]\n",
      " [ 4964  4798  4871  4779  4827  4760  4946  4883  4809  4796]\n",
      " [  618   624   638   626   611   599   615   613   612   582]\n",
      " [   21    20    17    18    17    11    15    13    13    15]\n",
      " [    0     0     0     0     0     0     0     0     0     0]\n",
      " [    0     0     0     0     0     0     0     0     0     0]\n",
      " [    0     0     0     0     0     0     0     0     0     0]]\n"
     ]
    }
   ],
   "source": [
    "print(hist.view())"
   ]
  },
  {
   "cell_type": "code",
   "execution_count": 5,
   "id": "8a6cb691-aa38-4157-9686-7278c3518513",
   "metadata": {},
   "outputs": [
    {
     "data": {
      "text/plain": [
       "array([[ 3911,  4030,  3956,  4038,  4019,  3942,  4072,  3998,  3982,\n",
       "         4005],\n",
       "       [11524, 11486, 11388, 11512, 11651, 11667, 11482, 11555, 11357,\n",
       "        11537],\n",
       "       [16077, 16309, 16138, 16222, 16124, 15785, 16298, 16015, 16061,\n",
       "        16134],\n",
       "       [12922, 12885, 12865, 12690, 12911, 12986, 12812, 12929, 13249,\n",
       "        12941],\n",
       "       [ 4964,  4798,  4871,  4779,  4827,  4760,  4946,  4883,  4809,\n",
       "         4796],\n",
       "       [  618,   624,   638,   626,   611,   599,   615,   613,   612,\n",
       "          582],\n",
       "       [   21,    20,    17,    18,    17,    11,    15,    13,    13,\n",
       "           15],\n",
       "       [    0,     0,     0,     0,     0,     0,     0,     0,     0,\n",
       "            0],\n",
       "       [    0,     0,     0,     0,     0,     0,     0,     0,     0,\n",
       "            0],\n",
       "       [    0,     0,     0,     0,     0,     0,     0,     0,     0,\n",
       "            0]], dtype=int64)"
      ]
     },
     "execution_count": 5,
     "metadata": {},
     "output_type": "execute_result"
    }
   ],
   "source": [
    "hist.view()"
   ]
  },
  {
   "cell_type": "code",
   "execution_count": 6,
   "id": "79cd4956-b952-4a4b-b0b3-1eb4312adabd",
   "metadata": {},
   "outputs": [
    {
     "data": {
      "text/html": [
       "<html>\n",
       "<div style=\"display:flex; align-items:center;\">\n",
       "<div style=\"width:290px;\">\n",
       "<svg xmlns=\"http://www.w3.org/2000/svg\" viewBox=\"-20 -270 290 290\">\n",
       "<text text-anchor=\"middle\" x=\"0\" y=\"13\" style=\"fill:currentColor;\">\n",
       "0\n",
       "</text>\n",
       "<text text-anchor=\"middle\" x=\"250\" y=\"13\" style=\"fill:currentColor;\">\n",
       "10\n",
       "</text>\n",
       "<text text-anchor=\"middle\" x=\"-10\" y=\"0\" style=\"fill:currentColor;\">\n",
       "0\n",
       "</text>\n",
       "<text text-anchor=\"middle\" x=\"-10\" y=\"-250\" style=\"fill:currentColor;\">\n",
       "1\n",
       "</text>\n",
       "<text text-anchor=\"middle\" x=\"125.0\" y=\"13\" style=\"fill:currentColor;\">\n",
       "Axis 0\n",
       "</text>\n",
       "<text text-anchor=\"middle\" x=\"-10\" y=\"-125.0\" transform=\"rotate(-90,-10,-125.0)\" style=\"fill:currentColor;\">\n",
       "Axis 1\n",
       "</text>\n",
       "<rect x=\"0.0\" y=\"-25.0\" width=\"2.5\" height=\"25.0\" opacity=\"0.9604616895874262\" fill=\"currentColor\" stroke-width=\"0.1\"/>\n",
       "<rect x=\"2.5000000000000004\" y=\"-25.0\" width=\"7.5\" height=\"25.0\" opacity=\"0.9433529796987555\" fill=\"currentColor\" stroke-width=\"0.1\"/>\n",
       "<rect x=\"10.000000000000002\" y=\"-25.0\" width=\"12.5\" height=\"25.0\" opacity=\"0.789636542239686\" fill=\"currentColor\" stroke-width=\"0.1\"/>\n",
       "<rect x=\"22.499999999999993\" y=\"-25.0\" width=\"17.5\" height=\"25.0\" opacity=\"0.4533398821218072\" fill=\"currentColor\" stroke-width=\"0.1\"/>\n",
       "<rect x=\"40.00000000000001\" y=\"-25.0\" width=\"22.5\" height=\"25.0\" opacity=\"0.13545077493996946\" fill=\"currentColor\" stroke-width=\"0.1\"/>\n",
       "<rect x=\"62.5\" y=\"-25.0\" width=\"27.5\" height=\"25.0\" opacity=\"0.013797106626183258\" fill=\"currentColor\" stroke-width=\"0.1\"/>\n",
       "<rect x=\"89.99999999999997\" y=\"-25.0\" width=\"32.5\" height=\"25.0\" opacity=\"0.00039670545564455173\" fill=\"currentColor\" stroke-width=\"0.1\"/>\n",
       "<rect x=\"122.49999999999999\" y=\"-25.0\" width=\"37.5\" height=\"25.0\" opacity=\"0.0\" fill=\"currentColor\" stroke-width=\"0.1\"/>\n",
       "<rect x=\"160.00000000000003\" y=\"-25.0\" width=\"42.5\" height=\"25.0\" opacity=\"0.0\" fill=\"currentColor\" stroke-width=\"0.1\"/>\n",
       "<rect x=\"202.5\" y=\"-25.0\" width=\"47.5\" height=\"25.0\" opacity=\"0.0\" fill=\"currentColor\" stroke-width=\"0.1\"/>\n",
       "<rect x=\"0.0\" y=\"-50.0\" width=\"2.5\" height=\"25.0\" opacity=\"0.9896856581532415\" fill=\"currentColor\" stroke-width=\"0.1\"/>\n",
       "<rect x=\"2.5000000000000004\" y=\"-50.0\" width=\"7.5\" height=\"25.0\" opacity=\"0.9402423051735427\" fill=\"currentColor\" stroke-width=\"0.1\"/>\n",
       "<rect x=\"10.000000000000002\" y=\"-50.0\" width=\"12.5\" height=\"25.0\" opacity=\"0.8010314341846763\" fill=\"currentColor\" stroke-width=\"0.1\"/>\n",
       "<rect x=\"22.499999999999993\" y=\"-50.0\" width=\"17.5\" height=\"25.0\" opacity=\"0.45204181869211313\" fill=\"currentColor\" stroke-width=\"0.1\"/>\n",
       "<rect x=\"40.00000000000001\" y=\"-50.0\" width=\"22.5\" height=\"25.0\" opacity=\"0.1309211962453613\" fill=\"currentColor\" stroke-width=\"0.1\"/>\n",
       "<rect x=\"62.5\" y=\"-50.0\" width=\"27.5\" height=\"25.0\" opacity=\"0.0139310591176996\" fill=\"currentColor\" stroke-width=\"0.1\"/>\n",
       "<rect x=\"89.99999999999997\" y=\"-50.0\" width=\"32.5\" height=\"25.0\" opacity=\"0.00037781471966147784\" fill=\"currentColor\" stroke-width=\"0.1\"/>\n",
       "<rect x=\"122.49999999999999\" y=\"-50.0\" width=\"37.5\" height=\"25.0\" opacity=\"0.0\" fill=\"currentColor\" stroke-width=\"0.1\"/>\n",
       "<rect x=\"160.00000000000003\" y=\"-50.0\" width=\"42.5\" height=\"25.0\" opacity=\"0.0\" fill=\"currentColor\" stroke-width=\"0.1\"/>\n",
       "<rect x=\"202.5\" y=\"-50.0\" width=\"47.5\" height=\"25.0\" opacity=\"0.0\" fill=\"currentColor\" stroke-width=\"0.1\"/>\n",
       "<rect x=\"0.0\" y=\"-75.0\" width=\"2.5\" height=\"25.0\" opacity=\"0.9715127701375247\" fill=\"currentColor\" stroke-width=\"0.1\"/>\n",
       "<rect x=\"2.5000000000000004\" y=\"-75.0\" width=\"7.5\" height=\"25.0\" opacity=\"0.932220039292731\" fill=\"currentColor\" stroke-width=\"0.1\"/>\n",
       "<rect x=\"10.000000000000002\" y=\"-75.0\" width=\"12.5\" height=\"25.0\" opacity=\"0.7926326129666018\" fill=\"currentColor\" stroke-width=\"0.1\"/>\n",
       "<rect x=\"22.499999999999993\" y=\"-75.0\" width=\"17.5\" height=\"25.0\" opacity=\"0.4513401627841705\" fill=\"currentColor\" stroke-width=\"0.1\"/>\n",
       "<rect x=\"40.00000000000001\" y=\"-75.0\" width=\"22.5\" height=\"25.0\" opacity=\"0.13291311940624326\" fill=\"currentColor\" stroke-width=\"0.1\"/>\n",
       "<rect x=\"62.5\" y=\"-75.0\" width=\"27.5\" height=\"25.0\" opacity=\"0.014243614931237738\" fill=\"currentColor\" stroke-width=\"0.1\"/>\n",
       "<rect x=\"89.99999999999997\" y=\"-75.0\" width=\"32.5\" height=\"25.0\" opacity=\"0.0003211425117122563\" fill=\"currentColor\" stroke-width=\"0.1\"/>\n",
       "<rect x=\"122.49999999999999\" y=\"-75.0\" width=\"37.5\" height=\"25.0\" opacity=\"0.0\" fill=\"currentColor\" stroke-width=\"0.1\"/>\n",
       "<rect x=\"160.00000000000003\" y=\"-75.0\" width=\"42.5\" height=\"25.0\" opacity=\"0.0\" fill=\"currentColor\" stroke-width=\"0.1\"/>\n",
       "<rect x=\"202.5\" y=\"-75.0\" width=\"47.5\" height=\"25.0\" opacity=\"0.0\" fill=\"currentColor\" stroke-width=\"0.1\"/>\n",
       "<rect x=\"0.0\" y=\"-100.0\" width=\"2.5\" height=\"25.0\" opacity=\"0.9916502946954809\" fill=\"currentColor\" stroke-width=\"0.1\"/>\n",
       "<rect x=\"2.5000000000000004\" y=\"-100.0\" width=\"7.5\" height=\"25.0\" opacity=\"0.9423706614276355\" fill=\"currentColor\" stroke-width=\"0.1\"/>\n",
       "<rect x=\"10.000000000000002\" y=\"-100.0\" width=\"12.5\" height=\"25.0\" opacity=\"0.7967583497053047\" fill=\"currentColor\" stroke-width=\"0.1\"/>\n",
       "<rect x=\"22.499999999999993\" y=\"-100.0\" width=\"17.5\" height=\"25.0\" opacity=\"0.44520067358967114\" fill=\"currentColor\" stroke-width=\"0.1\"/>\n",
       "<rect x=\"40.00000000000001\" y=\"-100.0\" width=\"22.5\" height=\"25.0\" opacity=\"0.13040275049115913\" fill=\"currentColor\" stroke-width=\"0.1\"/>\n",
       "<rect x=\"62.5\" y=\"-100.0\" width=\"27.5\" height=\"25.0\" opacity=\"0.013975709948205047\" fill=\"currentColor\" stroke-width=\"0.1\"/>\n",
       "<rect x=\"89.99999999999997\" y=\"-100.0\" width=\"32.5\" height=\"25.0\" opacity=\"0.00034003324769532996\" fill=\"currentColor\" stroke-width=\"0.1\"/>\n",
       "<rect x=\"122.49999999999999\" y=\"-100.0\" width=\"37.5\" height=\"25.0\" opacity=\"0.0\" fill=\"currentColor\" stroke-width=\"0.1\"/>\n",
       "<rect x=\"160.00000000000003\" y=\"-100.0\" width=\"42.5\" height=\"25.0\" opacity=\"0.0\" fill=\"currentColor\" stroke-width=\"0.1\"/>\n",
       "<rect x=\"202.5\" y=\"-100.0\" width=\"47.5\" height=\"25.0\" opacity=\"0.0\" fill=\"currentColor\" stroke-width=\"0.1\"/>\n",
       "<rect x=\"0.0\" y=\"-125.0\" width=\"2.5\" height=\"25.0\" opacity=\"0.9869842829076622\" fill=\"currentColor\" stroke-width=\"0.1\"/>\n",
       "<rect x=\"2.5000000000000004\" y=\"-125.0\" width=\"7.5\" height=\"25.0\" opacity=\"0.9537491814014409\" fill=\"currentColor\" stroke-width=\"0.1\"/>\n",
       "<rect x=\"10.000000000000002\" y=\"-125.0\" width=\"12.5\" height=\"25.0\" opacity=\"0.791944990176818\" fill=\"currentColor\" stroke-width=\"0.1\"/>\n",
       "<rect x=\"22.499999999999993\" y=\"-125.0\" width=\"17.5\" height=\"25.0\" opacity=\"0.45295397137243876\" fill=\"currentColor\" stroke-width=\"0.1\"/>\n",
       "<rect x=\"40.00000000000001\" y=\"-125.0\" width=\"22.5\" height=\"25.0\" opacity=\"0.13171250818598565\" fill=\"currentColor\" stroke-width=\"0.1\"/>\n",
       "<rect x=\"62.5\" y=\"-125.0\" width=\"27.5\" height=\"25.0\" opacity=\"0.013640828719414199\" fill=\"currentColor\" stroke-width=\"0.1\"/>\n",
       "<rect x=\"89.99999999999997\" y=\"-125.0\" width=\"32.5\" height=\"25.0\" opacity=\"0.0003211425117122563\" fill=\"currentColor\" stroke-width=\"0.1\"/>\n",
       "<rect x=\"122.49999999999999\" y=\"-125.0\" width=\"37.5\" height=\"25.0\" opacity=\"0.0\" fill=\"currentColor\" stroke-width=\"0.1\"/>\n",
       "<rect x=\"160.00000000000003\" y=\"-125.0\" width=\"42.5\" height=\"25.0\" opacity=\"0.0\" fill=\"currentColor\" stroke-width=\"0.1\"/>\n",
       "<rect x=\"202.5\" y=\"-125.0\" width=\"47.5\" height=\"25.0\" opacity=\"0.0\" fill=\"currentColor\" stroke-width=\"0.1\"/>\n",
       "<rect x=\"0.0\" y=\"-150.0\" width=\"2.5\" height=\"25.0\" opacity=\"0.9680746561886051\" fill=\"currentColor\" stroke-width=\"0.1\"/>\n",
       "<rect x=\"2.5000000000000004\" y=\"-150.0\" width=\"7.5\" height=\"25.0\" opacity=\"0.9550589390962673\" fill=\"currentColor\" stroke-width=\"0.1\"/>\n",
       "<rect x=\"10.000000000000002\" y=\"-150.0\" width=\"12.5\" height=\"25.0\" opacity=\"0.7752946954813367\" fill=\"currentColor\" stroke-width=\"0.1\"/>\n",
       "<rect x=\"22.499999999999993\" y=\"-150.0\" width=\"17.5\" height=\"25.0\" opacity=\"0.455585181027224\" fill=\"currentColor\" stroke-width=\"0.1\"/>\n",
       "<rect x=\"40.00000000000001\" y=\"-150.0\" width=\"22.5\" height=\"25.0\" opacity=\"0.12988430473695708\" fill=\"currentColor\" stroke-width=\"0.1\"/>\n",
       "<rect x=\"62.5\" y=\"-150.0\" width=\"27.5\" height=\"25.0\" opacity=\"0.013372923736381511\" fill=\"currentColor\" stroke-width=\"0.1\"/>\n",
       "<rect x=\"89.99999999999997\" y=\"-150.0\" width=\"32.5\" height=\"25.0\" opacity=\"0.0002077980958138129\" fill=\"currentColor\" stroke-width=\"0.1\"/>\n",
       "<rect x=\"122.49999999999999\" y=\"-150.0\" width=\"37.5\" height=\"25.0\" opacity=\"0.0\" fill=\"currentColor\" stroke-width=\"0.1\"/>\n",
       "<rect x=\"160.00000000000003\" y=\"-150.0\" width=\"42.5\" height=\"25.0\" opacity=\"0.0\" fill=\"currentColor\" stroke-width=\"0.1\"/>\n",
       "<rect x=\"202.5\" y=\"-150.0\" width=\"47.5\" height=\"25.0\" opacity=\"0.0\" fill=\"currentColor\" stroke-width=\"0.1\"/>\n",
       "<rect x=\"0.0\" y=\"-175.0\" width=\"2.5\" height=\"25.0\" opacity=\"1.0\" fill=\"currentColor\" stroke-width=\"0.1\"/>\n",
       "<rect x=\"2.5000000000000004\" y=\"-175.0\" width=\"7.5\" height=\"25.0\" opacity=\"0.9399148657498364\" fill=\"currentColor\" stroke-width=\"0.1\"/>\n",
       "<rect x=\"10.000000000000002\" y=\"-175.0\" width=\"12.5\" height=\"25.0\" opacity=\"0.8004911591355607\" fill=\"currentColor\" stroke-width=\"0.1\"/>\n",
       "<rect x=\"22.499999999999993\" y=\"-175.0\" width=\"17.5\" height=\"25.0\" opacity=\"0.4494807746281222\" fill=\"currentColor\" stroke-width=\"0.1\"/>\n",
       "<rect x=\"40.00000000000001\" y=\"-175.0\" width=\"22.5\" height=\"25.0\" opacity=\"0.1349596158044096\" fill=\"currentColor\" stroke-width=\"0.1\"/>\n",
       "<rect x=\"62.5\" y=\"-175.0\" width=\"27.5\" height=\"25.0\" opacity=\"0.013730130380425093\" fill=\"currentColor\" stroke-width=\"0.1\"/>\n",
       "<rect x=\"89.99999999999997\" y=\"-175.0\" width=\"32.5\" height=\"25.0\" opacity=\"0.00028336103974610846\" fill=\"currentColor\" stroke-width=\"0.1\"/>\n",
       "<rect x=\"122.49999999999999\" y=\"-175.0\" width=\"37.5\" height=\"25.0\" opacity=\"0.0\" fill=\"currentColor\" stroke-width=\"0.1\"/>\n",
       "<rect x=\"160.00000000000003\" y=\"-175.0\" width=\"42.5\" height=\"25.0\" opacity=\"0.0\" fill=\"currentColor\" stroke-width=\"0.1\"/>\n",
       "<rect x=\"202.5\" y=\"-175.0\" width=\"47.5\" height=\"25.0\" opacity=\"0.0\" fill=\"currentColor\" stroke-width=\"0.1\"/>\n",
       "<rect x=\"0.0\" y=\"-200.0\" width=\"2.5\" height=\"25.0\" opacity=\"0.9818271119842819\" fill=\"currentColor\" stroke-width=\"0.1\"/>\n",
       "<rect x=\"2.5000000000000004\" y=\"-200.0\" width=\"7.5\" height=\"25.0\" opacity=\"0.945890635232481\" fill=\"currentColor\" stroke-width=\"0.1\"/>\n",
       "<rect x=\"10.000000000000002\" y=\"-200.0\" width=\"12.5\" height=\"25.0\" opacity=\"0.786591355599214\" fill=\"currentColor\" stroke-width=\"0.1\"/>\n",
       "<rect x=\"22.499999999999993\" y=\"-200.0\" width=\"17.5\" height=\"25.0\" opacity=\"0.4535854616895868\" fill=\"currentColor\" stroke-width=\"0.1\"/>\n",
       "<rect x=\"40.00000000000001\" y=\"-200.0\" width=\"22.5\" height=\"25.0\" opacity=\"0.13324055882994973\" fill=\"currentColor\" stroke-width=\"0.1\"/>\n",
       "<rect x=\"62.5\" y=\"-200.0\" width=\"27.5\" height=\"25.0\" opacity=\"0.013685479549919631\" fill=\"currentColor\" stroke-width=\"0.1\"/>\n",
       "<rect x=\"89.99999999999997\" y=\"-200.0\" width=\"32.5\" height=\"25.0\" opacity=\"0.00024557956777996036\" fill=\"currentColor\" stroke-width=\"0.1\"/>\n",
       "<rect x=\"122.49999999999999\" y=\"-200.0\" width=\"37.5\" height=\"25.0\" opacity=\"0.0\" fill=\"currentColor\" stroke-width=\"0.1\"/>\n",
       "<rect x=\"160.00000000000003\" y=\"-200.0\" width=\"42.5\" height=\"25.0\" opacity=\"0.0\" fill=\"currentColor\" stroke-width=\"0.1\"/>\n",
       "<rect x=\"202.5\" y=\"-200.0\" width=\"47.5\" height=\"25.0\" opacity=\"0.0\" fill=\"currentColor\" stroke-width=\"0.1\"/>\n",
       "<rect x=\"0.0\" y=\"-225.0\" width=\"2.5\" height=\"25.0\" opacity=\"0.9778978388998035\" fill=\"currentColor\" stroke-width=\"0.1\"/>\n",
       "<rect x=\"2.5000000000000004\" y=\"-225.0\" width=\"7.5\" height=\"25.0\" opacity=\"0.9296823837590047\" fill=\"currentColor\" stroke-width=\"0.1\"/>\n",
       "<rect x=\"10.000000000000002\" y=\"-225.0\" width=\"12.5\" height=\"25.0\" opacity=\"0.7888506876227904\" fill=\"currentColor\" stroke-width=\"0.1\"/>\n",
       "<rect x=\"22.499999999999993\" y=\"-225.0\" width=\"17.5\" height=\"25.0\" opacity=\"0.46481195621667115\" fill=\"currentColor\" stroke-width=\"0.1\"/>\n",
       "<rect x=\"40.00000000000001\" y=\"-225.0\" width=\"22.5\" height=\"25.0\" opacity=\"0.13122134905042576\" fill=\"currentColor\" stroke-width=\"0.1\"/>\n",
       "<rect x=\"62.5\" y=\"-225.0\" width=\"27.5\" height=\"25.0\" opacity=\"0.013663154134666922\" fill=\"currentColor\" stroke-width=\"0.1\"/>\n",
       "<rect x=\"89.99999999999997\" y=\"-225.0\" width=\"32.5\" height=\"25.0\" opacity=\"0.0002455795677799607\" fill=\"currentColor\" stroke-width=\"0.1\"/>\n",
       "<rect x=\"122.49999999999999\" y=\"-225.0\" width=\"37.5\" height=\"25.0\" opacity=\"0.0\" fill=\"currentColor\" stroke-width=\"0.1\"/>\n",
       "<rect x=\"160.00000000000003\" y=\"-225.0\" width=\"42.5\" height=\"25.0\" opacity=\"0.0\" fill=\"currentColor\" stroke-width=\"0.1\"/>\n",
       "<rect x=\"202.5\" y=\"-225.0\" width=\"47.5\" height=\"25.0\" opacity=\"0.0\" fill=\"currentColor\" stroke-width=\"0.1\"/>\n",
       "<rect x=\"0.0\" y=\"-250.0\" width=\"2.5\" height=\"25.0\" opacity=\"0.9835461689587426\" fill=\"currentColor\" stroke-width=\"0.1\"/>\n",
       "<rect x=\"2.5000000000000004\" y=\"-250.0\" width=\"7.5\" height=\"25.0\" opacity=\"0.9444171578258024\" fill=\"currentColor\" stroke-width=\"0.1\"/>\n",
       "<rect x=\"10.000000000000002\" y=\"-250.0\" width=\"12.5\" height=\"25.0\" opacity=\"0.7924361493123778\" fill=\"currentColor\" stroke-width=\"0.1\"/>\n",
       "<rect x=\"22.499999999999993\" y=\"-250.0\" width=\"17.5\" height=\"25.0\" opacity=\"0.4540064552343529\" fill=\"currentColor\" stroke-width=\"0.1\"/>\n",
       "<rect x=\"40.00000000000001\" y=\"-250.0\" width=\"22.5\" height=\"25.0\" opacity=\"0.13086662300807692\" fill=\"currentColor\" stroke-width=\"0.1\"/>\n",
       "<rect x=\"62.5\" y=\"-250.0\" width=\"27.5\" height=\"25.0\" opacity=\"0.012993391677085209\" fill=\"currentColor\" stroke-width=\"0.1\"/>\n",
       "<rect x=\"89.99999999999997\" y=\"-250.0\" width=\"32.5\" height=\"25.0\" opacity=\"0.00028336103974610846\" fill=\"currentColor\" stroke-width=\"0.1\"/>\n",
       "<rect x=\"122.49999999999999\" y=\"-250.0\" width=\"37.5\" height=\"25.0\" opacity=\"0.0\" fill=\"currentColor\" stroke-width=\"0.1\"/>\n",
       "<rect x=\"160.00000000000003\" y=\"-250.0\" width=\"42.5\" height=\"25.0\" opacity=\"0.0\" fill=\"currentColor\" stroke-width=\"0.1\"/>\n",
       "<rect x=\"202.5\" y=\"-250.0\" width=\"47.5\" height=\"25.0\" opacity=\"0.0\" fill=\"currentColor\" stroke-width=\"0.1\"/>\n",
       "</svg>\n",
       "</div>\n",
       "<div style=\"flex=grow:1;\">\n",
       "Regular(10, 0, 10, transform=sqrt, metadata='x', label='Axis 0')<br/>\n",
       "Regular(10, 0, 1, circular=True, metadata='y', label='Axis 1')<br/>\n",
       "<hr style=\"margin-top:.2em; margin-bottom:.2em;\"/>\n",
       "Int64() Σ=500196.0 <em>(1000000.0 with flow)</em>\n",
       "\n",
       "</div>\n",
       "</div>\n",
       "</html>"
      ],
      "text/plain": [
       "Hist(\n",
       "  Regular(10, 0, 10, transform=sqrt, metadata='x', label='Axis 0'),\n",
       "  Regular(10, 0, 1, circular=True, metadata='y', label='Axis 1'),\n",
       "  storage=Int64()) # Sum: 500196.0 (1000000.0 with flow)"
      ]
     },
     "execution_count": 6,
     "metadata": {},
     "output_type": "execute_result"
    }
   ],
   "source": [
    "import hist\n",
    "\n",
    "hist2 = hist.Hist(\n",
    "    hist.axis.Regular(10, 0, 10, metadata=\"x\", transform=hist.axis.transform.sqrt),\n",
    "    hist.axis.Regular(10, 0, 1, circular=True, metadata=\"y\"),\n",
    "    storage=hist.storage.Int64(),\n",
    ")\n",
    "\n",
    "hist2.fill(*vals)"
   ]
  },
  {
   "cell_type": "code",
   "execution_count": 7,
   "id": "b8cf378f-461a-40ee-9440-7dfbb23f8947",
   "metadata": {},
   "outputs": [
    {
     "data": {
      "text/plain": [
       "ColormeshArtists(pcolormesh=<matplotlib.collections.QuadMesh object at 0x7f273b624040>, cbar=<matplotlib.colorbar.Colorbar object at 0x7f273b624520>, text=[])"
      ]
     },
     "execution_count": 7,
     "metadata": {},
     "output_type": "execute_result"
    },
    {
     "data": {
      "image/png": "[encoded data removed]",
      "text/plain": [
       "<Figure size 432x288 with 2 Axes>"
      ]
     },
     "metadata": {
      "needs_background": "light"
     },
     "output_type": "display_data"
    }
   ],
   "source": [
    "hist.Hist.plot(hist2)"
   ]
  }
 ],
 "metadata": {
  "kernelspec": {
   "display_name": "Python 3 (ipykernel)",
   "language": "python",
   "name": "python3"
  },
  "language_info": {
   "codemirror_mode": {
    "name": "ipython",
    "version": 3
   },
   "file_extension": ".py",
   "mimetype": "text/x-python",
   "name": "python",
   "nbconvert_exporter": "python",
   "pygments_lexer": "ipython3",
   "version": "3.10.2"
  }
 },
 "nbformat": 4,
 "nbformat_minor": 5
}
