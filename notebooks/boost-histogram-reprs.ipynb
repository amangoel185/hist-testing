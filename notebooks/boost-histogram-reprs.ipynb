{
 "cells": [
  {
   "cell_type": "code",
   "execution_count": 1,
   "id": "6e7b41c3-622b-4ac3-92a2-f4e675c961a9",
   "metadata": {},
   "outputs": [],
   "source": [
    "import boost_histogram as bh\n",
    "import numpy as np"
   ]
  },
  {
   "cell_type": "code",
   "execution_count": 2,
   "id": "09374b00-b4a1-45ff-bc7b-d89633153307",
   "metadata": {},
   "outputs": [],
   "source": [
    "vals = np.random.normal(size=(2, 1_000_000))"
   ]
  },
  {
   "cell_type": "code",
   "execution_count": 3,
   "id": "ea3cd384-313c-42e2-9d67-1d36b4ea6d5d",
   "metadata": {},
   "outputs": [
    {
     "data": {
      "text/plain": [
       "Histogram(\n",
       "  Regular(10, 0, 10, transform=sqrt, metadata='x'),\n",
       "  Regular(10, 0, 1, circular=True, metadata='y'),\n",
       "  storage=Int64()) # Sum: 500154.0 (1000000.0 with flow)"
      ]
     },
     "execution_count": 3,
     "metadata": {},
     "output_type": "execute_result"
    }
   ],
   "source": [
    "hist = bh.Histogram(\n",
    "    bh.axis.Regular(10, 0, 10, metadata=\"x\", transform=bh.axis.transform.sqrt),\n",
    "    bh.axis.Regular(10, 0, 1, circular=True, metadata=\"y\"),\n",
    "    storage=bh.storage.Int64(),\n",
    ")\n",
    "\n",
    "hist.fill(*vals)"
   ]
  },
  {
   "cell_type": "code",
   "execution_count": 4,
   "id": "bbbbbb79-fc38-4269-8208-336ce9a1b032",
   "metadata": {},
   "outputs": [
    {
     "name": "stdout",
     "output_type": "stream",
     "text": [
      "[[ 3954  3936  3947  4114  4027  4064  3977  3957  3942  3979]\n",
      " [11623 11467 11492 11641 11692 11603 11613 11622 11734 11474]\n",
      " [15822 15843 15832 16253 16149 16068 15979 16094 16009 16039]\n",
      " [12754 12868 13001 12884 13007 12849 13015 13113 12957 12878]\n",
      " [ 4700  4931  4924  4754  4877  4870  4826  4985  4900  4905]\n",
      " [  580   639   609   620   598   616   582   592   625   596]\n",
      " [   15    15    20     9    11    16    19    20    16    12]\n",
      " [    0     0     0     0     0     0     0     0     0     0]\n",
      " [    0     0     0     0     0     0     0     0     0     0]\n",
      " [    0     0     0     0     0     0     0     0     0     0]]\n"
     ]
    }
   ],
   "source": [
    "print(hist.view())"
   ]
  },
  {
   "cell_type": "code",
   "execution_count": 5,
   "id": "79cd4956-b952-4a4b-b0b3-1eb4312adabd",
   "metadata": {},
   "outputs": [
    {
     "data": {
      "text/html": [
       "<html>\n",
       "<div style=\"display:flex; align-items:center;\">\n",
       "<div style=\"width:290px;\">\n",
       "<svg xmlns=\"http://www.w3.org/2000/svg\" viewBox=\"-20 -270 290 290\">\n",
       "<text text-anchor=\"middle\" x=\"0\" y=\"13\" style=\"fill:currentColor;\">\n",
       "0\n",
       "</text>\n",
       "<text text-anchor=\"middle\" x=\"250\" y=\"13\" style=\"fill:currentColor;\">\n",
       "10\n",
       "</text>\n",
       "<text text-anchor=\"middle\" x=\"-10\" y=\"0\" style=\"fill:currentColor;\">\n",
       "0\n",
       "</text>\n",
       "<text text-anchor=\"middle\" x=\"-10\" y=\"-250\" style=\"fill:currentColor;\">\n",
       "1\n",
       "</text>\n",
       "<text text-anchor=\"middle\" x=\"125.0\" y=\"13\" style=\"fill:currentColor;\">\n",
       "Axis 0\n",
       "</text>\n",
       "<text text-anchor=\"middle\" x=\"-10\" y=\"-125.0\" transform=\"rotate(-90,-10,-125.0)\" style=\"fill:currentColor;\">\n",
       "Axis 1\n",
       "</text>\n",
       "<rect x=\"0.0\" y=\"-25.0\" width=\"2.5\" height=\"25.0\" opacity=\"0.9611084103062716\" fill=\"currentColor\" stroke-width=\"0.1\"/>\n",
       "<rect x=\"2.5000000000000004\" y=\"-25.0\" width=\"7.5\" height=\"25.0\" opacity=\"0.9417436396046024\" fill=\"currentColor\" stroke-width=\"0.1\"/>\n",
       "<rect x=\"10.000000000000002\" y=\"-25.0\" width=\"12.5\" height=\"25.0\" opacity=\"0.7691784151677209\" fill=\"currentColor\" stroke-width=\"0.1\"/>\n",
       "<rect x=\"22.499999999999993\" y=\"-25.0\" width=\"17.5\" height=\"25.0\" opacity=\"0.4428779776373359\" fill=\"currentColor\" stroke-width=\"0.1\"/>\n",
       "<rect x=\"40.00000000000001\" y=\"-25.0\" width=\"22.5\" height=\"25.0\" opacity=\"0.12693782747258692\" fill=\"currentColor\" stroke-width=\"0.1\"/>\n",
       "<rect x=\"62.5\" y=\"-25.0\" width=\"27.5\" height=\"25.0\" opacity=\"0.012816546603615166\" fill=\"currentColor\" stroke-width=\"0.1\"/>\n",
       "<rect x=\"89.99999999999997\" y=\"-25.0\" width=\"32.5\" height=\"25.0\" opacity=\"0.0002804681949066976\" fill=\"currentColor\" stroke-width=\"0.1\"/>\n",
       "<rect x=\"122.49999999999999\" y=\"-25.0\" width=\"37.5\" height=\"25.0\" opacity=\"0.0\" fill=\"currentColor\" stroke-width=\"0.1\"/>\n",
       "<rect x=\"160.00000000000003\" y=\"-25.0\" width=\"42.5\" height=\"25.0\" opacity=\"0.0\" fill=\"currentColor\" stroke-width=\"0.1\"/>\n",
       "<rect x=\"202.5\" y=\"-25.0\" width=\"47.5\" height=\"25.0\" opacity=\"0.0\" fill=\"currentColor\" stroke-width=\"0.1\"/>\n",
       "<rect x=\"0.0\" y=\"-50.0\" width=\"2.5\" height=\"25.0\" opacity=\"0.9567331064657271\" fill=\"currentColor\" stroke-width=\"0.1\"/>\n",
       "<rect x=\"2.5000000000000004\" y=\"-50.0\" width=\"7.5\" height=\"25.0\" opacity=\"0.9291038729541407\" fill=\"currentColor\" stroke-width=\"0.1\"/>\n",
       "<rect x=\"10.000000000000002\" y=\"-50.0\" width=\"12.5\" height=\"25.0\" opacity=\"0.7701993193971812\" fill=\"currentColor\" stroke-width=\"0.1\"/>\n",
       "<rect x=\"22.499999999999993\" y=\"-50.0\" width=\"17.5\" height=\"25.0\" opacity=\"0.44683658587401903\" fill=\"currentColor\" stroke-width=\"0.1\"/>\n",
       "<rect x=\"40.00000000000001\" y=\"-50.0\" width=\"22.5\" height=\"25.0\" opacity=\"0.13317668665262258\" fill=\"currentColor\" stroke-width=\"0.1\"/>\n",
       "<rect x=\"62.5\" y=\"-50.0\" width=\"27.5\" height=\"25.0\" opacity=\"0.014120298758120847\" fill=\"currentColor\" stroke-width=\"0.1\"/>\n",
       "<rect x=\"89.99999999999997\" y=\"-50.0\" width=\"32.5\" height=\"25.0\" opacity=\"0.0002804681949066976\" fill=\"currentColor\" stroke-width=\"0.1\"/>\n",
       "<rect x=\"122.49999999999999\" y=\"-50.0\" width=\"37.5\" height=\"25.0\" opacity=\"0.0\" fill=\"currentColor\" stroke-width=\"0.1\"/>\n",
       "<rect x=\"160.00000000000003\" y=\"-50.0\" width=\"42.5\" height=\"25.0\" opacity=\"0.0\" fill=\"currentColor\" stroke-width=\"0.1\"/>\n",
       "<rect x=\"202.5\" y=\"-50.0\" width=\"47.5\" height=\"25.0\" opacity=\"0.0\" fill=\"currentColor\" stroke-width=\"0.1\"/>\n",
       "<rect x=\"0.0\" y=\"-75.0\" width=\"2.5\" height=\"25.0\" opacity=\"0.9594069032571712\" fill=\"currentColor\" stroke-width=\"0.1\"/>\n",
       "<rect x=\"2.5000000000000004\" y=\"-75.0\" width=\"7.5\" height=\"25.0\" opacity=\"0.9311294765840227\" fill=\"currentColor\" stroke-width=\"0.1\"/>\n",
       "<rect x=\"10.000000000000002\" y=\"-75.0\" width=\"12.5\" height=\"25.0\" opacity=\"0.7696645600388926\" fill=\"currentColor\" stroke-width=\"0.1\"/>\n",
       "<rect x=\"22.499999999999993\" y=\"-75.0\" width=\"17.5\" height=\"25.0\" opacity=\"0.4514549621501494\" fill=\"currentColor\" stroke-width=\"0.1\"/>\n",
       "<rect x=\"40.00000000000001\" y=\"-75.0\" width=\"22.5\" height=\"25.0\" opacity=\"0.13298763031383365\" fill=\"currentColor\" stroke-width=\"0.1\"/>\n",
       "<rect x=\"62.5\" y=\"-75.0\" width=\"27.5\" height=\"25.0\" opacity=\"0.01345737393379593\" fill=\"currentColor\" stroke-width=\"0.1\"/>\n",
       "<rect x=\"89.99999999999997\" y=\"-75.0\" width=\"32.5\" height=\"25.0\" opacity=\"0.0003739575932089303\" fill=\"currentColor\" stroke-width=\"0.1\"/>\n",
       "<rect x=\"122.49999999999999\" y=\"-75.0\" width=\"37.5\" height=\"25.0\" opacity=\"0.0\" fill=\"currentColor\" stroke-width=\"0.1\"/>\n",
       "<rect x=\"160.00000000000003\" y=\"-75.0\" width=\"42.5\" height=\"25.0\" opacity=\"0.0\" fill=\"currentColor\" stroke-width=\"0.1\"/>\n",
       "<rect x=\"202.5\" y=\"-75.0\" width=\"47.5\" height=\"25.0\" opacity=\"0.0\" fill=\"currentColor\" stroke-width=\"0.1\"/>\n",
       "<rect x=\"0.0\" y=\"-100.0\" width=\"2.5\" height=\"25.0\" opacity=\"1.0\" fill=\"currentColor\" stroke-width=\"0.1\"/>\n",
       "<rect x=\"2.5000000000000004\" y=\"-100.0\" width=\"7.5\" height=\"25.0\" opacity=\"0.943202074218117\" fill=\"currentColor\" stroke-width=\"0.1\"/>\n",
       "<rect x=\"10.000000000000002\" y=\"-100.0\" width=\"12.5\" height=\"25.0\" opacity=\"0.790131259115217\" fill=\"currentColor\" stroke-width=\"0.1\"/>\n",
       "<rect x=\"22.499999999999993\" y=\"-100.0\" width=\"17.5\" height=\"25.0\" opacity=\"0.4473921800125007\" fill=\"currentColor\" stroke-width=\"0.1\"/>\n",
       "<rect x=\"40.00000000000001\" y=\"-100.0\" width=\"22.5\" height=\"25.0\" opacity=\"0.12839626208610172\" fill=\"currentColor\" stroke-width=\"0.1\"/>\n",
       "<rect x=\"62.5\" y=\"-100.0\" width=\"27.5\" height=\"25.0\" opacity=\"0.013700446369381726\" fill=\"currentColor\" stroke-width=\"0.1\"/>\n",
       "<rect x=\"89.99999999999997\" y=\"-100.0\" width=\"32.5\" height=\"25.0\" opacity=\"0.00016828091694401853\" fill=\"currentColor\" stroke-width=\"0.1\"/>\n",
       "<rect x=\"122.49999999999999\" y=\"-100.0\" width=\"37.5\" height=\"25.0\" opacity=\"0.0\" fill=\"currentColor\" stroke-width=\"0.1\"/>\n",
       "<rect x=\"160.00000000000003\" y=\"-100.0\" width=\"42.5\" height=\"25.0\" opacity=\"0.0\" fill=\"currentColor\" stroke-width=\"0.1\"/>\n",
       "<rect x=\"202.5\" y=\"-100.0\" width=\"47.5\" height=\"25.0\" opacity=\"0.0\" fill=\"currentColor\" stroke-width=\"0.1\"/>\n",
       "<rect x=\"0.0\" y=\"-125.0\" width=\"2.5\" height=\"25.0\" opacity=\"0.9788526981040355\" fill=\"currentColor\" stroke-width=\"0.1\"/>\n",
       "<rect x=\"2.5000000000000004\" y=\"-125.0\" width=\"7.5\" height=\"25.0\" opacity=\"0.9473343056230763\" fill=\"currentColor\" stroke-width=\"0.1\"/>\n",
       "<rect x=\"10.000000000000002\" y=\"-125.0\" width=\"12.5\" height=\"25.0\" opacity=\"0.7850753524550327\" fill=\"currentColor\" stroke-width=\"0.1\"/>\n",
       "<rect x=\"22.499999999999993\" y=\"-125.0\" width=\"17.5\" height=\"25.0\" opacity=\"0.45166330995208004\" fill=\"currentColor\" stroke-width=\"0.1\"/>\n",
       "<rect x=\"40.00000000000001\" y=\"-125.0\" width=\"22.5\" height=\"25.0\" opacity=\"0.13171825203910778\" fill=\"currentColor\" stroke-width=\"0.1\"/>\n",
       "<rect x=\"62.5\" y=\"-125.0\" width=\"27.5\" height=\"25.0\" opacity=\"0.013214301498210127\" fill=\"currentColor\" stroke-width=\"0.1\"/>\n",
       "<rect x=\"89.99999999999997\" y=\"-125.0\" width=\"32.5\" height=\"25.0\" opacity=\"0.00020567667626491162\" fill=\"currentColor\" stroke-width=\"0.1\"/>\n",
       "<rect x=\"122.49999999999999\" y=\"-125.0\" width=\"37.5\" height=\"25.0\" opacity=\"0.0\" fill=\"currentColor\" stroke-width=\"0.1\"/>\n",
       "<rect x=\"160.00000000000003\" y=\"-125.0\" width=\"42.5\" height=\"25.0\" opacity=\"0.0\" fill=\"currentColor\" stroke-width=\"0.1\"/>\n",
       "<rect x=\"202.5\" y=\"-125.0\" width=\"47.5\" height=\"25.0\" opacity=\"0.0\" fill=\"currentColor\" stroke-width=\"0.1\"/>\n",
       "<rect x=\"0.0\" y=\"-150.0\" width=\"2.5\" height=\"25.0\" opacity=\"0.9878463782207103\" fill=\"currentColor\" stroke-width=\"0.1\"/>\n",
       "<rect x=\"2.5000000000000004\" y=\"-150.0\" width=\"7.5\" height=\"25.0\" opacity=\"0.9401231567006975\" fill=\"currentColor\" stroke-width=\"0.1\"/>\n",
       "<rect x=\"10.000000000000002\" y=\"-150.0\" width=\"12.5\" height=\"25.0\" opacity=\"0.7811375789985426\" fill=\"currentColor\" stroke-width=\"0.1\"/>\n",
       "<rect x=\"22.499999999999993\" y=\"-150.0\" width=\"17.5\" height=\"25.0\" opacity=\"0.4461768178345719\" fill=\"currentColor\" stroke-width=\"0.1\"/>\n",
       "<rect x=\"40.00000000000001\" y=\"-150.0\" width=\"22.5\" height=\"25.0\" opacity=\"0.13152919570031885\" fill=\"currentColor\" stroke-width=\"0.1\"/>\n",
       "<rect x=\"62.5\" y=\"-150.0\" width=\"27.5\" height=\"25.0\" opacity=\"0.013612056392805081\" fill=\"currentColor\" stroke-width=\"0.1\"/>\n",
       "<rect x=\"89.99999999999997\" y=\"-150.0\" width=\"32.5\" height=\"25.0\" opacity=\"0.0002991660745671442\" fill=\"currentColor\" stroke-width=\"0.1\"/>\n",
       "<rect x=\"122.49999999999999\" y=\"-150.0\" width=\"37.5\" height=\"25.0\" opacity=\"0.0\" fill=\"currentColor\" stroke-width=\"0.1\"/>\n",
       "<rect x=\"160.00000000000003\" y=\"-150.0\" width=\"42.5\" height=\"25.0\" opacity=\"0.0\" fill=\"currentColor\" stroke-width=\"0.1\"/>\n",
       "<rect x=\"202.5\" y=\"-150.0\" width=\"47.5\" height=\"25.0\" opacity=\"0.0\" fill=\"currentColor\" stroke-width=\"0.1\"/>\n",
       "<rect x=\"0.0\" y=\"-175.0\" width=\"2.5\" height=\"25.0\" opacity=\"0.9666990763247453\" fill=\"currentColor\" stroke-width=\"0.1\"/>\n",
       "<rect x=\"2.5000000000000004\" y=\"-175.0\" width=\"7.5\" height=\"25.0\" opacity=\"0.9409333981526501\" fill=\"currentColor\" stroke-width=\"0.1\"/>\n",
       "<rect x=\"10.000000000000002\" y=\"-175.0\" width=\"12.5\" height=\"25.0\" opacity=\"0.7768108896451154\" fill=\"currentColor\" stroke-width=\"0.1\"/>\n",
       "<rect x=\"22.499999999999993\" y=\"-175.0\" width=\"17.5\" height=\"25.0\" opacity=\"0.451941107021321\" fill=\"currentColor\" stroke-width=\"0.1\"/>\n",
       "<rect x=\"40.00000000000001\" y=\"-175.0\" width=\"22.5\" height=\"25.0\" opacity=\"0.13034084157078824\" fill=\"currentColor\" stroke-width=\"0.1\"/>\n",
       "<rect x=\"62.5\" y=\"-175.0\" width=\"27.5\" height=\"25.0\" opacity=\"0.0128607415919035\" fill=\"currentColor\" stroke-width=\"0.1\"/>\n",
       "<rect x=\"89.99999999999997\" y=\"-175.0\" width=\"32.5\" height=\"25.0\" opacity=\"0.0003552597135484837\" fill=\"currentColor\" stroke-width=\"0.1\"/>\n",
       "<rect x=\"122.49999999999999\" y=\"-175.0\" width=\"37.5\" height=\"25.0\" opacity=\"0.0\" fill=\"currentColor\" stroke-width=\"0.1\"/>\n",
       "<rect x=\"160.00000000000003\" y=\"-175.0\" width=\"42.5\" height=\"25.0\" opacity=\"0.0\" fill=\"currentColor\" stroke-width=\"0.1\"/>\n",
       "<rect x=\"202.5\" y=\"-175.0\" width=\"47.5\" height=\"25.0\" opacity=\"0.0\" fill=\"currentColor\" stroke-width=\"0.1\"/>\n",
       "<rect x=\"0.0\" y=\"-200.0\" width=\"2.5\" height=\"25.0\" opacity=\"0.9618376276130282\" fill=\"currentColor\" stroke-width=\"0.1\"/>\n",
       "<rect x=\"2.5000000000000004\" y=\"-200.0\" width=\"7.5\" height=\"25.0\" opacity=\"0.9416626154594064\" fill=\"currentColor\" stroke-width=\"0.1\"/>\n",
       "<rect x=\"10.000000000000002\" y=\"-200.0\" width=\"12.5\" height=\"25.0\" opacity=\"0.7824015556635879\" fill=\"currentColor\" stroke-width=\"0.1\"/>\n",
       "<rect x=\"22.499999999999993\" y=\"-200.0\" width=\"17.5\" height=\"25.0\" opacity=\"0.4553441211195218\" fill=\"currentColor\" stroke-width=\"0.1\"/>\n",
       "<rect x=\"40.00000000000001\" y=\"-200.0\" width=\"22.5\" height=\"25.0\" opacity=\"0.1346351212661373\" fill=\"currentColor\" stroke-width=\"0.1\"/>\n",
       "<rect x=\"62.5\" y=\"-200.0\" width=\"27.5\" height=\"25.0\" opacity=\"0.013081716533345127\" fill=\"currentColor\" stroke-width=\"0.1\"/>\n",
       "<rect x=\"89.99999999999997\" y=\"-200.0\" width=\"32.5\" height=\"25.0\" opacity=\"0.0003739575932089298\" fill=\"currentColor\" stroke-width=\"0.1\"/>\n",
       "<rect x=\"122.49999999999999\" y=\"-200.0\" width=\"37.5\" height=\"25.0\" opacity=\"0.0\" fill=\"currentColor\" stroke-width=\"0.1\"/>\n",
       "<rect x=\"160.00000000000003\" y=\"-200.0\" width=\"42.5\" height=\"25.0\" opacity=\"0.0\" fill=\"currentColor\" stroke-width=\"0.1\"/>\n",
       "<rect x=\"202.5\" y=\"-200.0\" width=\"47.5\" height=\"25.0\" opacity=\"0.0\" fill=\"currentColor\" stroke-width=\"0.1\"/>\n",
       "<rect x=\"0.0\" y=\"-225.0\" width=\"2.5\" height=\"25.0\" opacity=\"0.9581915410792421\" fill=\"currentColor\" stroke-width=\"0.1\"/>\n",
       "<rect x=\"2.5000000000000004\" y=\"-225.0\" width=\"7.5\" height=\"25.0\" opacity=\"0.9507373197212775\" fill=\"currentColor\" stroke-width=\"0.1\"/>\n",
       "<rect x=\"10.000000000000002\" y=\"-225.0\" width=\"12.5\" height=\"25.0\" opacity=\"0.7782693242586302\" fill=\"currentColor\" stroke-width=\"0.1\"/>\n",
       "<rect x=\"22.499999999999993\" y=\"-225.0\" width=\"17.5\" height=\"25.0\" opacity=\"0.4499270782693243\" fill=\"currentColor\" stroke-width=\"0.1\"/>\n",
       "<rect x=\"40.00000000000001\" y=\"-225.0\" width=\"22.5\" height=\"25.0\" opacity=\"0.1323394371522715\" fill=\"currentColor\" stroke-width=\"0.1\"/>\n",
       "<rect x=\"62.5\" y=\"-225.0\" width=\"27.5\" height=\"25.0\" opacity=\"0.013810933840102558\" fill=\"currentColor\" stroke-width=\"0.1\"/>\n",
       "<rect x=\"89.99999999999997\" y=\"-225.0\" width=\"32.5\" height=\"25.0\" opacity=\"0.0002991660745671442\" fill=\"currentColor\" stroke-width=\"0.1\"/>\n",
       "<rect x=\"122.49999999999999\" y=\"-225.0\" width=\"37.5\" height=\"25.0\" opacity=\"0.0\" fill=\"currentColor\" stroke-width=\"0.1\"/>\n",
       "<rect x=\"160.00000000000003\" y=\"-225.0\" width=\"42.5\" height=\"25.0\" opacity=\"0.0\" fill=\"currentColor\" stroke-width=\"0.1\"/>\n",
       "<rect x=\"202.5\" y=\"-225.0\" width=\"47.5\" height=\"25.0\" opacity=\"0.0\" fill=\"currentColor\" stroke-width=\"0.1\"/>\n",
       "<rect x=\"0.0\" y=\"-250.0\" width=\"2.5\" height=\"25.0\" opacity=\"0.967185221195917\" fill=\"currentColor\" stroke-width=\"0.1\"/>\n",
       "<rect x=\"2.5000000000000004\" y=\"-250.0\" width=\"7.5\" height=\"25.0\" opacity=\"0.9296710419705079\" fill=\"currentColor\" stroke-width=\"0.1\"/>\n",
       "<rect x=\"10.000000000000002\" y=\"-250.0\" width=\"12.5\" height=\"25.0\" opacity=\"0.779727758872145\" fill=\"currentColor\" stroke-width=\"0.1\"/>\n",
       "<rect x=\"22.499999999999993\" y=\"-250.0\" width=\"17.5\" height=\"25.0\" opacity=\"0.44718383221057023\" fill=\"currentColor\" stroke-width=\"0.1\"/>\n",
       "<rect x=\"40.00000000000001\" y=\"-250.0\" width=\"22.5\" height=\"25.0\" opacity=\"0.13247447739426363\" fill=\"currentColor\" stroke-width=\"0.1\"/>\n",
       "<rect x=\"62.5\" y=\"-250.0\" width=\"27.5\" height=\"25.0\" opacity=\"0.013170106509921798\" fill=\"currentColor\" stroke-width=\"0.1\"/>\n",
       "<rect x=\"89.99999999999997\" y=\"-250.0\" width=\"32.5\" height=\"25.0\" opacity=\"0.00022437455592535816\" fill=\"currentColor\" stroke-width=\"0.1\"/>\n",
       "<rect x=\"122.49999999999999\" y=\"-250.0\" width=\"37.5\" height=\"25.0\" opacity=\"0.0\" fill=\"currentColor\" stroke-width=\"0.1\"/>\n",
       "<rect x=\"160.00000000000003\" y=\"-250.0\" width=\"42.5\" height=\"25.0\" opacity=\"0.0\" fill=\"currentColor\" stroke-width=\"0.1\"/>\n",
       "<rect x=\"202.5\" y=\"-250.0\" width=\"47.5\" height=\"25.0\" opacity=\"0.0\" fill=\"currentColor\" stroke-width=\"0.1\"/>\n",
       "</svg>\n",
       "</div>\n",
       "<div style=\"flex=grow:1;\">\n",
       "Regular(10, 0, 10, transform=sqrt, metadata='x', label='Axis 0')<br/>\n",
       "Regular(10, 0, 1, circular=True, metadata='y', label='Axis 1')<br/>\n",
       "<hr style=\"margin-top:.2em; margin-bottom:.2em;\"/>\n",
       "Int64() Σ=500154.0 <em>(1000000.0 with flow)</em>\n",
       "\n",
       "</div>\n",
       "</div>\n",
       "</html>"
      ],
      "text/plain": [
       "Hist(\n",
       "  Regular(10, 0, 10, transform=sqrt, metadata='x', label='Axis 0'),\n",
       "  Regular(10, 0, 1, circular=True, metadata='y', label='Axis 1'),\n",
       "  storage=Int64()) # Sum: 500154.0 (1000000.0 with flow)"
      ]
     },
     "execution_count": 5,
     "metadata": {},
     "output_type": "execute_result"
    }
   ],
   "source": [
    "import hist\n",
    "hist2 = hist.Hist(\n",
    "    hist.axis.Regular(10, 0, 10, metadata=\"x\", transform=bh.axis.transform.sqrt),\n",
    "    hist.axis.Regular(10, 0, 1, circular=True, metadata=\"y\"),\n",
    "    storage=bh.storage.Int64(),\n",
    ")\n",
    "\n",
    "hist2.fill(*vals)"
   ]
  },
  {
   "cell_type": "code",
   "execution_count": 6,
   "id": "b8cf378f-461a-40ee-9440-7dfbb23f8947",
   "metadata": {},
   "outputs": [
    {
     "data": {
      "text/plain": [
       "ColormeshArtists(pcolormesh=<matplotlib.collections.QuadMesh object at 0x7fdaf48e7d60>, cbar=<matplotlib.colorbar.Colorbar object at 0x7fdaf2728280>, text=[])"
      ]
     },
     "execution_count": 6,
     "metadata": {},
     "output_type": "execute_result"
    },
    {
     "data": {
      "image/png": "[encoded data removed]",
      "text/plain": [
       "<Figure size 432x288 with 2 Axes>"
      ]
     },
     "metadata": {
      "needs_background": "light"
     },
     "output_type": "display_data"
    }
   ],
   "source": [
    "hist.Hist.plot(hist2)"
   ]
  }
 ],
 "metadata": {
  "kernelspec": {
   "display_name": "Python 3 (ipykernel)",
   "language": "python",
   "name": "python3"
  },
  "language_info": {
   "codemirror_mode": {
    "name": "ipython",
    "version": 3
   },
   "file_extension": ".py",
   "mimetype": "text/x-python",
   "name": "python",
   "nbconvert_exporter": "python",
   "pygments_lexer": "ipython3",
   "version": "3.10.2"
  }
 },
 "nbformat": 4,
 "nbformat_minor": 5
}
